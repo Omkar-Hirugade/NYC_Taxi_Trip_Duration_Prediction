{
 "cells": [
  {
   "cell_type": "markdown",
   "metadata": {
    "id": "gc1gP_oQ1CXp"
   },
   "source": [
    "# taxi-trip-duration-prediction\n",
    "\n",
    "Use the \"Run\" button to execute the code."
   ]
  },
  {
   "cell_type": "code",
   "execution_count": 2,
   "metadata": {
    "executionInfo": {
     "elapsed": 3922,
     "status": "ok",
     "timestamp": 1656596318351,
     "user": {
      "displayName": "Omkar Hirugade",
      "userId": "16820285763758153216"
     },
     "user_tz": -330
    },
    "id": "YpJio7qM1CXr"
   },
   "outputs": [],
   "source": [
    "!pip install jovian geopy --upgrade --quiet"
   ]
  },
  {
   "cell_type": "code",
   "execution_count": 3,
   "metadata": {
    "executionInfo": {
     "elapsed": 15,
     "status": "ok",
     "timestamp": 1656596318352,
     "user": {
      "displayName": "Omkar Hirugade",
      "userId": "16820285763758153216"
     },
     "user_tz": -330
    },
    "id": "fihph59w1CX0"
   },
   "outputs": [],
   "source": [
    "import jovian"
   ]
  },
  {
   "cell_type": "code",
   "execution_count": 3,
   "metadata": {
    "executionInfo": {
     "elapsed": 12,
     "status": "ok",
     "timestamp": 1656596318352,
     "user": {
      "displayName": "Omkar Hirugade",
      "userId": "16820285763758153216"
     },
     "user_tz": -330
    },
    "id": "_muviwck1CX1"
   },
   "outputs": [],
   "source": []
  },
  {
   "cell_type": "markdown",
   "metadata": {
    "id": "no1ulT7W1CX1"
   },
   "source": [
    "![image.png](attachment:image.png)\n",
    "\n",
    "In this competition, Kaggle is challenging you to build a model that predicts the total ride duration of taxi trips in New York City. Your primary dataset is one released by the NYC Taxi and Limousine Commission, which includes pickup time, geo-coordinates, number of passengers, and several other variables.\n",
    "\n",
    "Longtime Kagglers will recognize that this competition objective is similar to the ECML/PKDD trip time challenge we hosted in 2015. But, this challenge comes with a twist. Instead of awarding prizes to the top finishers on the leaderboard, this playground competition was created to reward collaboration and collective learning.\n",
    "\n",
    "We are encouraging you (with cash prizes!) to publish additional training data that other participants can use for their predictions. We also have designated bi-weekly and final prizes to reward authors of kernels that are particularly insightful or valuable to the community."
   ]
  },
  {
   "cell_type": "markdown",
   "metadata": {
    "id": "aUpklk_31CX1"
   },
   "source": [
    "# Problem Statement\n",
    "\n",
    "The competition dataset is based on the 2016 NYC Yellow Cab trip record data made available in Big Query on Google Cloud Platform. The data was originally published by the NYC Taxi and Limousine Commission (TLC). The data was sampled and cleaned for the purposes of this playground competition. Based on individual trip attributes, participants should predict the duration of each trip in the test set."
   ]
  },
  {
   "cell_type": "markdown",
   "metadata": {
    "id": "EL1obdAf1CX2"
   },
   "source": [
    "# Importing the libraries\n",
    "\n",
    "Before importing let's install all the libraries that are going to be used in the notebook."
   ]
  },
  {
   "cell_type": "code",
   "execution_count": 4,
   "metadata": {
    "executionInfo": {
     "elapsed": 3533,
     "status": "ok",
     "timestamp": 1656596321875,
     "user": {
      "displayName": "Omkar Hirugade",
      "userId": "16820285763758153216"
     },
     "user_tz": -330
    },
    "id": "zR4plJi_1CX2"
   },
   "outputs": [],
   "source": [
    "pip install numpy pandas matplotlib seaborn sklearn opendatasets xgboost --quiet"
   ]
  },
  {
   "cell_type": "code",
   "execution_count": 5,
   "metadata": {
    "executionInfo": {
     "elapsed": 789,
     "status": "ok",
     "timestamp": 1656596322653,
     "user": {
      "displayName": "Omkar Hirugade",
      "userId": "16820285763758153216"
     },
     "user_tz": -330
    },
    "id": "8-_NsWD-1CX3"
   },
   "outputs": [],
   "source": [
    "import os\n",
    "import opendatasets as od\n",
    "import numpy as np\n",
    "import pandas as pd\n",
    "import matplotlib.pyplot as plt\n",
    "import seaborn as sns\n",
    "\n",
    "import warnings\n",
    "warnings.simplefilter('ignore')\n",
    "pd.set_option(\"display.max_columns\", None)"
   ]
  },
  {
   "cell_type": "markdown",
   "metadata": {
    "id": "92AXoVgi1CX4"
   },
   "source": [
    "# Downloading the data\n",
    "We can download the dataset from Kaggle directly within the Jupyter notebook using the opendatasets library.\n",
    "\n",
    "The dataset is available at https://www.kaggle.com/competitions/nyc-taxi-trip-duration/data"
   ]
  },
  {
   "cell_type": "code",
   "execution_count": 6,
   "metadata": {
    "colab": {
     "base_uri": "https://localhost:8080/"
    },
    "executionInfo": {
     "elapsed": 55294,
     "status": "ok",
     "timestamp": 1656596377931,
     "user": {
      "displayName": "Omkar Hirugade",
      "userId": "16820285763758153216"
     },
     "user_tz": -330
    },
    "id": "paI4b3Tk1CX4",
    "outputId": "17239fc2-97bf-4a18-d7da-cda2626b1a9b"
   },
   "outputs": [
    {
     "name": "stdout",
     "output_type": "stream",
     "text": [
      "Please provide your Kaggle credentials to download this dataset. Learn more: http://bit.ly/kaggle-creds\n",
      "Your Kaggle username: omkarhirugade\n",
      "Your Kaggle Key: ··········\n",
      "Downloading nyc-taxi-trip-duration.zip to ./nyc-taxi-trip-duration\n"
     ]
    },
    {
     "name": "stderr",
     "output_type": "stream",
     "text": [
      "100%|██████████| 85.8M/85.8M [00:04<00:00, 19.4MB/s]\n"
     ]
    },
    {
     "name": "stdout",
     "output_type": "stream",
     "text": [
      "\n",
      "Extracting archive ./nyc-taxi-trip-duration/nyc-taxi-trip-duration.zip to ./nyc-taxi-trip-duration\n"
     ]
    }
   ],
   "source": [
    "\n",
    "od.download('https://www.kaggle.com/competitions/nyc-taxi-trip-duration/data') # downloading the dataset by providing the url"
   ]
  },
  {
   "cell_type": "code",
   "execution_count": 7,
   "metadata": {
    "colab": {
     "base_uri": "https://localhost:8080/"
    },
    "executionInfo": {
     "elapsed": 744,
     "status": "ok",
     "timestamp": 1656596378620,
     "user": {
      "displayName": "Omkar Hirugade",
      "userId": "16820285763758153216"
     },
     "user_tz": -330
    },
    "id": "gGGllb2e1CX5",
    "outputId": "4f3c86f1-2650-4ab1-fc7c-cc52eceff0d0"
   },
   "outputs": [
    {
     "data": {
      "text/plain": [
       "['sample_submission.zip', 'test.zip', 'train.zip']"
      ]
     },
     "execution_count": 7,
     "metadata": {},
     "output_type": "execute_result"
    }
   ],
   "source": [
    "os.listdir('nyc-taxi-trip-duration') # list of files in the nyc-taxi-trip-duration directory\n"
   ]
  },
  {
   "cell_type": "code",
   "execution_count": 8,
   "metadata": {
    "executionInfo": {
     "elapsed": 2076,
     "status": "ok",
     "timestamp": 1656596380694,
     "user": {
      "displayName": "Omkar Hirugade",
      "userId": "16820285763758153216"
     },
     "user_tz": -330
    },
    "id": "bGxrRUKA1CX5"
   },
   "outputs": [],
   "source": [
    "import zipfile\n",
    "with zipfile.ZipFile('./nyc-taxi-trip-duration/train.zip', 'r') as zip_ref:\n",
    "    zip_ref.extractall('nyc-taxi-trip-duration')\n"
   ]
  },
  {
   "cell_type": "code",
   "execution_count": 9,
   "metadata": {
    "executionInfo": {
     "elapsed": 600,
     "status": "ok",
     "timestamp": 1656596381288,
     "user": {
      "displayName": "Omkar Hirugade",
      "userId": "16820285763758153216"
     },
     "user_tz": -330
    },
    "id": "lFlDhgd21CX5"
   },
   "outputs": [],
   "source": [
    "with zipfile.ZipFile('./nyc-taxi-trip-duration/test.zip', 'r') as zip_ref:\n",
    "    zip_ref.extractall('nyc-taxi-trip-duration')\n"
   ]
  },
  {
   "cell_type": "code",
   "execution_count": 10,
   "metadata": {
    "executionInfo": {
     "elapsed": 39,
     "status": "ok",
     "timestamp": 1656596381290,
     "user": {
      "displayName": "Omkar Hirugade",
      "userId": "16820285763758153216"
     },
     "user_tz": -330
    },
    "id": "GXC6nwv51CX6"
   },
   "outputs": [],
   "source": [
    "with zipfile.ZipFile('./nyc-taxi-trip-duration/sample_submission.zip', 'r') as zip_ref:\n",
    "    zip_ref.extractall('nyc-taxi-trip-duration')\n"
   ]
  },
  {
   "cell_type": "markdown",
   "metadata": {
    "id": "Y5l6-Jl81CX6"
   },
   "source": [
    "# Reading the dataset"
   ]
  },
  {
   "cell_type": "code",
   "execution_count": 11,
   "metadata": {
    "executionInfo": {
     "elapsed": 40,
     "status": "ok",
     "timestamp": 1656596381291,
     "user": {
      "displayName": "Omkar Hirugade",
      "userId": "16820285763758153216"
     },
     "user_tz": -330
    },
    "id": "CEmPdw4H1CX6"
   },
   "outputs": [],
   "source": [
    "train_df=pd.read_csv('./nyc-taxi-trip-duration/train.csv',nrows=100)\n",
    "test_df=pd.read_csv('./nyc-taxi-trip-duration/test.csv',nrows=20)"
   ]
  },
  {
   "cell_type": "code",
   "execution_count": 12,
   "metadata": {
    "colab": {
     "base_uri": "https://localhost:8080/",
     "height": 0
    },
    "executionInfo": {
     "elapsed": 40,
     "status": "ok",
     "timestamp": 1656596381292,
     "user": {
      "displayName": "Omkar Hirugade",
      "userId": "16820285763758153216"
     },
     "user_tz": -330
    },
    "id": "K6tORxp21CX6",
    "outputId": "22909a3a-ccdb-4cad-b309-4ee0b44f8758"
   },
   "outputs": [
    {
     "data": {
      "text/html": [
       "\n",
       "  <div id=\"df-f94836e7-29b0-4503-9b03-f44a72a9e90a\">\n",
       "    <div class=\"colab-df-container\">\n",
       "      <div>\n",
       "<style scoped>\n",
       "    .dataframe tbody tr th:only-of-type {\n",
       "        vertical-align: middle;\n",
       "    }\n",
       "\n",
       "    .dataframe tbody tr th {\n",
       "        vertical-align: top;\n",
       "    }\n",
       "\n",
       "    .dataframe thead th {\n",
       "        text-align: right;\n",
       "    }\n",
       "</style>\n",
       "<table border=\"1\" class=\"dataframe\">\n",
       "  <thead>\n",
       "    <tr style=\"text-align: right;\">\n",
       "      <th></th>\n",
       "      <th>id</th>\n",
       "      <th>vendor_id</th>\n",
       "      <th>pickup_datetime</th>\n",
       "      <th>dropoff_datetime</th>\n",
       "      <th>passenger_count</th>\n",
       "      <th>pickup_longitude</th>\n",
       "      <th>pickup_latitude</th>\n",
       "      <th>dropoff_longitude</th>\n",
       "      <th>dropoff_latitude</th>\n",
       "      <th>store_and_fwd_flag</th>\n",
       "      <th>trip_duration</th>\n",
       "    </tr>\n",
       "  </thead>\n",
       "  <tbody>\n",
       "    <tr>\n",
       "      <th>0</th>\n",
       "      <td>id2875421</td>\n",
       "      <td>2</td>\n",
       "      <td>2016-03-14 17:24:55</td>\n",
       "      <td>2016-03-14 17:32:30</td>\n",
       "      <td>1</td>\n",
       "      <td>-73.982155</td>\n",
       "      <td>40.767937</td>\n",
       "      <td>-73.964630</td>\n",
       "      <td>40.765602</td>\n",
       "      <td>N</td>\n",
       "      <td>455</td>\n",
       "    </tr>\n",
       "    <tr>\n",
       "      <th>1</th>\n",
       "      <td>id2377394</td>\n",
       "      <td>1</td>\n",
       "      <td>2016-06-12 00:43:35</td>\n",
       "      <td>2016-06-12 00:54:38</td>\n",
       "      <td>1</td>\n",
       "      <td>-73.980415</td>\n",
       "      <td>40.738564</td>\n",
       "      <td>-73.999481</td>\n",
       "      <td>40.731152</td>\n",
       "      <td>N</td>\n",
       "      <td>663</td>\n",
       "    </tr>\n",
       "    <tr>\n",
       "      <th>2</th>\n",
       "      <td>id3858529</td>\n",
       "      <td>2</td>\n",
       "      <td>2016-01-19 11:35:24</td>\n",
       "      <td>2016-01-19 12:10:48</td>\n",
       "      <td>1</td>\n",
       "      <td>-73.979027</td>\n",
       "      <td>40.763939</td>\n",
       "      <td>-74.005333</td>\n",
       "      <td>40.710087</td>\n",
       "      <td>N</td>\n",
       "      <td>2124</td>\n",
       "    </tr>\n",
       "    <tr>\n",
       "      <th>3</th>\n",
       "      <td>id3504673</td>\n",
       "      <td>2</td>\n",
       "      <td>2016-04-06 19:32:31</td>\n",
       "      <td>2016-04-06 19:39:40</td>\n",
       "      <td>1</td>\n",
       "      <td>-74.010040</td>\n",
       "      <td>40.719971</td>\n",
       "      <td>-74.012268</td>\n",
       "      <td>40.706718</td>\n",
       "      <td>N</td>\n",
       "      <td>429</td>\n",
       "    </tr>\n",
       "    <tr>\n",
       "      <th>4</th>\n",
       "      <td>id2181028</td>\n",
       "      <td>2</td>\n",
       "      <td>2016-03-26 13:30:55</td>\n",
       "      <td>2016-03-26 13:38:10</td>\n",
       "      <td>1</td>\n",
       "      <td>-73.973053</td>\n",
       "      <td>40.793209</td>\n",
       "      <td>-73.972923</td>\n",
       "      <td>40.782520</td>\n",
       "      <td>N</td>\n",
       "      <td>435</td>\n",
       "    </tr>\n",
       "  </tbody>\n",
       "</table>\n",
       "</div>\n",
       "      <button class=\"colab-df-convert\" onclick=\"convertToInteractive('df-f94836e7-29b0-4503-9b03-f44a72a9e90a')\"\n",
       "              title=\"Convert this dataframe to an interactive table.\"\n",
       "              style=\"display:none;\">\n",
       "        \n",
       "  <svg xmlns=\"http://www.w3.org/2000/svg\" height=\"24px\"viewBox=\"0 0 24 24\"\n",
       "       width=\"24px\">\n",
       "    <path d=\"M0 0h24v24H0V0z\" fill=\"none\"/>\n",
       "    <path d=\"M18.56 5.44l.94 2.06.94-2.06 2.06-.94-2.06-.94-.94-2.06-.94 2.06-2.06.94zm-11 1L8.5 8.5l.94-2.06 2.06-.94-2.06-.94L8.5 2.5l-.94 2.06-2.06.94zm10 10l.94 2.06.94-2.06 2.06-.94-2.06-.94-.94-2.06-.94 2.06-2.06.94z\"/><path d=\"M17.41 7.96l-1.37-1.37c-.4-.4-.92-.59-1.43-.59-.52 0-1.04.2-1.43.59L10.3 9.45l-7.72 7.72c-.78.78-.78 2.05 0 2.83L4 21.41c.39.39.9.59 1.41.59.51 0 1.02-.2 1.41-.59l7.78-7.78 2.81-2.81c.8-.78.8-2.07 0-2.86zM5.41 20L4 18.59l7.72-7.72 1.47 1.35L5.41 20z\"/>\n",
       "  </svg>\n",
       "      </button>\n",
       "      \n",
       "  <style>\n",
       "    .colab-df-container {\n",
       "      display:flex;\n",
       "      flex-wrap:wrap;\n",
       "      gap: 12px;\n",
       "    }\n",
       "\n",
       "    .colab-df-convert {\n",
       "      background-color: #E8F0FE;\n",
       "      border: none;\n",
       "      border-radius: 50%;\n",
       "      cursor: pointer;\n",
       "      display: none;\n",
       "      fill: #1967D2;\n",
       "      height: 32px;\n",
       "      padding: 0 0 0 0;\n",
       "      width: 32px;\n",
       "    }\n",
       "\n",
       "    .colab-df-convert:hover {\n",
       "      background-color: #E2EBFA;\n",
       "      box-shadow: 0px 1px 2px rgba(60, 64, 67, 0.3), 0px 1px 3px 1px rgba(60, 64, 67, 0.15);\n",
       "      fill: #174EA6;\n",
       "    }\n",
       "\n",
       "    [theme=dark] .colab-df-convert {\n",
       "      background-color: #3B4455;\n",
       "      fill: #D2E3FC;\n",
       "    }\n",
       "\n",
       "    [theme=dark] .colab-df-convert:hover {\n",
       "      background-color: #434B5C;\n",
       "      box-shadow: 0px 1px 3px 1px rgba(0, 0, 0, 0.15);\n",
       "      filter: drop-shadow(0px 1px 2px rgba(0, 0, 0, 0.3));\n",
       "      fill: #FFFFFF;\n",
       "    }\n",
       "  </style>\n",
       "\n",
       "      <script>\n",
       "        const buttonEl =\n",
       "          document.querySelector('#df-f94836e7-29b0-4503-9b03-f44a72a9e90a button.colab-df-convert');\n",
       "        buttonEl.style.display =\n",
       "          google.colab.kernel.accessAllowed ? 'block' : 'none';\n",
       "\n",
       "        async function convertToInteractive(key) {\n",
       "          const element = document.querySelector('#df-f94836e7-29b0-4503-9b03-f44a72a9e90a');\n",
       "          const dataTable =\n",
       "            await google.colab.kernel.invokeFunction('convertToInteractive',\n",
       "                                                     [key], {});\n",
       "          if (!dataTable) return;\n",
       "\n",
       "          const docLinkHtml = 'Like what you see? Visit the ' +\n",
       "            '<a target=\"_blank\" href=https://colab.research.google.com/notebooks/data_table.ipynb>data table notebook</a>'\n",
       "            + ' to learn more about interactive tables.';\n",
       "          element.innerHTML = '';\n",
       "          dataTable['output_type'] = 'display_data';\n",
       "          await google.colab.output.renderOutput(dataTable, element);\n",
       "          const docLink = document.createElement('div');\n",
       "          docLink.innerHTML = docLinkHtml;\n",
       "          element.appendChild(docLink);\n",
       "        }\n",
       "      </script>\n",
       "    </div>\n",
       "  </div>\n",
       "  "
      ],
      "text/plain": [
       "          id  vendor_id      pickup_datetime     dropoff_datetime  \\\n",
       "0  id2875421          2  2016-03-14 17:24:55  2016-03-14 17:32:30   \n",
       "1  id2377394          1  2016-06-12 00:43:35  2016-06-12 00:54:38   \n",
       "2  id3858529          2  2016-01-19 11:35:24  2016-01-19 12:10:48   \n",
       "3  id3504673          2  2016-04-06 19:32:31  2016-04-06 19:39:40   \n",
       "4  id2181028          2  2016-03-26 13:30:55  2016-03-26 13:38:10   \n",
       "\n",
       "   passenger_count  pickup_longitude  pickup_latitude  dropoff_longitude  \\\n",
       "0                1        -73.982155        40.767937         -73.964630   \n",
       "1                1        -73.980415        40.738564         -73.999481   \n",
       "2                1        -73.979027        40.763939         -74.005333   \n",
       "3                1        -74.010040        40.719971         -74.012268   \n",
       "4                1        -73.973053        40.793209         -73.972923   \n",
       "\n",
       "   dropoff_latitude store_and_fwd_flag  trip_duration  \n",
       "0         40.765602                  N            455  \n",
       "1         40.731152                  N            663  \n",
       "2         40.710087                  N           2124  \n",
       "3         40.706718                  N            429  \n",
       "4         40.782520                  N            435  "
      ]
     },
     "execution_count": 12,
     "metadata": {},
     "output_type": "execute_result"
    }
   ],
   "source": [
    "train_df.head()"
   ]
  },
  {
   "cell_type": "markdown",
   "metadata": {
    "id": "Qg4U9u5i1CX7"
   },
   "source": [
    "# Feature Description:\n",
    "\n",
    "id - a unique identifier for each trip\n",
    "\n",
    "vendor_id - a code indicating the provider associated with the trip record\n",
    "\n",
    "pickup_datetime - date and time when the meter was engaged\n",
    "\n",
    "dropoff_datetime - date and time when the meter was disengaged\n",
    "\n",
    "passenger_count - the number of passengers in the vehicle (driver entered value)\n",
    "\n",
    "pickup_longitude - the longitude where the meter was engaged\n",
    "\n",
    "pickup_latitude - the latitude where the meter was engaged\n",
    "\n",
    "dropoff_longitude - the longitude where the meter was disengaged\n",
    "\n",
    "dropoff_latitude - the latitude where the meter was disengaged\n",
    "\n",
    "store_and_fwd_flag - This flag indicates whether the trip record was held in vehicle memory before sending to the vendor because the vehicle did not have a connection to the server - Y=store and forward; N=not a store and forward trip\n",
    "\n",
    "trip_duration - duration of the trip in seconds"
   ]
  },
  {
   "cell_type": "code",
   "execution_count": 13,
   "metadata": {
    "colab": {
     "base_uri": "https://localhost:8080/"
    },
    "executionInfo": {
     "elapsed": 39,
     "status": "ok",
     "timestamp": 1656596381293,
     "user": {
      "displayName": "Omkar Hirugade",
      "userId": "16820285763758153216"
     },
     "user_tz": -330
    },
    "id": "t1UiZQWW1CX7",
    "outputId": "4b53d213-3751-4f95-c8fc-4590a458fbef"
   },
   "outputs": [
    {
     "name": "stdout",
     "output_type": "stream",
     "text": [
      "<class 'pandas.core.frame.DataFrame'>\n",
      "RangeIndex: 100 entries, 0 to 99\n",
      "Data columns (total 11 columns):\n",
      " #   Column              Non-Null Count  Dtype  \n",
      "---  ------              --------------  -----  \n",
      " 0   id                  100 non-null    object \n",
      " 1   vendor_id           100 non-null    int64  \n",
      " 2   pickup_datetime     100 non-null    object \n",
      " 3   dropoff_datetime    100 non-null    object \n",
      " 4   passenger_count     100 non-null    int64  \n",
      " 5   pickup_longitude    100 non-null    float64\n",
      " 6   pickup_latitude     100 non-null    float64\n",
      " 7   dropoff_longitude   100 non-null    float64\n",
      " 8   dropoff_latitude    100 non-null    float64\n",
      " 9   store_and_fwd_flag  100 non-null    object \n",
      " 10  trip_duration       100 non-null    int64  \n",
      "dtypes: float64(4), int64(3), object(4)\n",
      "memory usage: 8.7+ KB\n"
     ]
    }
   ],
   "source": [
    "train_df.info()"
   ]
  },
  {
   "cell_type": "markdown",
   "metadata": {
    "id": "nBa9wVkH1CX7"
   },
   "source": [
    "Here we have to convert the pickup and dropoff to datetime "
   ]
  },
  {
   "cell_type": "code",
   "execution_count": 14,
   "metadata": {
    "colab": {
     "base_uri": "https://localhost:8080/",
     "height": 0
    },
    "executionInfo": {
     "elapsed": 39,
     "status": "ok",
     "timestamp": 1656596381294,
     "user": {
      "displayName": "Omkar Hirugade",
      "userId": "16820285763758153216"
     },
     "user_tz": -330
    },
    "id": "kG-tA9us1CX7",
    "outputId": "6d9f0c06-efc3-4454-ea78-00be02de7494"
   },
   "outputs": [
    {
     "data": {
      "text/html": [
       "\n",
       "  <div id=\"df-e80db7b5-a5d7-41fe-ba2c-8aa118e8e607\">\n",
       "    <div class=\"colab-df-container\">\n",
       "      <div>\n",
       "<style scoped>\n",
       "    .dataframe tbody tr th:only-of-type {\n",
       "        vertical-align: middle;\n",
       "    }\n",
       "\n",
       "    .dataframe tbody tr th {\n",
       "        vertical-align: top;\n",
       "    }\n",
       "\n",
       "    .dataframe thead th {\n",
       "        text-align: right;\n",
       "    }\n",
       "</style>\n",
       "<table border=\"1\" class=\"dataframe\">\n",
       "  <thead>\n",
       "    <tr style=\"text-align: right;\">\n",
       "      <th></th>\n",
       "      <th>vendor_id</th>\n",
       "      <th>passenger_count</th>\n",
       "      <th>pickup_longitude</th>\n",
       "      <th>pickup_latitude</th>\n",
       "      <th>dropoff_longitude</th>\n",
       "      <th>dropoff_latitude</th>\n",
       "      <th>trip_duration</th>\n",
       "    </tr>\n",
       "  </thead>\n",
       "  <tbody>\n",
       "    <tr>\n",
       "      <th>count</th>\n",
       "      <td>100.000000</td>\n",
       "      <td>100.000000</td>\n",
       "      <td>100.000000</td>\n",
       "      <td>100.000000</td>\n",
       "      <td>100.000000</td>\n",
       "      <td>100.000000</td>\n",
       "      <td>100.000000</td>\n",
       "    </tr>\n",
       "    <tr>\n",
       "      <th>mean</th>\n",
       "      <td>1.480000</td>\n",
       "      <td>1.430000</td>\n",
       "      <td>-73.973521</td>\n",
       "      <td>40.748470</td>\n",
       "      <td>-73.969231</td>\n",
       "      <td>40.747412</td>\n",
       "      <td>984.980000</td>\n",
       "    </tr>\n",
       "    <tr>\n",
       "      <th>std</th>\n",
       "      <td>0.502117</td>\n",
       "      <td>1.027451</td>\n",
       "      <td>0.040302</td>\n",
       "      <td>0.028275</td>\n",
       "      <td>0.043674</td>\n",
       "      <td>0.032011</td>\n",
       "      <td>685.815079</td>\n",
       "    </tr>\n",
       "    <tr>\n",
       "      <th>min</th>\n",
       "      <td>1.000000</td>\n",
       "      <td>1.000000</td>\n",
       "      <td>-74.016327</td>\n",
       "      <td>40.643559</td>\n",
       "      <td>-74.012268</td>\n",
       "      <td>40.641472</td>\n",
       "      <td>57.000000</td>\n",
       "    </tr>\n",
       "    <tr>\n",
       "      <th>25%</th>\n",
       "      <td>1.000000</td>\n",
       "      <td>1.000000</td>\n",
       "      <td>-73.993574</td>\n",
       "      <td>40.737203</td>\n",
       "      <td>-73.995106</td>\n",
       "      <td>40.728586</td>\n",
       "      <td>466.250000</td>\n",
       "    </tr>\n",
       "    <tr>\n",
       "      <th>50%</th>\n",
       "      <td>1.000000</td>\n",
       "      <td>1.000000</td>\n",
       "      <td>-73.981762</td>\n",
       "      <td>40.753716</td>\n",
       "      <td>-73.980652</td>\n",
       "      <td>40.748802</td>\n",
       "      <td>777.000000</td>\n",
       "    </tr>\n",
       "    <tr>\n",
       "      <th>75%</th>\n",
       "      <td>2.000000</td>\n",
       "      <td>1.000000</td>\n",
       "      <td>-73.968266</td>\n",
       "      <td>40.767100</td>\n",
       "      <td>-73.961336</td>\n",
       "      <td>40.765676</td>\n",
       "      <td>1276.250000</td>\n",
       "    </tr>\n",
       "    <tr>\n",
       "      <th>max</th>\n",
       "      <td>2.000000</td>\n",
       "      <td>6.000000</td>\n",
       "      <td>-73.782478</td>\n",
       "      <td>40.806606</td>\n",
       "      <td>-73.788750</td>\n",
       "      <td>40.864029</td>\n",
       "      <td>3528.000000</td>\n",
       "    </tr>\n",
       "  </tbody>\n",
       "</table>\n",
       "</div>\n",
       "      <button class=\"colab-df-convert\" onclick=\"convertToInteractive('df-e80db7b5-a5d7-41fe-ba2c-8aa118e8e607')\"\n",
       "              title=\"Convert this dataframe to an interactive table.\"\n",
       "              style=\"display:none;\">\n",
       "        \n",
       "  <svg xmlns=\"http://www.w3.org/2000/svg\" height=\"24px\"viewBox=\"0 0 24 24\"\n",
       "       width=\"24px\">\n",
       "    <path d=\"M0 0h24v24H0V0z\" fill=\"none\"/>\n",
       "    <path d=\"M18.56 5.44l.94 2.06.94-2.06 2.06-.94-2.06-.94-.94-2.06-.94 2.06-2.06.94zm-11 1L8.5 8.5l.94-2.06 2.06-.94-2.06-.94L8.5 2.5l-.94 2.06-2.06.94zm10 10l.94 2.06.94-2.06 2.06-.94-2.06-.94-.94-2.06-.94 2.06-2.06.94z\"/><path d=\"M17.41 7.96l-1.37-1.37c-.4-.4-.92-.59-1.43-.59-.52 0-1.04.2-1.43.59L10.3 9.45l-7.72 7.72c-.78.78-.78 2.05 0 2.83L4 21.41c.39.39.9.59 1.41.59.51 0 1.02-.2 1.41-.59l7.78-7.78 2.81-2.81c.8-.78.8-2.07 0-2.86zM5.41 20L4 18.59l7.72-7.72 1.47 1.35L5.41 20z\"/>\n",
       "  </svg>\n",
       "      </button>\n",
       "      \n",
       "  <style>\n",
       "    .colab-df-container {\n",
       "      display:flex;\n",
       "      flex-wrap:wrap;\n",
       "      gap: 12px;\n",
       "    }\n",
       "\n",
       "    .colab-df-convert {\n",
       "      background-color: #E8F0FE;\n",
       "      border: none;\n",
       "      border-radius: 50%;\n",
       "      cursor: pointer;\n",
       "      display: none;\n",
       "      fill: #1967D2;\n",
       "      height: 32px;\n",
       "      padding: 0 0 0 0;\n",
       "      width: 32px;\n",
       "    }\n",
       "\n",
       "    .colab-df-convert:hover {\n",
       "      background-color: #E2EBFA;\n",
       "      box-shadow: 0px 1px 2px rgba(60, 64, 67, 0.3), 0px 1px 3px 1px rgba(60, 64, 67, 0.15);\n",
       "      fill: #174EA6;\n",
       "    }\n",
       "\n",
       "    [theme=dark] .colab-df-convert {\n",
       "      background-color: #3B4455;\n",
       "      fill: #D2E3FC;\n",
       "    }\n",
       "\n",
       "    [theme=dark] .colab-df-convert:hover {\n",
       "      background-color: #434B5C;\n",
       "      box-shadow: 0px 1px 3px 1px rgba(0, 0, 0, 0.15);\n",
       "      filter: drop-shadow(0px 1px 2px rgba(0, 0, 0, 0.3));\n",
       "      fill: #FFFFFF;\n",
       "    }\n",
       "  </style>\n",
       "\n",
       "      <script>\n",
       "        const buttonEl =\n",
       "          document.querySelector('#df-e80db7b5-a5d7-41fe-ba2c-8aa118e8e607 button.colab-df-convert');\n",
       "        buttonEl.style.display =\n",
       "          google.colab.kernel.accessAllowed ? 'block' : 'none';\n",
       "\n",
       "        async function convertToInteractive(key) {\n",
       "          const element = document.querySelector('#df-e80db7b5-a5d7-41fe-ba2c-8aa118e8e607');\n",
       "          const dataTable =\n",
       "            await google.colab.kernel.invokeFunction('convertToInteractive',\n",
       "                                                     [key], {});\n",
       "          if (!dataTable) return;\n",
       "\n",
       "          const docLinkHtml = 'Like what you see? Visit the ' +\n",
       "            '<a target=\"_blank\" href=https://colab.research.google.com/notebooks/data_table.ipynb>data table notebook</a>'\n",
       "            + ' to learn more about interactive tables.';\n",
       "          element.innerHTML = '';\n",
       "          dataTable['output_type'] = 'display_data';\n",
       "          await google.colab.output.renderOutput(dataTable, element);\n",
       "          const docLink = document.createElement('div');\n",
       "          docLink.innerHTML = docLinkHtml;\n",
       "          element.appendChild(docLink);\n",
       "        }\n",
       "      </script>\n",
       "    </div>\n",
       "  </div>\n",
       "  "
      ],
      "text/plain": [
       "        vendor_id  passenger_count  pickup_longitude  pickup_latitude  \\\n",
       "count  100.000000       100.000000        100.000000       100.000000   \n",
       "mean     1.480000         1.430000        -73.973521        40.748470   \n",
       "std      0.502117         1.027451          0.040302         0.028275   \n",
       "min      1.000000         1.000000        -74.016327        40.643559   \n",
       "25%      1.000000         1.000000        -73.993574        40.737203   \n",
       "50%      1.000000         1.000000        -73.981762        40.753716   \n",
       "75%      2.000000         1.000000        -73.968266        40.767100   \n",
       "max      2.000000         6.000000        -73.782478        40.806606   \n",
       "\n",
       "       dropoff_longitude  dropoff_latitude  trip_duration  \n",
       "count         100.000000        100.000000     100.000000  \n",
       "mean          -73.969231         40.747412     984.980000  \n",
       "std             0.043674          0.032011     685.815079  \n",
       "min           -74.012268         40.641472      57.000000  \n",
       "25%           -73.995106         40.728586     466.250000  \n",
       "50%           -73.980652         40.748802     777.000000  \n",
       "75%           -73.961336         40.765676    1276.250000  \n",
       "max           -73.788750         40.864029    3528.000000  "
      ]
     },
     "execution_count": 14,
     "metadata": {},
     "output_type": "execute_result"
    }
   ],
   "source": [
    "train_df.describe() # descriptive statisitics of train data"
   ]
  },
  {
   "cell_type": "markdown",
   "metadata": {
    "id": "hFuieNpF1CX8"
   },
   "source": [
    "## Converting the Objects into datetime"
   ]
  },
  {
   "cell_type": "code",
   "execution_count": 15,
   "metadata": {
    "executionInfo": {
     "elapsed": 37,
     "status": "ok",
     "timestamp": 1656596381295,
     "user": {
      "displayName": "Omkar Hirugade",
      "userId": "16820285763758153216"
     },
     "user_tz": -330
    },
    "id": "qn958Kgl1CX8"
   },
   "outputs": [],
   "source": [
    "train_df[\"pickup_datetime\"]= pd.to_datetime(train_df[\"pickup_datetime\"])\n",
    "train_df[\"dropoff_datetime\"]= pd.to_datetime(train_df[\"dropoff_datetime\"])"
   ]
  },
  {
   "cell_type": "code",
   "execution_count": 16,
   "metadata": {
    "executionInfo": {
     "elapsed": 37,
     "status": "ok",
     "timestamp": 1656596381296,
     "user": {
      "displayName": "Omkar Hirugade",
      "userId": "16820285763758153216"
     },
     "user_tz": -330
    },
    "id": "x1FRsV0F1CX8"
   },
   "outputs": [],
   "source": [
    "train_df['pickup_day']= train_df[\"pickup_datetime\"].dt.day_name()\n",
    "train_df['dropoff_day']= train_df[\"dropoff_datetime\"].dt.day_name()"
   ]
  },
  {
   "cell_type": "code",
   "execution_count": 17,
   "metadata": {
    "executionInfo": {
     "elapsed": 38,
     "status": "ok",
     "timestamp": 1656596381297,
     "user": {
      "displayName": "Omkar Hirugade",
      "userId": "16820285763758153216"
     },
     "user_tz": -330
    },
    "id": "dIoAXPhM1CX8"
   },
   "outputs": [],
   "source": [
    "train_df['pickup_month']= train_df[\"pickup_datetime\"].dt.month_name()\n",
    "train_df['dropoff_month']= train_df[\"dropoff_datetime\"].dt.month_name()"
   ]
  },
  {
   "cell_type": "code",
   "execution_count": 18,
   "metadata": {
    "executionInfo": {
     "elapsed": 38,
     "status": "ok",
     "timestamp": 1656596381298,
     "user": {
      "displayName": "Omkar Hirugade",
      "userId": "16820285763758153216"
     },
     "user_tz": -330
    },
    "id": "mh7RQdfg1CX9"
   },
   "outputs": [],
   "source": [
    "train_df['pickup_day_no']=train_df['pickup_datetime'].dt.weekday\n",
    "train_df['dropoff_day_no']=train_df['dropoff_datetime'].dt.weekday"
   ]
  },
  {
   "cell_type": "code",
   "execution_count": 19,
   "metadata": {
    "executionInfo": {
     "elapsed": 38,
     "status": "ok",
     "timestamp": 1656596381299,
     "user": {
      "displayName": "Omkar Hirugade",
      "userId": "16820285763758153216"
     },
     "user_tz": -330
    },
    "id": "MmkIFhF11CX9"
   },
   "outputs": [],
   "source": [
    "train_df['pickup_hour']=train_df['pickup_datetime'].dt.hour\n",
    "train_df['dropoff_hour']=train_df['dropoff_datetime'].dt.hour"
   ]
  },
  {
   "cell_type": "markdown",
   "metadata": {
    "id": "5rXZ69JF1CX9"
   },
   "source": [
    "### We have created the following features:\n",
    "\n",
    "pickup_day and dropoff_day which will contain the name of the day on which the ride was taken.\n",
    "\n",
    "pickup_day_no and dropoff_day_no which will contain the day number instead of characters with Monday=0 and Sunday=6.\n",
    "\n",
    "pickup_hour and dropoff_hour with an hour of the day in the 24-hour format.\n",
    "\n",
    "pickup_month and dropoff_month with month number with January=1 and December=12.\n",
    "\n",
    "Next, I have defined a function that lets us determine what time of the day the ride was taken. I have created 4 time zones ‘Morning’ (from 6:00 am to 11:59 pm), ‘Afternoon’ (from 12 noon to 3:59 pm), ‘Evening’ (from 4:00 pm to 9:59 pm), and ‘Late Night’ (from 10:00 pm to 5:59 am)"
   ]
  },
  {
   "cell_type": "code",
   "execution_count": 20,
   "metadata": {
    "executionInfo": {
     "elapsed": 36,
     "status": "ok",
     "timestamp": 1656596381299,
     "user": {
      "displayName": "Omkar Hirugade",
      "userId": "16820285763758153216"
     },
     "user_tz": -330
    },
    "id": "va86f1vn1CX9"
   },
   "outputs": [],
   "source": [
    "def time_of_day(x):\n",
    "    if x in range(6,12):\n",
    "        return 'Morning'\n",
    "    elif x in range(12,16):\n",
    "        return 'Afternoon'\n",
    "    elif x in range(16,22):\n",
    "        return 'Evening'\n",
    "    else:\n",
    "        return 'Late night'"
   ]
  },
  {
   "cell_type": "code",
   "execution_count": 21,
   "metadata": {
    "executionInfo": {
     "elapsed": 36,
     "status": "ok",
     "timestamp": 1656596381300,
     "user": {
      "displayName": "Omkar Hirugade",
      "userId": "16820285763758153216"
     },
     "user_tz": -330
    },
    "id": "vRkS2Sx41CX-"
   },
   "outputs": [],
   "source": [
    "train_df['pickup_timeofday']=train_df['pickup_hour'].apply(time_of_day)\n",
    "train_df['dropoff_timeofday']=train_df['dropoff_hour'].apply(time_of_day)"
   ]
  },
  {
   "cell_type": "markdown",
   "metadata": {
    "id": "hKjA8FlL1CX-"
   },
   "source": [
    "We also saw during dataset exploration that we have coordinates in the form of longitude and latitude for pickup and dropoff. But, we can’t really gather any insights or draw conclusions from that.\n",
    "So, the most obvious feature that we can extract from this is distance. Let us do that.\n",
    "\n",
    "Importing the library which lets us calculate distance from geographical coordinates."
   ]
  },
  {
   "cell_type": "markdown",
   "metadata": {
    "id": "CkmLY9H61CX-"
   },
   "source": [
    "Defining a function to take coordinates as inputs and return us distance.\n",
    "\n"
   ]
  },
  {
   "cell_type": "code",
   "execution_count": 22,
   "metadata": {
    "executionInfo": {
     "elapsed": 37,
     "status": "ok",
     "timestamp": 1656596381301,
     "user": {
      "displayName": "Omkar Hirugade",
      "userId": "16820285763758153216"
     },
     "user_tz": -330
    },
    "id": "4Fb_1TL31CX-"
   },
   "outputs": [],
   "source": [
    "def distance(lat1, lon1, lat2, lon2):\n",
    "  p = 0.017453292519943295 # Pi/180\n",
    "  a = 0.5 - np.cos((lat2 - lat1) * p)/2 + np.cos(lat1 * p) * np.cos(lat2 * p) * (1 - np.cos((lon2 - lon1) * p))/2\n",
    "  return 0.6213712 * 12742 * np.arcsin(np.sqrt(a))"
   ]
  },
  {
   "cell_type": "markdown",
   "metadata": {
    "id": "EUZDgVLy1CX_"
   },
   "source": [
    "Finally, applying the function to our dataset and creating the feature ‘distance’."
   ]
  },
  {
   "cell_type": "code",
   "execution_count": 23,
   "metadata": {
    "executionInfo": {
     "elapsed": 37,
     "status": "ok",
     "timestamp": 1656596381302,
     "user": {
      "displayName": "Omkar Hirugade",
      "userId": "16820285763758153216"
     },
     "user_tz": -330
    },
    "id": "ve3FjcLG1CX_"
   },
   "outputs": [],
   "source": [
    "train_df[\"distance_miles\"] = distance(train_df[\"pickup_latitude\"], train_df[\"pickup_longitude\"], \n",
    "                                      train_df[\"dropoff_latitude\"], train_df[\"dropoff_longitude\"])"
   ]
  },
  {
   "cell_type": "code",
   "execution_count": 24,
   "metadata": {
    "colab": {
     "base_uri": "https://localhost:8080/",
     "height": 0
    },
    "executionInfo": {
     "elapsed": 36,
     "status": "ok",
     "timestamp": 1656596381302,
     "user": {
      "displayName": "Omkar Hirugade",
      "userId": "16820285763758153216"
     },
     "user_tz": -330
    },
    "id": "r5_geyND1CYA",
    "outputId": "69f2881f-ec2c-4b6d-ace1-f62c18656f8a"
   },
   "outputs": [
    {
     "data": {
      "text/html": [
       "\n",
       "  <div id=\"df-7ff535ec-f7ab-4821-aa40-1a10633037f2\">\n",
       "    <div class=\"colab-df-container\">\n",
       "      <div>\n",
       "<style scoped>\n",
       "    .dataframe tbody tr th:only-of-type {\n",
       "        vertical-align: middle;\n",
       "    }\n",
       "\n",
       "    .dataframe tbody tr th {\n",
       "        vertical-align: top;\n",
       "    }\n",
       "\n",
       "    .dataframe thead th {\n",
       "        text-align: right;\n",
       "    }\n",
       "</style>\n",
       "<table border=\"1\" class=\"dataframe\">\n",
       "  <thead>\n",
       "    <tr style=\"text-align: right;\">\n",
       "      <th></th>\n",
       "      <th>id</th>\n",
       "      <th>vendor_id</th>\n",
       "      <th>pickup_datetime</th>\n",
       "      <th>dropoff_datetime</th>\n",
       "      <th>passenger_count</th>\n",
       "      <th>pickup_longitude</th>\n",
       "      <th>pickup_latitude</th>\n",
       "      <th>dropoff_longitude</th>\n",
       "      <th>dropoff_latitude</th>\n",
       "      <th>store_and_fwd_flag</th>\n",
       "      <th>trip_duration</th>\n",
       "      <th>pickup_day</th>\n",
       "      <th>dropoff_day</th>\n",
       "      <th>pickup_month</th>\n",
       "      <th>dropoff_month</th>\n",
       "      <th>pickup_day_no</th>\n",
       "      <th>dropoff_day_no</th>\n",
       "      <th>pickup_hour</th>\n",
       "      <th>dropoff_hour</th>\n",
       "      <th>pickup_timeofday</th>\n",
       "      <th>dropoff_timeofday</th>\n",
       "      <th>distance_miles</th>\n",
       "    </tr>\n",
       "  </thead>\n",
       "  <tbody>\n",
       "    <tr>\n",
       "      <th>0</th>\n",
       "      <td>id2875421</td>\n",
       "      <td>2</td>\n",
       "      <td>2016-03-14 17:24:55</td>\n",
       "      <td>2016-03-14 17:32:30</td>\n",
       "      <td>1</td>\n",
       "      <td>-73.982155</td>\n",
       "      <td>40.767937</td>\n",
       "      <td>-73.964630</td>\n",
       "      <td>40.765602</td>\n",
       "      <td>N</td>\n",
       "      <td>455</td>\n",
       "      <td>Monday</td>\n",
       "      <td>Monday</td>\n",
       "      <td>March</td>\n",
       "      <td>March</td>\n",
       "      <td>0</td>\n",
       "      <td>0</td>\n",
       "      <td>17</td>\n",
       "      <td>17</td>\n",
       "      <td>Evening</td>\n",
       "      <td>Evening</td>\n",
       "      <td>0.931138</td>\n",
       "    </tr>\n",
       "    <tr>\n",
       "      <th>1</th>\n",
       "      <td>id2377394</td>\n",
       "      <td>1</td>\n",
       "      <td>2016-06-12 00:43:35</td>\n",
       "      <td>2016-06-12 00:54:38</td>\n",
       "      <td>1</td>\n",
       "      <td>-73.980415</td>\n",
       "      <td>40.738564</td>\n",
       "      <td>-73.999481</td>\n",
       "      <td>40.731152</td>\n",
       "      <td>N</td>\n",
       "      <td>663</td>\n",
       "      <td>Sunday</td>\n",
       "      <td>Sunday</td>\n",
       "      <td>June</td>\n",
       "      <td>June</td>\n",
       "      <td>6</td>\n",
       "      <td>6</td>\n",
       "      <td>0</td>\n",
       "      <td>0</td>\n",
       "      <td>Late night</td>\n",
       "      <td>Late night</td>\n",
       "      <td>1.121890</td>\n",
       "    </tr>\n",
       "    <tr>\n",
       "      <th>2</th>\n",
       "      <td>id3858529</td>\n",
       "      <td>2</td>\n",
       "      <td>2016-01-19 11:35:24</td>\n",
       "      <td>2016-01-19 12:10:48</td>\n",
       "      <td>1</td>\n",
       "      <td>-73.979027</td>\n",
       "      <td>40.763939</td>\n",
       "      <td>-74.005333</td>\n",
       "      <td>40.710087</td>\n",
       "      <td>N</td>\n",
       "      <td>2124</td>\n",
       "      <td>Tuesday</td>\n",
       "      <td>Tuesday</td>\n",
       "      <td>January</td>\n",
       "      <td>January</td>\n",
       "      <td>1</td>\n",
       "      <td>1</td>\n",
       "      <td>11</td>\n",
       "      <td>12</td>\n",
       "      <td>Morning</td>\n",
       "      <td>Afternoon</td>\n",
       "      <td>3.967516</td>\n",
       "    </tr>\n",
       "    <tr>\n",
       "      <th>3</th>\n",
       "      <td>id3504673</td>\n",
       "      <td>2</td>\n",
       "      <td>2016-04-06 19:32:31</td>\n",
       "      <td>2016-04-06 19:39:40</td>\n",
       "      <td>1</td>\n",
       "      <td>-74.010040</td>\n",
       "      <td>40.719971</td>\n",
       "      <td>-74.012268</td>\n",
       "      <td>40.706718</td>\n",
       "      <td>N</td>\n",
       "      <td>429</td>\n",
       "      <td>Wednesday</td>\n",
       "      <td>Wednesday</td>\n",
       "      <td>April</td>\n",
       "      <td>April</td>\n",
       "      <td>2</td>\n",
       "      <td>2</td>\n",
       "      <td>19</td>\n",
       "      <td>19</td>\n",
       "      <td>Evening</td>\n",
       "      <td>Evening</td>\n",
       "      <td>0.923046</td>\n",
       "    </tr>\n",
       "    <tr>\n",
       "      <th>4</th>\n",
       "      <td>id2181028</td>\n",
       "      <td>2</td>\n",
       "      <td>2016-03-26 13:30:55</td>\n",
       "      <td>2016-03-26 13:38:10</td>\n",
       "      <td>1</td>\n",
       "      <td>-73.973053</td>\n",
       "      <td>40.793209</td>\n",
       "      <td>-73.972923</td>\n",
       "      <td>40.782520</td>\n",
       "      <td>N</td>\n",
       "      <td>435</td>\n",
       "      <td>Saturday</td>\n",
       "      <td>Saturday</td>\n",
       "      <td>March</td>\n",
       "      <td>March</td>\n",
       "      <td>5</td>\n",
       "      <td>5</td>\n",
       "      <td>13</td>\n",
       "      <td>13</td>\n",
       "      <td>Afternoon</td>\n",
       "      <td>Afternoon</td>\n",
       "      <td>0.738555</td>\n",
       "    </tr>\n",
       "    <tr>\n",
       "      <th>...</th>\n",
       "      <td>...</td>\n",
       "      <td>...</td>\n",
       "      <td>...</td>\n",
       "      <td>...</td>\n",
       "      <td>...</td>\n",
       "      <td>...</td>\n",
       "      <td>...</td>\n",
       "      <td>...</td>\n",
       "      <td>...</td>\n",
       "      <td>...</td>\n",
       "      <td>...</td>\n",
       "      <td>...</td>\n",
       "      <td>...</td>\n",
       "      <td>...</td>\n",
       "      <td>...</td>\n",
       "      <td>...</td>\n",
       "      <td>...</td>\n",
       "      <td>...</td>\n",
       "      <td>...</td>\n",
       "      <td>...</td>\n",
       "      <td>...</td>\n",
       "      <td>...</td>\n",
       "    </tr>\n",
       "    <tr>\n",
       "      <th>95</th>\n",
       "      <td>id3025098</td>\n",
       "      <td>2</td>\n",
       "      <td>2016-01-20 19:21:31</td>\n",
       "      <td>2016-01-20 19:31:27</td>\n",
       "      <td>1</td>\n",
       "      <td>-73.976982</td>\n",
       "      <td>40.750301</td>\n",
       "      <td>-73.999123</td>\n",
       "      <td>40.739510</td>\n",
       "      <td>N</td>\n",
       "      <td>596</td>\n",
       "      <td>Wednesday</td>\n",
       "      <td>Wednesday</td>\n",
       "      <td>January</td>\n",
       "      <td>January</td>\n",
       "      <td>2</td>\n",
       "      <td>2</td>\n",
       "      <td>19</td>\n",
       "      <td>19</td>\n",
       "      <td>Evening</td>\n",
       "      <td>Evening</td>\n",
       "      <td>1.378121</td>\n",
       "    </tr>\n",
       "    <tr>\n",
       "      <th>96</th>\n",
       "      <td>id3333094</td>\n",
       "      <td>2</td>\n",
       "      <td>2016-06-02 23:34:00</td>\n",
       "      <td>2016-06-02 23:41:15</td>\n",
       "      <td>1</td>\n",
       "      <td>-73.973465</td>\n",
       "      <td>40.755230</td>\n",
       "      <td>-73.977364</td>\n",
       "      <td>40.742821</td>\n",
       "      <td>N</td>\n",
       "      <td>435</td>\n",
       "      <td>Thursday</td>\n",
       "      <td>Thursday</td>\n",
       "      <td>June</td>\n",
       "      <td>June</td>\n",
       "      <td>3</td>\n",
       "      <td>3</td>\n",
       "      <td>23</td>\n",
       "      <td>23</td>\n",
       "      <td>Late night</td>\n",
       "      <td>Late night</td>\n",
       "      <td>0.881344</td>\n",
       "    </tr>\n",
       "    <tr>\n",
       "      <th>97</th>\n",
       "      <td>id2228940</td>\n",
       "      <td>1</td>\n",
       "      <td>2016-02-04 13:22:02</td>\n",
       "      <td>2016-02-04 13:40:30</td>\n",
       "      <td>1</td>\n",
       "      <td>-73.981865</td>\n",
       "      <td>40.758774</td>\n",
       "      <td>-73.970222</td>\n",
       "      <td>40.784142</td>\n",
       "      <td>N</td>\n",
       "      <td>1108</td>\n",
       "      <td>Thursday</td>\n",
       "      <td>Thursday</td>\n",
       "      <td>February</td>\n",
       "      <td>February</td>\n",
       "      <td>3</td>\n",
       "      <td>3</td>\n",
       "      <td>13</td>\n",
       "      <td>13</td>\n",
       "      <td>Afternoon</td>\n",
       "      <td>Afternoon</td>\n",
       "      <td>1.855594</td>\n",
       "    </tr>\n",
       "    <tr>\n",
       "      <th>98</th>\n",
       "      <td>id2102594</td>\n",
       "      <td>1</td>\n",
       "      <td>2016-03-30 16:14:29</td>\n",
       "      <td>2016-03-30 17:01:33</td>\n",
       "      <td>1</td>\n",
       "      <td>-73.789841</td>\n",
       "      <td>40.643559</td>\n",
       "      <td>-73.970665</td>\n",
       "      <td>40.687279</td>\n",
       "      <td>N</td>\n",
       "      <td>2824</td>\n",
       "      <td>Wednesday</td>\n",
       "      <td>Wednesday</td>\n",
       "      <td>March</td>\n",
       "      <td>March</td>\n",
       "      <td>2</td>\n",
       "      <td>2</td>\n",
       "      <td>16</td>\n",
       "      <td>17</td>\n",
       "      <td>Evening</td>\n",
       "      <td>Evening</td>\n",
       "      <td>9.946651</td>\n",
       "    </tr>\n",
       "    <tr>\n",
       "      <th>99</th>\n",
       "      <td>id0010677</td>\n",
       "      <td>1</td>\n",
       "      <td>2016-04-29 10:40:34</td>\n",
       "      <td>2016-04-29 10:53:23</td>\n",
       "      <td>2</td>\n",
       "      <td>-73.991974</td>\n",
       "      <td>40.749996</td>\n",
       "      <td>-73.977882</td>\n",
       "      <td>40.754894</td>\n",
       "      <td>N</td>\n",
       "      <td>769</td>\n",
       "      <td>Friday</td>\n",
       "      <td>Friday</td>\n",
       "      <td>April</td>\n",
       "      <td>April</td>\n",
       "      <td>4</td>\n",
       "      <td>4</td>\n",
       "      <td>10</td>\n",
       "      <td>10</td>\n",
       "      <td>Morning</td>\n",
       "      <td>Morning</td>\n",
       "      <td>0.811495</td>\n",
       "    </tr>\n",
       "  </tbody>\n",
       "</table>\n",
       "<p>100 rows × 22 columns</p>\n",
       "</div>\n",
       "      <button class=\"colab-df-convert\" onclick=\"convertToInteractive('df-7ff535ec-f7ab-4821-aa40-1a10633037f2')\"\n",
       "              title=\"Convert this dataframe to an interactive table.\"\n",
       "              style=\"display:none;\">\n",
       "        \n",
       "  <svg xmlns=\"http://www.w3.org/2000/svg\" height=\"24px\"viewBox=\"0 0 24 24\"\n",
       "       width=\"24px\">\n",
       "    <path d=\"M0 0h24v24H0V0z\" fill=\"none\"/>\n",
       "    <path d=\"M18.56 5.44l.94 2.06.94-2.06 2.06-.94-2.06-.94-.94-2.06-.94 2.06-2.06.94zm-11 1L8.5 8.5l.94-2.06 2.06-.94-2.06-.94L8.5 2.5l-.94 2.06-2.06.94zm10 10l.94 2.06.94-2.06 2.06-.94-2.06-.94-.94-2.06-.94 2.06-2.06.94z\"/><path d=\"M17.41 7.96l-1.37-1.37c-.4-.4-.92-.59-1.43-.59-.52 0-1.04.2-1.43.59L10.3 9.45l-7.72 7.72c-.78.78-.78 2.05 0 2.83L4 21.41c.39.39.9.59 1.41.59.51 0 1.02-.2 1.41-.59l7.78-7.78 2.81-2.81c.8-.78.8-2.07 0-2.86zM5.41 20L4 18.59l7.72-7.72 1.47 1.35L5.41 20z\"/>\n",
       "  </svg>\n",
       "      </button>\n",
       "      \n",
       "  <style>\n",
       "    .colab-df-container {\n",
       "      display:flex;\n",
       "      flex-wrap:wrap;\n",
       "      gap: 12px;\n",
       "    }\n",
       "\n",
       "    .colab-df-convert {\n",
       "      background-color: #E8F0FE;\n",
       "      border: none;\n",
       "      border-radius: 50%;\n",
       "      cursor: pointer;\n",
       "      display: none;\n",
       "      fill: #1967D2;\n",
       "      height: 32px;\n",
       "      padding: 0 0 0 0;\n",
       "      width: 32px;\n",
       "    }\n",
       "\n",
       "    .colab-df-convert:hover {\n",
       "      background-color: #E2EBFA;\n",
       "      box-shadow: 0px 1px 2px rgba(60, 64, 67, 0.3), 0px 1px 3px 1px rgba(60, 64, 67, 0.15);\n",
       "      fill: #174EA6;\n",
       "    }\n",
       "\n",
       "    [theme=dark] .colab-df-convert {\n",
       "      background-color: #3B4455;\n",
       "      fill: #D2E3FC;\n",
       "    }\n",
       "\n",
       "    [theme=dark] .colab-df-convert:hover {\n",
       "      background-color: #434B5C;\n",
       "      box-shadow: 0px 1px 3px 1px rgba(0, 0, 0, 0.15);\n",
       "      filter: drop-shadow(0px 1px 2px rgba(0, 0, 0, 0.3));\n",
       "      fill: #FFFFFF;\n",
       "    }\n",
       "  </style>\n",
       "\n",
       "      <script>\n",
       "        const buttonEl =\n",
       "          document.querySelector('#df-7ff535ec-f7ab-4821-aa40-1a10633037f2 button.colab-df-convert');\n",
       "        buttonEl.style.display =\n",
       "          google.colab.kernel.accessAllowed ? 'block' : 'none';\n",
       "\n",
       "        async function convertToInteractive(key) {\n",
       "          const element = document.querySelector('#df-7ff535ec-f7ab-4821-aa40-1a10633037f2');\n",
       "          const dataTable =\n",
       "            await google.colab.kernel.invokeFunction('convertToInteractive',\n",
       "                                                     [key], {});\n",
       "          if (!dataTable) return;\n",
       "\n",
       "          const docLinkHtml = 'Like what you see? Visit the ' +\n",
       "            '<a target=\"_blank\" href=https://colab.research.google.com/notebooks/data_table.ipynb>data table notebook</a>'\n",
       "            + ' to learn more about interactive tables.';\n",
       "          element.innerHTML = '';\n",
       "          dataTable['output_type'] = 'display_data';\n",
       "          await google.colab.output.renderOutput(dataTable, element);\n",
       "          const docLink = document.createElement('div');\n",
       "          docLink.innerHTML = docLinkHtml;\n",
       "          element.appendChild(docLink);\n",
       "        }\n",
       "      </script>\n",
       "    </div>\n",
       "  </div>\n",
       "  "
      ],
      "text/plain": [
       "           id  vendor_id     pickup_datetime    dropoff_datetime  \\\n",
       "0   id2875421          2 2016-03-14 17:24:55 2016-03-14 17:32:30   \n",
       "1   id2377394          1 2016-06-12 00:43:35 2016-06-12 00:54:38   \n",
       "2   id3858529          2 2016-01-19 11:35:24 2016-01-19 12:10:48   \n",
       "3   id3504673          2 2016-04-06 19:32:31 2016-04-06 19:39:40   \n",
       "4   id2181028          2 2016-03-26 13:30:55 2016-03-26 13:38:10   \n",
       "..        ...        ...                 ...                 ...   \n",
       "95  id3025098          2 2016-01-20 19:21:31 2016-01-20 19:31:27   \n",
       "96  id3333094          2 2016-06-02 23:34:00 2016-06-02 23:41:15   \n",
       "97  id2228940          1 2016-02-04 13:22:02 2016-02-04 13:40:30   \n",
       "98  id2102594          1 2016-03-30 16:14:29 2016-03-30 17:01:33   \n",
       "99  id0010677          1 2016-04-29 10:40:34 2016-04-29 10:53:23   \n",
       "\n",
       "    passenger_count  pickup_longitude  pickup_latitude  dropoff_longitude  \\\n",
       "0                 1        -73.982155        40.767937         -73.964630   \n",
       "1                 1        -73.980415        40.738564         -73.999481   \n",
       "2                 1        -73.979027        40.763939         -74.005333   \n",
       "3                 1        -74.010040        40.719971         -74.012268   \n",
       "4                 1        -73.973053        40.793209         -73.972923   \n",
       "..              ...               ...              ...                ...   \n",
       "95                1        -73.976982        40.750301         -73.999123   \n",
       "96                1        -73.973465        40.755230         -73.977364   \n",
       "97                1        -73.981865        40.758774         -73.970222   \n",
       "98                1        -73.789841        40.643559         -73.970665   \n",
       "99                2        -73.991974        40.749996         -73.977882   \n",
       "\n",
       "    dropoff_latitude store_and_fwd_flag  trip_duration pickup_day dropoff_day  \\\n",
       "0          40.765602                  N            455     Monday      Monday   \n",
       "1          40.731152                  N            663     Sunday      Sunday   \n",
       "2          40.710087                  N           2124    Tuesday     Tuesday   \n",
       "3          40.706718                  N            429  Wednesday   Wednesday   \n",
       "4          40.782520                  N            435   Saturday    Saturday   \n",
       "..               ...                ...            ...        ...         ...   \n",
       "95         40.739510                  N            596  Wednesday   Wednesday   \n",
       "96         40.742821                  N            435   Thursday    Thursday   \n",
       "97         40.784142                  N           1108   Thursday    Thursday   \n",
       "98         40.687279                  N           2824  Wednesday   Wednesday   \n",
       "99         40.754894                  N            769     Friday      Friday   \n",
       "\n",
       "   pickup_month dropoff_month  pickup_day_no  dropoff_day_no  pickup_hour  \\\n",
       "0         March         March              0               0           17   \n",
       "1          June          June              6               6            0   \n",
       "2       January       January              1               1           11   \n",
       "3         April         April              2               2           19   \n",
       "4         March         March              5               5           13   \n",
       "..          ...           ...            ...             ...          ...   \n",
       "95      January       January              2               2           19   \n",
       "96         June          June              3               3           23   \n",
       "97     February      February              3               3           13   \n",
       "98        March         March              2               2           16   \n",
       "99        April         April              4               4           10   \n",
       "\n",
       "    dropoff_hour pickup_timeofday dropoff_timeofday  distance_miles  \n",
       "0             17          Evening           Evening        0.931138  \n",
       "1              0       Late night        Late night        1.121890  \n",
       "2             12          Morning         Afternoon        3.967516  \n",
       "3             19          Evening           Evening        0.923046  \n",
       "4             13        Afternoon         Afternoon        0.738555  \n",
       "..           ...              ...               ...             ...  \n",
       "95            19          Evening           Evening        1.378121  \n",
       "96            23       Late night        Late night        0.881344  \n",
       "97            13        Afternoon         Afternoon        1.855594  \n",
       "98            17          Evening           Evening        9.946651  \n",
       "99            10          Morning           Morning        0.811495  \n",
       "\n",
       "[100 rows x 22 columns]"
      ]
     },
     "execution_count": 24,
     "metadata": {},
     "output_type": "execute_result"
    }
   ],
   "source": [
    "train_df"
   ]
  },
  {
   "cell_type": "markdown",
   "metadata": {
    "id": "FePGKPAx1CYA"
   },
   "source": [
    "# Locations of pickup and dropoff lats and longs"
   ]
  },
  {
   "cell_type": "markdown",
   "metadata": {
    "id": "Pg7w5C1T1CYA"
   },
   "source": [
    "We use geopy to get the locations of pickup and dropoff points"
   ]
  },
  {
   "cell_type": "code",
   "execution_count": 25,
   "metadata": {
    "executionInfo": {
     "elapsed": 731,
     "status": "ok",
     "timestamp": 1656596381998,
     "user": {
      "displayName": "Omkar Hirugade",
      "userId": "16820285763758153216"
     },
     "user_tz": -330
    },
    "id": "kziPemj21CYA"
   },
   "outputs": [],
   "source": [
    "from geopy.geocoders import Nominatim\n",
    "from geopy.point import Point"
   ]
  },
  {
   "cell_type": "code",
   "execution_count": 26,
   "metadata": {
    "executionInfo": {
     "elapsed": 10,
     "status": "ok",
     "timestamp": 1656596381999,
     "user": {
      "displayName": "Omkar Hirugade",
      "userId": "16820285763758153216"
     },
     "user_tz": -330
    },
    "id": "s5x5yItA1CYA"
   },
   "outputs": [],
   "source": [
    "geolocator = Nominatim(user_agent=\"geoapiExercises\")"
   ]
  },
  {
   "cell_type": "markdown",
   "metadata": {
    "id": "mVQ-uckw1CYB"
   },
   "source": [
    "The function below gives the name of the road of pickup and dropoff location."
   ]
  },
  {
   "cell_type": "code",
   "execution_count": 27,
   "metadata": {
    "executionInfo": {
     "elapsed": 8,
     "status": "ok",
     "timestamp": 1656596382000,
     "user": {
      "displayName": "Omkar Hirugade",
      "userId": "16820285763758153216"
     },
     "user_tz": -330
    },
    "id": "b4hSnoVd1CYB"
   },
   "outputs": [],
   "source": [
    "def city_state_country(lat,long):\n",
    "    location = geolocator.reverse(Point(lat, long))\n",
    "    address = location.raw['address']\n",
    "    if 'road' in address:\n",
    "        x=address['road']\n",
    "    else:\n",
    "        x='NA'\n",
    "    return x"
   ]
  },
  {
   "cell_type": "code",
   "execution_count": 28,
   "metadata": {
    "executionInfo": {
     "elapsed": 100975,
     "status": "ok",
     "timestamp": 1656596482968,
     "user": {
      "displayName": "Omkar Hirugade",
      "userId": "16820285763758153216"
     },
     "user_tz": -330
    },
    "id": "y6LzsPiu1CYB"
   },
   "outputs": [],
   "source": [
    "train_df[\"pickup_location\"] = np.vectorize(city_state_country)(train_df[\"pickup_latitude\"], train_df[\"pickup_longitude\"])\n",
    "train_df[\"dropoff_location\"] = np.vectorize(city_state_country)(train_df[\"dropoff_latitude\"], train_df[\"dropoff_longitude\"])\n",
    "                            "
   ]
  },
  {
   "cell_type": "code",
   "execution_count": 29,
   "metadata": {
    "executionInfo": {
     "elapsed": 49,
     "status": "ok",
     "timestamp": 1656596482984,
     "user": {
      "displayName": "Omkar Hirugade",
      "userId": "16820285763758153216"
     },
     "user_tz": -330
    },
    "id": "j8lb07vO1CYB"
   },
   "outputs": [],
   "source": [
    "pd.set_option(\"display.max_colwidth\", -1)"
   ]
  },
  {
   "cell_type": "code",
   "execution_count": 30,
   "metadata": {
    "colab": {
     "base_uri": "https://localhost:8080/"
    },
    "executionInfo": {
     "elapsed": 47,
     "status": "ok",
     "timestamp": 1656596482984,
     "user": {
      "displayName": "Omkar Hirugade",
      "userId": "16820285763758153216"
     },
     "user_tz": -330
    },
    "id": "9J65RJzF1CYB",
    "outputId": "d3a50f9c-f3a4-4e13-ea06-d16fe5c85e3b"
   },
   "outputs": [
    {
     "data": {
      "text/plain": [
       "0     Columbus Circle   \n",
       "1     2nd Avenue        \n",
       "2     West 56th Street  \n",
       "3     Greenwich Street  \n",
       "4     Broadway          \n",
       "        ...             \n",
       "95    Lexington Avenue  \n",
       "96    Madison Avenue    \n",
       "97    Rockefeller Plaza \n",
       "98    NA                \n",
       "99    Pennsylvania Plaza\n",
       "Name: pickup_location, Length: 100, dtype: object"
      ]
     },
     "execution_count": 30,
     "metadata": {},
     "output_type": "execute_result"
    }
   ],
   "source": [
    "train_df[\"pickup_location\"]"
   ]
  },
  {
   "cell_type": "markdown",
   "metadata": {
    "id": "HASvFyBF1CYB"
   },
   "source": [
    "# EDA"
   ]
  },
  {
   "cell_type": "markdown",
   "metadata": {
    "id": "B-GehpII1CYB"
   },
   "source": [
    "## Target"
   ]
  },
  {
   "cell_type": "markdown",
   "metadata": {
    "id": "_rwqiZBQ1CYC"
   },
   "source": [
    "Let us start by analyzing the target variable."
   ]
  },
  {
   "cell_type": "code",
   "execution_count": 31,
   "metadata": {
    "colab": {
     "base_uri": "https://localhost:8080/",
     "height": 0
    },
    "executionInfo": {
     "elapsed": 40,
     "status": "ok",
     "timestamp": 1656596482985,
     "user": {
      "displayName": "Omkar Hirugade",
      "userId": "16820285763758153216"
     },
     "user_tz": -330
    },
    "id": "SzVhD-Vf1CYC",
    "outputId": "606f0622-11f8-46aa-a6a9-f9e85b948fca"
   },
   "outputs": [
    {
     "data": {
      "text/plain": [
       "<matplotlib.axes._subplots.AxesSubplot at 0x7f40fabc2f90>"
      ]
     },
     "execution_count": 31,
     "metadata": {},
     "output_type": "execute_result"
    },
    {
     "data": {
      "image/png": "[encoded data removed]",
      "text/plain": [
       "<Figure size 432x288 with 1 Axes>"
      ]
     },
     "metadata": {
      "needs_background": "light"
     },
     "output_type": "display_data"
    }
   ],
   "source": [
    "sns.boxplot(train_df['trip_duration'])"
   ]
  },
  {
   "cell_type": "markdown",
   "metadata": {
    "id": "rpcTBkyP1CYC"
   },
   "source": [
    "We can clearly see an outlier."
   ]
  },
  {
   "cell_type": "code",
   "execution_count": 32,
   "metadata": {
    "colab": {
     "base_uri": "https://localhost:8080/"
    },
    "executionInfo": {
     "elapsed": 32,
     "status": "ok",
     "timestamp": 1656596482986,
     "user": {
      "displayName": "Omkar Hirugade",
      "userId": "16820285763758153216"
     },
     "user_tz": -330
    },
    "id": "lPZ_SZAj1CYC",
    "outputId": "bdcc8b9c-a4e7-4f4b-fc14-ac7069b1b7db"
   },
   "outputs": [
    {
     "data": {
      "text/plain": [
       "55    3528\n",
       "98    2824\n",
       "57    2607\n",
       "24    2485\n",
       "93    2341\n",
       "      ... \n",
       "83    218 \n",
       "68    215 \n",
       "15    211 \n",
       "64    174 \n",
       "72    57  \n",
       "Name: trip_duration, Length: 100, dtype: int64"
      ]
     },
     "execution_count": 32,
     "metadata": {},
     "output_type": "execute_result"
    }
   ],
   "source": [
    "train_df['trip_duration'].sort_values(ascending=False)"
   ]
  },
  {
   "cell_type": "markdown",
   "metadata": {
    "id": "OAhqG8Xz1CYC"
   },
   "source": [
    "We can see that there is an entry which is significantly different from others.\n"
   ]
  },
  {
   "cell_type": "markdown",
   "metadata": {
    "id": "X-q0tlMp1CYC"
   },
   "source": [
    "## Vendor id"
   ]
  },
  {
   "cell_type": "code",
   "execution_count": 33,
   "metadata": {
    "colab": {
     "base_uri": "https://localhost:8080/",
     "height": 0
    },
    "executionInfo": {
     "elapsed": 31,
     "status": "ok",
     "timestamp": 1656596482986,
     "user": {
      "displayName": "Omkar Hirugade",
      "userId": "16820285763758153216"
     },
     "user_tz": -330
    },
    "id": "oaM0VCIe1CYC",
    "outputId": "4b16882d-5cc3-4121-d980-9397f7ff963b"
   },
   "outputs": [
    {
     "data": {
      "text/plain": [
       "<matplotlib.axes._subplots.AxesSubplot at 0x7f40fab2e5d0>"
      ]
     },
     "execution_count": 33,
     "metadata": {},
     "output_type": "execute_result"
    },
    {
     "data": {
      "image/png": "[encoded data removed]",
      "text/plain": [
       "<Figure size 432x288 with 1 Axes>"
      ]
     },
     "metadata": {
      "needs_background": "light"
     },
     "output_type": "display_data"
    }
   ],
   "source": [
    "sns.countplot(x='vendor_id',data=train_df)"
   ]
  },
  {
   "cell_type": "markdown",
   "metadata": {
    "id": "TDa9X1ti1CYE"
   },
   "source": [
    "We see that there is not much difference between the trips taken by both vendors."
   ]
  },
  {
   "cell_type": "markdown",
   "metadata": {
    "id": "HeBEw0r21CYE"
   },
   "source": [
    "## Passenger Count"
   ]
  },
  {
   "cell_type": "code",
   "execution_count": 34,
   "metadata": {
    "colab": {
     "base_uri": "https://localhost:8080/"
    },
    "executionInfo": {
     "elapsed": 30,
     "status": "ok",
     "timestamp": 1656596482987,
     "user": {
      "displayName": "Omkar Hirugade",
      "userId": "16820285763758153216"
     },
     "user_tz": -330
    },
    "id": "jX-oMsB71CYE",
    "outputId": "d1939acf-5f35-433a-8f60-1624c0696388"
   },
   "outputs": [
    {
     "data": {
      "text/plain": [
       "1    79\n",
       "2    10\n",
       "3    5 \n",
       "4    3 \n",
       "6    2 \n",
       "5    1 \n",
       "Name: passenger_count, dtype: int64"
      ]
     },
     "execution_count": 34,
     "metadata": {},
     "output_type": "execute_result"
    }
   ],
   "source": [
    "train_df.passenger_count.value_counts()"
   ]
  },
  {
   "cell_type": "markdown",
   "metadata": {
    "id": "XvR-lm-F1CYE"
   },
   "source": [
    "There are some trips with even 0 passenger count.\n",
    "There is only 1 trip each for 7 and 9 passengers."
   ]
  },
  {
   "cell_type": "code",
   "execution_count": 35,
   "metadata": {
    "colab": {
     "base_uri": "https://localhost:8080/",
     "height": 0
    },
    "executionInfo": {
     "elapsed": 1426,
     "status": "ok",
     "timestamp": 1656596484384,
     "user": {
      "displayName": "Omkar Hirugade",
      "userId": "16820285763758153216"
     },
     "user_tz": -330
    },
    "id": "xAETVAqq1CYF",
    "outputId": "ad8dd354-d6cb-4f57-d474-d5cbcc799b39"
   },
   "outputs": [
    {
     "data": {
      "text/plain": [
       "Text(0.5, 1.0, 'Distribution of Passenger count')"
      ]
     },
     "execution_count": 35,
     "metadata": {},
     "output_type": "execute_result"
    },
    {
     "data": {
      "image/png": "[encoded data removed]",
      "text/plain": [
       "<Figure size 432x288 with 1 Axes>"
      ]
     },
     "metadata": {
      "needs_background": "light"
     },
     "output_type": "display_data"
    }
   ],
   "source": [
    "axis=sns.countplot(x=train_df['passenger_count'])\n",
    "plt.title('Distribution of Passenger count')"
   ]
  },
  {
   "cell_type": "markdown",
   "metadata": {
    "id": "pSVoEJ-x1CYF"
   },
   "source": [
    "Most of the passengers are single passengers\n",
    "\n",
    "Let us remove the rows which have 0 or 7 or 9 passenger count."
   ]
  },
  {
   "cell_type": "markdown",
   "metadata": {
    "id": "sLV5NCiv1CYF"
   },
   "source": [
    "## Store and Forward Flag"
   ]
  },
  {
   "cell_type": "code",
   "execution_count": 36,
   "metadata": {
    "colab": {
     "base_uri": "https://localhost:8080/"
    },
    "executionInfo": {
     "elapsed": 25,
     "status": "ok",
     "timestamp": 1656596484385,
     "user": {
      "displayName": "Omkar Hirugade",
      "userId": "16820285763758153216"
     },
     "user_tz": -330
    },
    "id": "n2QWw-zD1CYF",
    "outputId": "903d6feb-3f3d-496f-da7c-912908d96e63"
   },
   "outputs": [
    {
     "data": {
      "text/plain": [
       "N    1.0\n",
       "Name: store_and_fwd_flag, dtype: float64"
      ]
     },
     "execution_count": 36,
     "metadata": {},
     "output_type": "execute_result"
    }
   ],
   "source": [
    "train_df['store_and_fwd_flag'].value_counts(normalize=True)"
   ]
  },
  {
   "cell_type": "markdown",
   "metadata": {
    "id": "CyHTNlWP1CYF"
   },
   "source": [
    "We see there are less than 1% of trips that were stored before forwarding."
   ]
  },
  {
   "cell_type": "markdown",
   "metadata": {
    "id": "hfS1YZOF1CYF"
   },
   "source": [
    "## Trips per Day"
   ]
  },
  {
   "cell_type": "code",
   "execution_count": 37,
   "metadata": {
    "colab": {
     "base_uri": "https://localhost:8080/",
     "height": 0
    },
    "executionInfo": {
     "elapsed": 23,
     "status": "ok",
     "timestamp": 1656596484387,
     "user": {
      "displayName": "Omkar Hirugade",
      "userId": "16820285763758153216"
     },
     "user_tz": -330
    },
    "id": "igejaQeZ1CYF",
    "outputId": "e36a9e40-76b8-4d43-85f5-864e666a8e3b"
   },
   "outputs": [
    {
     "data": {
      "image/png": "[encoded data removed]",
      "text/plain": [
       "<Figure size 1440x360 with 2 Axes>"
      ]
     },
     "metadata": {
      "needs_background": "light"
     },
     "output_type": "display_data"
    }
   ],
   "source": [
    "figure,(ax1,ax2)=plt.subplots(ncols=2,figsize=(20,5))\n",
    "ax1.set_title('Pickup Days')\n",
    "ax=sns.countplot(x=\"pickup_day\",data=train_df,ax=ax1)\n",
    "ax2.set_title('Dropoff Days')\n",
    "ax=sns.countplot(x=\"dropoff_day\",data=train_df,ax=ax2)"
   ]
  },
  {
   "cell_type": "markdown",
   "metadata": {
    "id": "jj7SLYMU1CYG"
   },
   "source": [
    "We see Fridays are the busiest days followed by Saturdays. That is probably because it’s weekend."
   ]
  },
  {
   "cell_type": "markdown",
   "metadata": {
    "id": "66SAJDhw1CYG"
   },
   "source": [
    "## Trips per Hour"
   ]
  },
  {
   "cell_type": "code",
   "execution_count": 38,
   "metadata": {
    "colab": {
     "base_uri": "https://localhost:8080/",
     "height": 0
    },
    "executionInfo": {
     "elapsed": 20,
     "status": "ok",
     "timestamp": 1656596484388,
     "user": {
      "displayName": "Omkar Hirugade",
      "userId": "16820285763758153216"
     },
     "user_tz": -330
    },
    "id": "lvYo8oiH1CYG",
    "outputId": "8c4557e2-62ad-4f70-ac47-4209336e74b0"
   },
   "outputs": [
    {
     "data": {
      "image/png": "[encoded data removed]",
      "text/plain": [
       "<Figure size 1440x360 with 2 Axes>"
      ]
     },
     "metadata": {
      "needs_background": "light"
     },
     "output_type": "display_data"
    }
   ],
   "source": [
    "figure,(ax1,ax2)=plt.subplots(ncols=2,figsize=(20,5))\n",
    "ax1.set_title('pickup hour')\n",
    "ax=sns.countplot(x=\"pickup_hour\",data=train_df,ax=ax1)\n",
    "ax2.set_title('Dropoff hour')\n",
    "ax=sns.countplot(x=\"dropoff_hour\",data=train_df,ax=ax2)"
   ]
  },
  {
   "cell_type": "markdown",
   "metadata": {
    "id": "vkFxvfMg1CYG"
   },
   "source": [
    "We see the busiest hours are 6:00 pm to 7:00 pm and that makes sense as this is the time when people return from their offices."
   ]
  },
  {
   "cell_type": "markdown",
   "metadata": {
    "id": "sEQ2ylP91CYG"
   },
   "source": [
    "## Trips per Time of Day"
   ]
  },
  {
   "cell_type": "code",
   "execution_count": 39,
   "metadata": {
    "colab": {
     "base_uri": "https://localhost:8080/",
     "height": 0
    },
    "executionInfo": {
     "elapsed": 1093,
     "status": "ok",
     "timestamp": 1656596485465,
     "user": {
      "displayName": "Omkar Hirugade",
      "userId": "16820285763758153216"
     },
     "user_tz": -330
    },
    "id": "djl0YHYI1CYG",
    "outputId": "a46fb56a-8110-45f2-a698-2bdf680488c7"
   },
   "outputs": [
    {
     "data": {
      "image/png": "[encoded data removed]",
      "text/plain": [
       "<Figure size 1440x360 with 2 Axes>"
      ]
     },
     "metadata": {
      "needs_background": "light"
     },
     "output_type": "display_data"
    }
   ],
   "source": [
    "figure,(ax1,ax2)=plt.subplots(ncols=2,figsize=(20,5))\n",
    "ax1.set_title('pickup timeofday')\n",
    "ax=sns.countplot(x=\"pickup_timeofday\",data=train_df,ax=ax1)\n",
    "ax2.set_title('Dropoff timeofday')\n",
    "ax=sns.countplot(x=\"dropoff_timeofday\",data=train_df,ax=ax2)"
   ]
  },
  {
   "cell_type": "markdown",
   "metadata": {
    "id": "hHH9HLuq1CYG"
   },
   "source": [
    "As we saw above, evenings are the busiest."
   ]
  },
  {
   "cell_type": "markdown",
   "metadata": {
    "id": "5RK8nI6A1CYH"
   },
   "source": [
    "## Trips per month"
   ]
  },
  {
   "cell_type": "code",
   "execution_count": 40,
   "metadata": {
    "colab": {
     "base_uri": "https://localhost:8080/",
     "height": 0
    },
    "executionInfo": {
     "elapsed": 32,
     "status": "ok",
     "timestamp": 1656596485468,
     "user": {
      "displayName": "Omkar Hirugade",
      "userId": "16820285763758153216"
     },
     "user_tz": -330
    },
    "id": "xpDq4g7L1CYH",
    "outputId": "8e672c1f-6ccb-4e79-bb45-d45df00c60be"
   },
   "outputs": [
    {
     "data": {
      "image/png": "[encoded data removed]",
      "text/plain": [
       "<Figure size 1440x360 with 2 Axes>"
      ]
     },
     "metadata": {
      "needs_background": "light"
     },
     "output_type": "display_data"
    }
   ],
   "source": [
    "figure,(ax1,ax2)=plt.subplots(ncols=2,figsize=(20,5))\n",
    "ax1.set_title('pickup month')\n",
    "ax=sns.countplot(x=\"pickup_month\",data=train_df,ax=ax1)\n",
    "ax2.set_title('Dropoff month')\n",
    "ax=sns.countplot(x=\"dropoff_month\",data=train_df,ax=ax2)"
   ]
  },
  {
   "cell_type": "markdown",
   "metadata": {
    "id": "g2xS6TnU1CYH"
   },
   "source": [
    "There is not much difference in the number of trips across months."
   ]
  },
  {
   "cell_type": "markdown",
   "metadata": {
    "id": "vqd3kC1g1CYH"
   },
   "source": [
    "# The pickup and dropoff locations"
   ]
  },
  {
   "cell_type": "code",
   "execution_count": 41,
   "metadata": {
    "colab": {
     "base_uri": "https://localhost:8080/",
     "height": 0
    },
    "executionInfo": {
     "elapsed": 898,
     "status": "ok",
     "timestamp": 1656596486339,
     "user": {
      "displayName": "Omkar Hirugade",
      "userId": "16820285763758153216"
     },
     "user_tz": -330
    },
    "id": "Xf_0leRC1CYH",
    "outputId": "62b03800-4d17-4072-c18d-fd93eb1f27d3"
   },
   "outputs": [
    {
     "data": {
      "text/plain": [
       "Text(0.5, 1.0, 'pickup_location')"
      ]
     },
     "execution_count": 41,
     "metadata": {},
     "output_type": "execute_result"
    },
    {
     "data": {
      "image/png": "[encoded data removed]",
      "text/plain": [
       "<Figure size 432x288 with 1 Axes>"
      ]
     },
     "metadata": {
      "needs_background": "light"
     },
     "output_type": "display_data"
    }
   ],
   "source": [
    "sns.countplot(x=\"pickup_location\",data=train_df).set_title('pickup_location')"
   ]
  },
  {
   "cell_type": "code",
   "execution_count": 42,
   "metadata": {
    "colab": {
     "base_uri": "https://localhost:8080/",
     "height": 0
    },
    "executionInfo": {
     "elapsed": 1262,
     "status": "ok",
     "timestamp": 1656596487586,
     "user": {
      "displayName": "Omkar Hirugade",
      "userId": "16820285763758153216"
     },
     "user_tz": -330
    },
    "id": "O5yRlAAu1CYH",
    "outputId": "77a59ae2-f806-4c99-9dc1-0f9da131ca90"
   },
   "outputs": [
    {
     "data": {
      "text/plain": [
       "Text(0.5, 1.0, 'Dropoff_location')"
      ]
     },
     "execution_count": 42,
     "metadata": {},
     "output_type": "execute_result"
    },
    {
     "data": {
      "image/png": "[encoded data removed]",
      "text/plain": [
       "<Figure size 432x288 with 1 Axes>"
      ]
     },
     "metadata": {
      "needs_background": "light"
     },
     "output_type": "display_data"
    }
   ],
   "source": [
    "sns.countplot(x=\"dropoff_location\",data=train_df).set_title('Dropoff_location')"
   ]
  },
  {
   "cell_type": "markdown",
   "metadata": {
    "id": "7RAdPmGR1CYH"
   },
   "source": [
    "## distance_miles"
   ]
  },
  {
   "cell_type": "code",
   "execution_count": 43,
   "metadata": {
    "colab": {
     "base_uri": "https://localhost:8080/",
     "height": 0
    },
    "executionInfo": {
     "elapsed": 24,
     "status": "ok",
     "timestamp": 1656596487589,
     "user": {
      "displayName": "Omkar Hirugade",
      "userId": "16820285763758153216"
     },
     "user_tz": -330
    },
    "id": "dW1hWxen1CYH",
    "outputId": "0709f4bc-4ae6-4514-c196-ed1e5a27b9c1"
   },
   "outputs": [
    {
     "data": {
      "image/png": "[encoded data removed]",
      "text/plain": [
       "<Figure size 864x288 with 1 Axes>"
      ]
     },
     "metadata": {
      "needs_background": "light"
     },
     "output_type": "display_data"
    }
   ],
   "source": [
    "train_df[\"distance_miles\"].hist(bins=50, figsize=(12,4))\n",
    "plt.title(\"Histogram ride distance in miles\");"
   ]
  },
  {
   "cell_type": "code",
   "execution_count": 44,
   "metadata": {
    "colab": {
     "base_uri": "https://localhost:8080/",
     "height": 0
    },
    "executionInfo": {
     "elapsed": 2358,
     "status": "ok",
     "timestamp": 1656596489929,
     "user": {
      "displayName": "Omkar Hirugade",
      "userId": "16820285763758153216"
     },
     "user_tz": -330
    },
    "id": "bMjfU60n1CYI",
    "outputId": "dc4ce86f-e8eb-4382-93c4-c4d269167d65"
   },
   "outputs": [
    {
     "data": {
      "image/png": "[encoded data removed]",
      "text/plain": [
       "<Figure size 1080x576 with 2 Axes>"
      ]
     },
     "metadata": {},
     "output_type": "display_data"
    }
   ],
   "source": [
    "sns.set(rc = {'figure.figsize':(15,8)})\n",
    "sns.heatmap(train_df.corr(), cmap='Reds', annot=True)\n",
    "plt.title('Correlation Matrix');"
   ]
  },
  {
   "cell_type": "markdown",
   "metadata": {
    "id": "88yHhlNs1CYI"
   },
   "source": [
    "# Data Preprocessing"
   ]
  },
  {
   "cell_type": "markdown",
   "metadata": {
    "id": "H_-Db1eE1CYI"
   },
   "source": [
    "Here we are finalizing and sorting the features into two dataframes(categorical and numerical) for further encoding and processing"
   ]
  },
  {
   "cell_type": "code",
   "execution_count": 45,
   "metadata": {
    "executionInfo": {
     "elapsed": 31,
     "status": "ok",
     "timestamp": 1656596489930,
     "user": {
      "displayName": "Omkar Hirugade",
      "userId": "16820285763758153216"
     },
     "user_tz": -330
    },
    "id": "vgjLr0eT1CYI"
   },
   "outputs": [],
   "source": [
    "catogorical_df=train_df[['id','store_and_fwd_flag','pickup_day','pickup_month','pickup_location','dropoff_location']].copy()\n",
    "numerical_df=train_df[['id','passenger_count','distance_miles','pickup_hour']].copy()"
   ]
  },
  {
   "cell_type": "markdown",
   "metadata": {
    "id": "o2m1U-rP1CYI"
   },
   "source": [
    "Defining the targets dataframe"
   ]
  },
  {
   "cell_type": "code",
   "execution_count": 46,
   "metadata": {
    "executionInfo": {
     "elapsed": 28,
     "status": "ok",
     "timestamp": 1656596489930,
     "user": {
      "displayName": "Omkar Hirugade",
      "userId": "16820285763758153216"
     },
     "user_tz": -330
    },
    "id": "Z-3ERCg91CYI"
   },
   "outputs": [],
   "source": [
    "targets=train_df[['trip_duration']].copy()"
   ]
  },
  {
   "cell_type": "markdown",
   "metadata": {
    "id": "Mv5S-Te61CYI"
   },
   "source": [
    "# One-hot encode categorical columns"
   ]
  },
  {
   "cell_type": "markdown",
   "metadata": {
    "id": "C4TlpGld1CYJ"
   },
   "source": [
    "Since ML models cannot process categorical data we need to tranform those data to numerical data."
   ]
  },
  {
   "cell_type": "code",
   "execution_count": 47,
   "metadata": {
    "executionInfo": {
     "elapsed": 26,
     "status": "ok",
     "timestamp": 1656596489931,
     "user": {
      "displayName": "Omkar Hirugade",
      "userId": "16820285763758153216"
     },
     "user_tz": -330
    },
    "id": "hDisHiex1CYJ"
   },
   "outputs": [],
   "source": [
    "from sklearn.preprocessing import  LabelEncoder"
   ]
  },
  {
   "cell_type": "code",
   "execution_count": 48,
   "metadata": {
    "executionInfo": {
     "elapsed": 25,
     "status": "ok",
     "timestamp": 1656596489931,
     "user": {
      "displayName": "Omkar Hirugade",
      "userId": "16820285763758153216"
     },
     "user_tz": -330
    },
    "id": "jP57EkH71CYJ"
   },
   "outputs": [],
   "source": [
    "encoder = LabelEncoder()\n"
   ]
  },
  {
   "cell_type": "code",
   "execution_count": 49,
   "metadata": {
    "executionInfo": {
     "elapsed": 24,
     "status": "ok",
     "timestamp": 1656596489932,
     "user": {
      "displayName": "Omkar Hirugade",
      "userId": "16820285763758153216"
     },
     "user_tz": -330
    },
    "id": "hdpL4R_Y1CYJ"
   },
   "outputs": [],
   "source": [
    "catogorical_df['store_and_fwd_flag']=encoder.fit_transform(train_df['store_and_fwd_flag'])\n",
    "catogorical_df['pickup_day']=encoder.fit_transform(train_df['pickup_day'])\n",
    "catogorical_df['pickup_month']=encoder.fit_transform(train_df['pickup_month'])\n",
    "catogorical_df['pickup_location']=encoder.fit_transform(train_df['pickup_location'])\n",
    "catogorical_df['dropoff_location']=encoder.fit_transform(train_df['dropoff_location'])"
   ]
  },
  {
   "cell_type": "markdown",
   "metadata": {
    "id": "nUUZTww11CYJ"
   },
   "source": [
    "Merging the numerical and categorical columns on the basis of 'id'"
   ]
  },
  {
   "cell_type": "code",
   "execution_count": 50,
   "metadata": {
    "executionInfo": {
     "elapsed": 22,
     "status": "ok",
     "timestamp": 1656596489932,
     "user": {
      "displayName": "Omkar Hirugade",
      "userId": "16820285763758153216"
     },
     "user_tz": -330
    },
    "id": "idsMCc011CYJ"
   },
   "outputs": [],
   "source": [
    "inputs_df=numerical_df.merge(catogorical_df,left_on='id', right_on='id')"
   ]
  },
  {
   "cell_type": "markdown",
   "metadata": {
    "id": "z1pyF28L1CYK"
   },
   "source": [
    "Droppping the 'id' column as there is no use to the model"
   ]
  },
  {
   "cell_type": "code",
   "execution_count": 51,
   "metadata": {
    "executionInfo": {
     "elapsed": 22,
     "status": "ok",
     "timestamp": 1656596489933,
     "user": {
      "displayName": "Omkar Hirugade",
      "userId": "16820285763758153216"
     },
     "user_tz": -330
    },
    "id": "yawWuCID1CYK"
   },
   "outputs": [],
   "source": [
    "inputs_df=inputs_df.drop(['id'],axis='columns')"
   ]
  },
  {
   "cell_type": "code",
   "execution_count": 52,
   "metadata": {
    "colab": {
     "base_uri": "https://localhost:8080/",
     "height": 0
    },
    "executionInfo": {
     "elapsed": 21,
     "status": "ok",
     "timestamp": 1656596489934,
     "user": {
      "displayName": "Omkar Hirugade",
      "userId": "16820285763758153216"
     },
     "user_tz": -330
    },
    "id": "PMzQ9Iwb1CYK",
    "outputId": "0c90d22f-d398-4788-fcc3-56e9468e37f7"
   },
   "outputs": [
    {
     "data": {
      "text/html": [
       "\n",
       "  <div id=\"df-368153b6-40bc-44c8-8023-49e18e8237af\">\n",
       "    <div class=\"colab-df-container\">\n",
       "      <div>\n",
       "<style scoped>\n",
       "    .dataframe tbody tr th:only-of-type {\n",
       "        vertical-align: middle;\n",
       "    }\n",
       "\n",
       "    .dataframe tbody tr th {\n",
       "        vertical-align: top;\n",
       "    }\n",
       "\n",
       "    .dataframe thead th {\n",
       "        text-align: right;\n",
       "    }\n",
       "</style>\n",
       "<table border=\"1\" class=\"dataframe\">\n",
       "  <thead>\n",
       "    <tr style=\"text-align: right;\">\n",
       "      <th></th>\n",
       "      <th>passenger_count</th>\n",
       "      <th>distance_miles</th>\n",
       "      <th>pickup_hour</th>\n",
       "      <th>store_and_fwd_flag</th>\n",
       "      <th>pickup_day</th>\n",
       "      <th>pickup_month</th>\n",
       "      <th>pickup_location</th>\n",
       "      <th>dropoff_location</th>\n",
       "    </tr>\n",
       "  </thead>\n",
       "  <tbody>\n",
       "    <tr>\n",
       "      <th>0</th>\n",
       "      <td>1</td>\n",
       "      <td>0.931138</td>\n",
       "      <td>17</td>\n",
       "      <td>0</td>\n",
       "      <td>1</td>\n",
       "      <td>4</td>\n",
       "      <td>17</td>\n",
       "      <td>34</td>\n",
       "    </tr>\n",
       "    <tr>\n",
       "      <th>1</th>\n",
       "      <td>1</td>\n",
       "      <td>1.121890</td>\n",
       "      <td>0</td>\n",
       "      <td>0</td>\n",
       "      <td>3</td>\n",
       "      <td>3</td>\n",
       "      <td>3</td>\n",
       "      <td>53</td>\n",
       "    </tr>\n",
       "    <tr>\n",
       "      <th>2</th>\n",
       "      <td>1</td>\n",
       "      <td>3.967516</td>\n",
       "      <td>11</td>\n",
       "      <td>0</td>\n",
       "      <td>5</td>\n",
       "      <td>2</td>\n",
       "      <td>58</td>\n",
       "      <td>15</td>\n",
       "    </tr>\n",
       "    <tr>\n",
       "      <th>3</th>\n",
       "      <td>1</td>\n",
       "      <td>0.923046</td>\n",
       "      <td>19</td>\n",
       "      <td>0</td>\n",
       "      <td>6</td>\n",
       "      <td>0</td>\n",
       "      <td>32</td>\n",
       "      <td>48</td>\n",
       "    </tr>\n",
       "    <tr>\n",
       "      <th>4</th>\n",
       "      <td>1</td>\n",
       "      <td>0.738555</td>\n",
       "      <td>13</td>\n",
       "      <td>0</td>\n",
       "      <td>2</td>\n",
       "      <td>4</td>\n",
       "      <td>12</td>\n",
       "      <td>86</td>\n",
       "    </tr>\n",
       "    <tr>\n",
       "      <th>...</th>\n",
       "      <td>...</td>\n",
       "      <td>...</td>\n",
       "      <td>...</td>\n",
       "      <td>...</td>\n",
       "      <td>...</td>\n",
       "      <td>...</td>\n",
       "      <td>...</td>\n",
       "      <td>...</td>\n",
       "    </tr>\n",
       "    <tr>\n",
       "      <th>95</th>\n",
       "      <td>1</td>\n",
       "      <td>1.378121</td>\n",
       "      <td>19</td>\n",
       "      <td>0</td>\n",
       "      <td>6</td>\n",
       "      <td>2</td>\n",
       "      <td>37</td>\n",
       "      <td>5</td>\n",
       "    </tr>\n",
       "    <tr>\n",
       "      <th>96</th>\n",
       "      <td>1</td>\n",
       "      <td>0.881344</td>\n",
       "      <td>23</td>\n",
       "      <td>0</td>\n",
       "      <td>4</td>\n",
       "      <td>3</td>\n",
       "      <td>38</td>\n",
       "      <td>28</td>\n",
       "    </tr>\n",
       "    <tr>\n",
       "      <th>97</th>\n",
       "      <td>1</td>\n",
       "      <td>1.855594</td>\n",
       "      <td>13</td>\n",
       "      <td>0</td>\n",
       "      <td>4</td>\n",
       "      <td>1</td>\n",
       "      <td>46</td>\n",
       "      <td>18</td>\n",
       "    </tr>\n",
       "    <tr>\n",
       "      <th>98</th>\n",
       "      <td>1</td>\n",
       "      <td>9.946651</td>\n",
       "      <td>16</td>\n",
       "      <td>0</td>\n",
       "      <td>6</td>\n",
       "      <td>4</td>\n",
       "      <td>41</td>\n",
       "      <td>9</td>\n",
       "    </tr>\n",
       "    <tr>\n",
       "      <th>99</th>\n",
       "      <td>2</td>\n",
       "      <td>0.811495</td>\n",
       "      <td>10</td>\n",
       "      <td>0</td>\n",
       "      <td>0</td>\n",
       "      <td>0</td>\n",
       "      <td>44</td>\n",
       "      <td>56</td>\n",
       "    </tr>\n",
       "  </tbody>\n",
       "</table>\n",
       "<p>100 rows × 8 columns</p>\n",
       "</div>\n",
       "      <button class=\"colab-df-convert\" onclick=\"convertToInteractive('df-368153b6-40bc-44c8-8023-49e18e8237af')\"\n",
       "              title=\"Convert this dataframe to an interactive table.\"\n",
       "              style=\"display:none;\">\n",
       "        \n",
       "  <svg xmlns=\"http://www.w3.org/2000/svg\" height=\"24px\"viewBox=\"0 0 24 24\"\n",
       "       width=\"24px\">\n",
       "    <path d=\"M0 0h24v24H0V0z\" fill=\"none\"/>\n",
       "    <path d=\"M18.56 5.44l.94 2.06.94-2.06 2.06-.94-2.06-.94-.94-2.06-.94 2.06-2.06.94zm-11 1L8.5 8.5l.94-2.06 2.06-.94-2.06-.94L8.5 2.5l-.94 2.06-2.06.94zm10 10l.94 2.06.94-2.06 2.06-.94-2.06-.94-.94-2.06-.94 2.06-2.06.94z\"/><path d=\"M17.41 7.96l-1.37-1.37c-.4-.4-.92-.59-1.43-.59-.52 0-1.04.2-1.43.59L10.3 9.45l-7.72 7.72c-.78.78-.78 2.05 0 2.83L4 21.41c.39.39.9.59 1.41.59.51 0 1.02-.2 1.41-.59l7.78-7.78 2.81-2.81c.8-.78.8-2.07 0-2.86zM5.41 20L4 18.59l7.72-7.72 1.47 1.35L5.41 20z\"/>\n",
       "  </svg>\n",
       "      </button>\n",
       "      \n",
       "  <style>\n",
       "    .colab-df-container {\n",
       "      display:flex;\n",
       "      flex-wrap:wrap;\n",
       "      gap: 12px;\n",
       "    }\n",
       "\n",
       "    .colab-df-convert {\n",
       "      background-color: #E8F0FE;\n",
       "      border: none;\n",
       "      border-radius: 50%;\n",
       "      cursor: pointer;\n",
       "      display: none;\n",
       "      fill: #1967D2;\n",
       "      height: 32px;\n",
       "      padding: 0 0 0 0;\n",
       "      width: 32px;\n",
       "    }\n",
       "\n",
       "    .colab-df-convert:hover {\n",
       "      background-color: #E2EBFA;\n",
       "      box-shadow: 0px 1px 2px rgba(60, 64, 67, 0.3), 0px 1px 3px 1px rgba(60, 64, 67, 0.15);\n",
       "      fill: #174EA6;\n",
       "    }\n",
       "\n",
       "    [theme=dark] .colab-df-convert {\n",
       "      background-color: #3B4455;\n",
       "      fill: #D2E3FC;\n",
       "    }\n",
       "\n",
       "    [theme=dark] .colab-df-convert:hover {\n",
       "      background-color: #434B5C;\n",
       "      box-shadow: 0px 1px 3px 1px rgba(0, 0, 0, 0.15);\n",
       "      filter: drop-shadow(0px 1px 2px rgba(0, 0, 0, 0.3));\n",
       "      fill: #FFFFFF;\n",
       "    }\n",
       "  </style>\n",
       "\n",
       "      <script>\n",
       "        const buttonEl =\n",
       "          document.querySelector('#df-368153b6-40bc-44c8-8023-49e18e8237af button.colab-df-convert');\n",
       "        buttonEl.style.display =\n",
       "          google.colab.kernel.accessAllowed ? 'block' : 'none';\n",
       "\n",
       "        async function convertToInteractive(key) {\n",
       "          const element = document.querySelector('#df-368153b6-40bc-44c8-8023-49e18e8237af');\n",
       "          const dataTable =\n",
       "            await google.colab.kernel.invokeFunction('convertToInteractive',\n",
       "                                                     [key], {});\n",
       "          if (!dataTable) return;\n",
       "\n",
       "          const docLinkHtml = 'Like what you see? Visit the ' +\n",
       "            '<a target=\"_blank\" href=https://colab.research.google.com/notebooks/data_table.ipynb>data table notebook</a>'\n",
       "            + ' to learn more about interactive tables.';\n",
       "          element.innerHTML = '';\n",
       "          dataTable['output_type'] = 'display_data';\n",
       "          await google.colab.output.renderOutput(dataTable, element);\n",
       "          const docLink = document.createElement('div');\n",
       "          docLink.innerHTML = docLinkHtml;\n",
       "          element.appendChild(docLink);\n",
       "        }\n",
       "      </script>\n",
       "    </div>\n",
       "  </div>\n",
       "  "
      ],
      "text/plain": [
       "    passenger_count  distance_miles  pickup_hour  store_and_fwd_flag  \\\n",
       "0   1                0.931138        17           0                    \n",
       "1   1                1.121890        0            0                    \n",
       "2   1                3.967516        11           0                    \n",
       "3   1                0.923046        19           0                    \n",
       "4   1                0.738555        13           0                    \n",
       ".. ..                     ...        ..          ..                    \n",
       "95  1                1.378121        19           0                    \n",
       "96  1                0.881344        23           0                    \n",
       "97  1                1.855594        13           0                    \n",
       "98  1                9.946651        16           0                    \n",
       "99  2                0.811495        10           0                    \n",
       "\n",
       "    pickup_day  pickup_month  pickup_location  dropoff_location  \n",
       "0   1           4             17               34                \n",
       "1   3           3             3                53                \n",
       "2   5           2             58               15                \n",
       "3   6           0             32               48                \n",
       "4   2           4             12               86                \n",
       ".. ..          ..             ..               ..                \n",
       "95  6           2             37               5                 \n",
       "96  4           3             38               28                \n",
       "97  4           1             46               18                \n",
       "98  6           4             41               9                 \n",
       "99  0           0             44               56                \n",
       "\n",
       "[100 rows x 8 columns]"
      ]
     },
     "execution_count": 52,
     "metadata": {},
     "output_type": "execute_result"
    }
   ],
   "source": [
    "inputs_df"
   ]
  },
  {
   "cell_type": "markdown",
   "metadata": {
    "id": "mkq7rAlY1CYK"
   },
   "source": [
    "# Create training and validation sets"
   ]
  },
  {
   "cell_type": "code",
   "execution_count": 53,
   "metadata": {
    "executionInfo": {
     "elapsed": 19,
     "status": "ok",
     "timestamp": 1656596489934,
     "user": {
      "displayName": "Omkar Hirugade",
      "userId": "16820285763758153216"
     },
     "user_tz": -330
    },
    "id": "Noo0Rra51CYK"
   },
   "outputs": [],
   "source": [
    "from sklearn.model_selection import train_test_split"
   ]
  },
  {
   "cell_type": "code",
   "execution_count": 54,
   "metadata": {
    "executionInfo": {
     "elapsed": 18,
     "status": "ok",
     "timestamp": 1656596489935,
     "user": {
      "displayName": "Omkar Hirugade",
      "userId": "16820285763758153216"
     },
     "user_tz": -330
    },
    "id": "zWTxBG_b1CYK"
   },
   "outputs": [],
   "source": [
    "train_inputs, val_inputs, train_targets, val_targets = train_test_split(\n",
    "    inputs_df, targets, test_size=0.20, random_state=42)"
   ]
  },
  {
   "cell_type": "markdown",
   "metadata": {
    "id": "LM4Ldq-N1CYK"
   },
   "source": [
    "# Model 1 Decision Tree"
   ]
  },
  {
   "cell_type": "markdown",
   "metadata": {
    "id": "KLCplg8l1CYL"
   },
   "source": [
    "The first model that I am going to train is a Decision Tree"
   ]
  },
  {
   "cell_type": "code",
   "execution_count": 55,
   "metadata": {
    "executionInfo": {
     "elapsed": 894,
     "status": "ok",
     "timestamp": 1656596490812,
     "user": {
      "displayName": "Omkar Hirugade",
      "userId": "16820285763758153216"
     },
     "user_tz": -330
    },
    "id": "oO5k754a1CYL"
   },
   "outputs": [],
   "source": [
    "from sklearn.tree import DecisionTreeRegressor\n",
    "from sklearn.metrics import mean_squared_error\n",
    "from sklearn.linear_model import LinearRegression"
   ]
  },
  {
   "cell_type": "code",
   "execution_count": 56,
   "metadata": {
    "executionInfo": {
     "elapsed": 37,
     "status": "ok",
     "timestamp": 1656596490813,
     "user": {
      "displayName": "Omkar Hirugade",
      "userId": "16820285763758153216"
     },
     "user_tz": -330
    },
    "id": "7S5chexU1CYL"
   },
   "outputs": [],
   "source": [
    "tree = DecisionTreeRegressor(random_state=42)"
   ]
  },
  {
   "cell_type": "code",
   "execution_count": 57,
   "metadata": {
    "colab": {
     "base_uri": "https://localhost:8080/"
    },
    "executionInfo": {
     "elapsed": 36,
     "status": "ok",
     "timestamp": 1656596490814,
     "user": {
      "displayName": "Omkar Hirugade",
      "userId": "16820285763758153216"
     },
     "user_tz": -330
    },
    "id": "qH_P1ouS1CYL",
    "outputId": "e50b3273-b188-4143-c964-96d76dd63895"
   },
   "outputs": [
    {
     "data": {
      "text/plain": [
       "DecisionTreeRegressor(random_state=42)"
      ]
     },
     "execution_count": 57,
     "metadata": {},
     "output_type": "execute_result"
    }
   ],
   "source": [
    "tree.fit(train_inputs,train_targets)"
   ]
  },
  {
   "cell_type": "code",
   "execution_count": 58,
   "metadata": {
    "executionInfo": {
     "elapsed": 35,
     "status": "ok",
     "timestamp": 1656596490815,
     "user": {
      "displayName": "Omkar Hirugade",
      "userId": "16820285763758153216"
     },
     "user_tz": -330
    },
    "id": "roPArjK11CYL"
   },
   "outputs": [],
   "source": [
    "train_targets_pred=tree.predict(train_inputs)"
   ]
  },
  {
   "cell_type": "code",
   "execution_count": 59,
   "metadata": {
    "executionInfo": {
     "elapsed": 34,
     "status": "ok",
     "timestamp": 1656596490815,
     "user": {
      "displayName": "Omkar Hirugade",
      "userId": "16820285763758153216"
     },
     "user_tz": -330
    },
    "id": "9H9G1lip1CYL"
   },
   "outputs": [],
   "source": [
    "train_loss = mean_squared_error(train_targets, train_targets_pred)\n"
   ]
  },
  {
   "cell_type": "code",
   "execution_count": 60,
   "metadata": {
    "colab": {
     "base_uri": "https://localhost:8080/"
    },
    "executionInfo": {
     "elapsed": 34,
     "status": "ok",
     "timestamp": 1656596490816,
     "user": {
      "displayName": "Omkar Hirugade",
      "userId": "16820285763758153216"
     },
     "user_tz": -330
    },
    "id": "g5n3ML5g1CYL",
    "outputId": "0b8fc3c2-6c45-49a9-d45e-8e507c203690"
   },
   "outputs": [
    {
     "data": {
      "text/plain": [
       "0.0"
      ]
     },
     "execution_count": 60,
     "metadata": {},
     "output_type": "execute_result"
    }
   ],
   "source": [
    "train_loss"
   ]
  },
  {
   "cell_type": "code",
   "execution_count": 61,
   "metadata": {
    "colab": {
     "base_uri": "https://localhost:8080/"
    },
    "executionInfo": {
     "elapsed": 33,
     "status": "ok",
     "timestamp": 1656596490817,
     "user": {
      "displayName": "Omkar Hirugade",
      "userId": "16820285763758153216"
     },
     "user_tz": -330
    },
    "id": "UvUFz0gp1CYM",
    "outputId": "59006d2a-225d-4141-f051-85187131a0e3"
   },
   "outputs": [
    {
     "data": {
      "text/plain": [
       "1.0"
      ]
     },
     "execution_count": 61,
     "metadata": {},
     "output_type": "execute_result"
    }
   ],
   "source": [
    "tree.score(train_inputs,train_targets)"
   ]
  },
  {
   "cell_type": "code",
   "execution_count": 62,
   "metadata": {
    "executionInfo": {
     "elapsed": 32,
     "status": "ok",
     "timestamp": 1656596490818,
     "user": {
      "displayName": "Omkar Hirugade",
      "userId": "16820285763758153216"
     },
     "user_tz": -330
    },
    "id": "eWkI8yBB1CYM"
   },
   "outputs": [],
   "source": [
    "val_targets_pred=tree.predict(val_inputs)"
   ]
  },
  {
   "cell_type": "code",
   "execution_count": 63,
   "metadata": {
    "executionInfo": {
     "elapsed": 31,
     "status": "ok",
     "timestamp": 1656596490818,
     "user": {
      "displayName": "Omkar Hirugade",
      "userId": "16820285763758153216"
     },
     "user_tz": -330
    },
    "id": "PiI8-8Bm1CYM"
   },
   "outputs": [],
   "source": [
    "val_loss= mean_squared_error(val_targets, val_targets_pred)"
   ]
  },
  {
   "cell_type": "code",
   "execution_count": 64,
   "metadata": {
    "colab": {
     "base_uri": "https://localhost:8080/"
    },
    "executionInfo": {
     "elapsed": 31,
     "status": "ok",
     "timestamp": 1656596490819,
     "user": {
      "displayName": "Omkar Hirugade",
      "userId": "16820285763758153216"
     },
     "user_tz": -330
    },
    "id": "nfcXhxiy1CYM",
    "outputId": "25c8b04d-608d-4c11-96e6-528b0a9bc49b"
   },
   "outputs": [
    {
     "data": {
      "text/plain": [
       "181823.6"
      ]
     },
     "execution_count": 64,
     "metadata": {},
     "output_type": "execute_result"
    }
   ],
   "source": [
    "val_loss"
   ]
  },
  {
   "cell_type": "code",
   "execution_count": 65,
   "metadata": {
    "colab": {
     "base_uri": "https://localhost:8080/"
    },
    "executionInfo": {
     "elapsed": 30,
     "status": "ok",
     "timestamp": 1656596490820,
     "user": {
      "displayName": "Omkar Hirugade",
      "userId": "16820285763758153216"
     },
     "user_tz": -330
    },
    "id": "gC5O5sBb1CYM",
    "outputId": "3283e004-50a1-4d8e-e418-394e11c16e1a"
   },
   "outputs": [
    {
     "data": {
      "text/plain": [
       "0.5153699346439373"
      ]
     },
     "execution_count": 65,
     "metadata": {},
     "output_type": "execute_result"
    }
   ],
   "source": [
    "tree.score(val_inputs,val_targets)"
   ]
  },
  {
   "cell_type": "code",
   "execution_count": 66,
   "metadata": {
    "colab": {
     "base_uri": "https://localhost:8080/",
     "height": 0
    },
    "executionInfo": {
     "elapsed": 31,
     "status": "ok",
     "timestamp": 1656596490822,
     "user": {
      "displayName": "Omkar Hirugade",
      "userId": "16820285763758153216"
     },
     "user_tz": -330
    },
    "id": "sUY-o2M01CYM",
    "outputId": "0a7eb312-efcd-495d-c697-bf8727514b51"
   },
   "outputs": [
    {
     "data": {
      "text/plain": [
       "Text(0, 0.5, 'Predictions ')"
      ]
     },
     "execution_count": 66,
     "metadata": {},
     "output_type": "execute_result"
    },
    {
     "data": {
      "image/png": "[encoded data removed]",
      "text/plain": [
       "<Figure size 1080x576 with 1 Axes>"
      ]
     },
     "metadata": {},
     "output_type": "display_data"
    }
   ],
   "source": [
    " plt.scatter(val_targets, val_targets_pred);\n",
    " plt.xlabel('True Values ')\n",
    " plt.ylabel('Predictions ')"
   ]
  },
  {
   "cell_type": "code",
   "execution_count": 67,
   "metadata": {
    "executionInfo": {
     "elapsed": 27,
     "status": "ok",
     "timestamp": 1656596490822,
     "user": {
      "displayName": "Omkar Hirugade",
      "userId": "16820285763758153216"
     },
     "user_tz": -330
    },
    "id": "_FdiGuub1CYM"
   },
   "outputs": [],
   "source": [
    "tree_importances = tree.feature_importances_"
   ]
  },
  {
   "cell_type": "code",
   "execution_count": 68,
   "metadata": {
    "executionInfo": {
     "elapsed": 27,
     "status": "ok",
     "timestamp": 1656596490823,
     "user": {
      "displayName": "Omkar Hirugade",
      "userId": "16820285763758153216"
     },
     "user_tz": -330
    },
    "id": "2yAiX8NJ1CYN"
   },
   "outputs": [],
   "source": [
    "tree_importance_df = pd.DataFrame({\n",
    "    'feature': train_inputs.columns,\n",
    "    'importance': tree_importances\n",
    "}).sort_values('importance', ascending=False)"
   ]
  },
  {
   "cell_type": "code",
   "execution_count": 69,
   "metadata": {
    "colab": {
     "base_uri": "https://localhost:8080/",
     "height": 0
    },
    "executionInfo": {
     "elapsed": 26,
     "status": "ok",
     "timestamp": 1656596490823,
     "user": {
      "displayName": "Omkar Hirugade",
      "userId": "16820285763758153216"
     },
     "user_tz": -330
    },
    "id": "3CFVSMsC1CYN",
    "outputId": "4d603648-fc84-434a-a4e1-0e507b9e12b7"
   },
   "outputs": [
    {
     "data": {
      "text/html": [
       "\n",
       "  <div id=\"df-467bc6ff-6e7d-4eda-bbd5-5b260381bb65\">\n",
       "    <div class=\"colab-df-container\">\n",
       "      <div>\n",
       "<style scoped>\n",
       "    .dataframe tbody tr th:only-of-type {\n",
       "        vertical-align: middle;\n",
       "    }\n",
       "\n",
       "    .dataframe tbody tr th {\n",
       "        vertical-align: top;\n",
       "    }\n",
       "\n",
       "    .dataframe thead th {\n",
       "        text-align: right;\n",
       "    }\n",
       "</style>\n",
       "<table border=\"1\" class=\"dataframe\">\n",
       "  <thead>\n",
       "    <tr style=\"text-align: right;\">\n",
       "      <th></th>\n",
       "      <th>feature</th>\n",
       "      <th>importance</th>\n",
       "    </tr>\n",
       "  </thead>\n",
       "  <tbody>\n",
       "    <tr>\n",
       "      <th>1</th>\n",
       "      <td>distance_miles</td>\n",
       "      <td>0.730924</td>\n",
       "    </tr>\n",
       "    <tr>\n",
       "      <th>5</th>\n",
       "      <td>pickup_month</td>\n",
       "      <td>0.090654</td>\n",
       "    </tr>\n",
       "    <tr>\n",
       "      <th>2</th>\n",
       "      <td>pickup_hour</td>\n",
       "      <td>0.090028</td>\n",
       "    </tr>\n",
       "    <tr>\n",
       "      <th>4</th>\n",
       "      <td>pickup_day</td>\n",
       "      <td>0.034112</td>\n",
       "    </tr>\n",
       "    <tr>\n",
       "      <th>6</th>\n",
       "      <td>pickup_location</td>\n",
       "      <td>0.026386</td>\n",
       "    </tr>\n",
       "    <tr>\n",
       "      <th>7</th>\n",
       "      <td>dropoff_location</td>\n",
       "      <td>0.022179</td>\n",
       "    </tr>\n",
       "    <tr>\n",
       "      <th>0</th>\n",
       "      <td>passenger_count</td>\n",
       "      <td>0.005717</td>\n",
       "    </tr>\n",
       "    <tr>\n",
       "      <th>3</th>\n",
       "      <td>store_and_fwd_flag</td>\n",
       "      <td>0.000000</td>\n",
       "    </tr>\n",
       "  </tbody>\n",
       "</table>\n",
       "</div>\n",
       "      <button class=\"colab-df-convert\" onclick=\"convertToInteractive('df-467bc6ff-6e7d-4eda-bbd5-5b260381bb65')\"\n",
       "              title=\"Convert this dataframe to an interactive table.\"\n",
       "              style=\"display:none;\">\n",
       "        \n",
       "  <svg xmlns=\"http://www.w3.org/2000/svg\" height=\"24px\"viewBox=\"0 0 24 24\"\n",
       "       width=\"24px\">\n",
       "    <path d=\"M0 0h24v24H0V0z\" fill=\"none\"/>\n",
       "    <path d=\"M18.56 5.44l.94 2.06.94-2.06 2.06-.94-2.06-.94-.94-2.06-.94 2.06-2.06.94zm-11 1L8.5 8.5l.94-2.06 2.06-.94-2.06-.94L8.5 2.5l-.94 2.06-2.06.94zm10 10l.94 2.06.94-2.06 2.06-.94-2.06-.94-.94-2.06-.94 2.06-2.06.94z\"/><path d=\"M17.41 7.96l-1.37-1.37c-.4-.4-.92-.59-1.43-.59-.52 0-1.04.2-1.43.59L10.3 9.45l-7.72 7.72c-.78.78-.78 2.05 0 2.83L4 21.41c.39.39.9.59 1.41.59.51 0 1.02-.2 1.41-.59l7.78-7.78 2.81-2.81c.8-.78.8-2.07 0-2.86zM5.41 20L4 18.59l7.72-7.72 1.47 1.35L5.41 20z\"/>\n",
       "  </svg>\n",
       "      </button>\n",
       "      \n",
       "  <style>\n",
       "    .colab-df-container {\n",
       "      display:flex;\n",
       "      flex-wrap:wrap;\n",
       "      gap: 12px;\n",
       "    }\n",
       "\n",
       "    .colab-df-convert {\n",
       "      background-color: #E8F0FE;\n",
       "      border: none;\n",
       "      border-radius: 50%;\n",
       "      cursor: pointer;\n",
       "      display: none;\n",
       "      fill: #1967D2;\n",
       "      height: 32px;\n",
       "      padding: 0 0 0 0;\n",
       "      width: 32px;\n",
       "    }\n",
       "\n",
       "    .colab-df-convert:hover {\n",
       "      background-color: #E2EBFA;\n",
       "      box-shadow: 0px 1px 2px rgba(60, 64, 67, 0.3), 0px 1px 3px 1px rgba(60, 64, 67, 0.15);\n",
       "      fill: #174EA6;\n",
       "    }\n",
       "\n",
       "    [theme=dark] .colab-df-convert {\n",
       "      background-color: #3B4455;\n",
       "      fill: #D2E3FC;\n",
       "    }\n",
       "\n",
       "    [theme=dark] .colab-df-convert:hover {\n",
       "      background-color: #434B5C;\n",
       "      box-shadow: 0px 1px 3px 1px rgba(0, 0, 0, 0.15);\n",
       "      filter: drop-shadow(0px 1px 2px rgba(0, 0, 0, 0.3));\n",
       "      fill: #FFFFFF;\n",
       "    }\n",
       "  </style>\n",
       "\n",
       "      <script>\n",
       "        const buttonEl =\n",
       "          document.querySelector('#df-467bc6ff-6e7d-4eda-bbd5-5b260381bb65 button.colab-df-convert');\n",
       "        buttonEl.style.display =\n",
       "          google.colab.kernel.accessAllowed ? 'block' : 'none';\n",
       "\n",
       "        async function convertToInteractive(key) {\n",
       "          const element = document.querySelector('#df-467bc6ff-6e7d-4eda-bbd5-5b260381bb65');\n",
       "          const dataTable =\n",
       "            await google.colab.kernel.invokeFunction('convertToInteractive',\n",
       "                                                     [key], {});\n",
       "          if (!dataTable) return;\n",
       "\n",
       "          const docLinkHtml = 'Like what you see? Visit the ' +\n",
       "            '<a target=\"_blank\" href=https://colab.research.google.com/notebooks/data_table.ipynb>data table notebook</a>'\n",
       "            + ' to learn more about interactive tables.';\n",
       "          element.innerHTML = '';\n",
       "          dataTable['output_type'] = 'display_data';\n",
       "          await google.colab.output.renderOutput(dataTable, element);\n",
       "          const docLink = document.createElement('div');\n",
       "          docLink.innerHTML = docLinkHtml;\n",
       "          element.appendChild(docLink);\n",
       "        }\n",
       "      </script>\n",
       "    </div>\n",
       "  </div>\n",
       "  "
      ],
      "text/plain": [
       "              feature  importance\n",
       "1  distance_miles      0.730924  \n",
       "5  pickup_month        0.090654  \n",
       "2  pickup_hour         0.090028  \n",
       "4  pickup_day          0.034112  \n",
       "6  pickup_location     0.026386  \n",
       "7  dropoff_location    0.022179  \n",
       "0  passenger_count     0.005717  \n",
       "3  store_and_fwd_flag  0.000000  "
      ]
     },
     "execution_count": 69,
     "metadata": {},
     "output_type": "execute_result"
    }
   ],
   "source": [
    "tree_importance_df"
   ]
  },
  {
   "cell_type": "code",
   "execution_count": 70,
   "metadata": {
    "colab": {
     "base_uri": "https://localhost:8080/",
     "height": 0
    },
    "executionInfo": {
     "elapsed": 651,
     "status": "ok",
     "timestamp": 1656596491451,
     "user": {
      "displayName": "Omkar Hirugade",
      "userId": "16820285763758153216"
     },
     "user_tz": -330
    },
    "id": "foYaPnFg1CYN",
    "outputId": "322c3a33-554a-4fe0-f553-b3328d1796d3"
   },
   "outputs": [
    {
     "data": {
      "image/png": "[encoded data removed]",
      "text/plain": [
       "<Figure size 1080x576 with 1 Axes>"
      ]
     },
     "metadata": {},
     "output_type": "display_data"
    }
   ],
   "source": [
    "plt.title('Decision Tree Feature Importance')\n",
    "sns.barplot(data=tree_importance_df.head(10), x='importance', y='feature');"
   ]
  },
  {
   "cell_type": "markdown",
   "metadata": {
    "id": "dYZiCiDV1CYN"
   },
   "source": [
    "# Model 2 RandomForestRegressor"
   ]
  },
  {
   "cell_type": "markdown",
   "metadata": {
    "id": "DetQZf6Q1CYN"
   },
   "source": [
    "The second model that I am going to train is a RandomForestRegressor"
   ]
  },
  {
   "cell_type": "code",
   "execution_count": 71,
   "metadata": {
    "executionInfo": {
     "elapsed": 22,
     "status": "ok",
     "timestamp": 1656596491452,
     "user": {
      "displayName": "Omkar Hirugade",
      "userId": "16820285763758153216"
     },
     "user_tz": -330
    },
    "id": "7jwKOqui1CYN"
   },
   "outputs": [],
   "source": [
    "from sklearn.ensemble import RandomForestRegressor"
   ]
  },
  {
   "cell_type": "code",
   "execution_count": 72,
   "metadata": {
    "executionInfo": {
     "elapsed": 20,
     "status": "ok",
     "timestamp": 1656596491453,
     "user": {
      "displayName": "Omkar Hirugade",
      "userId": "16820285763758153216"
     },
     "user_tz": -330
    },
    "id": "nCGAQQ2T1CYN"
   },
   "outputs": [],
   "source": [
    "rf1 = RandomForestRegressor(n_jobs=-1, random_state=42)"
   ]
  },
  {
   "cell_type": "code",
   "execution_count": 73,
   "metadata": {
    "colab": {
     "base_uri": "https://localhost:8080/"
    },
    "executionInfo": {
     "elapsed": 20,
     "status": "ok",
     "timestamp": 1656596491454,
     "user": {
      "displayName": "Omkar Hirugade",
      "userId": "16820285763758153216"
     },
     "user_tz": -330
    },
    "id": "09cDyChu1CYO",
    "outputId": "bca30b3a-cd11-4d5c-eabc-56d3a6736ad3"
   },
   "outputs": [
    {
     "data": {
      "text/plain": [
       "RandomForestRegressor(n_jobs=-1, random_state=42)"
      ]
     },
     "execution_count": 73,
     "metadata": {},
     "output_type": "execute_result"
    }
   ],
   "source": [
    "rf1.fit(train_inputs,train_targets)"
   ]
  },
  {
   "cell_type": "code",
   "execution_count": 74,
   "metadata": {
    "executionInfo": {
     "elapsed": 17,
     "status": "ok",
     "timestamp": 1656596491454,
     "user": {
      "displayName": "Omkar Hirugade",
      "userId": "16820285763758153216"
     },
     "user_tz": -330
    },
    "id": "KqQZHw461CYO"
   },
   "outputs": [],
   "source": [
    "train_targets_pred=rf1.predict(train_inputs)"
   ]
  },
  {
   "cell_type": "code",
   "execution_count": 75,
   "metadata": {
    "executionInfo": {
     "elapsed": 16,
     "status": "ok",
     "timestamp": 1656596491455,
     "user": {
      "displayName": "Omkar Hirugade",
      "userId": "16820285763758153216"
     },
     "user_tz": -330
    },
    "id": "BWeeLwhd1CYO"
   },
   "outputs": [],
   "source": [
    "train_loss = mean_squared_error(train_targets, train_targets_pred)"
   ]
  },
  {
   "cell_type": "code",
   "execution_count": 76,
   "metadata": {
    "colab": {
     "base_uri": "https://localhost:8080/"
    },
    "executionInfo": {
     "elapsed": 15,
     "status": "ok",
     "timestamp": 1656596491455,
     "user": {
      "displayName": "Omkar Hirugade",
      "userId": "16820285763758153216"
     },
     "user_tz": -330
    },
    "id": "YijT8RHo1CYO",
    "outputId": "7794d446-483b-4aab-abc4-b6919c3d7f21"
   },
   "outputs": [
    {
     "data": {
      "text/plain": [
       "34426.958423749995"
      ]
     },
     "execution_count": 76,
     "metadata": {},
     "output_type": "execute_result"
    }
   ],
   "source": [
    "train_loss"
   ]
  },
  {
   "cell_type": "code",
   "execution_count": 77,
   "metadata": {
    "colab": {
     "base_uri": "https://localhost:8080/"
    },
    "executionInfo": {
     "elapsed": 567,
     "status": "ok",
     "timestamp": 1656596492010,
     "user": {
      "displayName": "Omkar Hirugade",
      "userId": "16820285763758153216"
     },
     "user_tz": -330
    },
    "id": "msjTIXoo1CYP",
    "outputId": "ba194464-d9cb-45f0-b72a-ed18c202a294"
   },
   "outputs": [
    {
     "data": {
      "text/plain": [
       "0.929336819184423"
      ]
     },
     "execution_count": 77,
     "metadata": {},
     "output_type": "execute_result"
    }
   ],
   "source": [
    "rf1.score(train_inputs,train_targets)"
   ]
  },
  {
   "cell_type": "code",
   "execution_count": 78,
   "metadata": {
    "executionInfo": {
     "elapsed": 30,
     "status": "ok",
     "timestamp": 1656596492011,
     "user": {
      "displayName": "Omkar Hirugade",
      "userId": "16820285763758153216"
     },
     "user_tz": -330
    },
    "id": "PhUPjZq31CYP"
   },
   "outputs": [],
   "source": [
    "rf1_val_preds = rf1.predict(val_inputs)"
   ]
  },
  {
   "cell_type": "code",
   "execution_count": 79,
   "metadata": {
    "executionInfo": {
     "elapsed": 30,
     "status": "ok",
     "timestamp": 1656596492012,
     "user": {
      "displayName": "Omkar Hirugade",
      "userId": "16820285763758153216"
     },
     "user_tz": -330
    },
    "id": "I8uAxcHX1CYP"
   },
   "outputs": [],
   "source": [
    "val_targets_pred=tree.predict(val_inputs)"
   ]
  },
  {
   "cell_type": "code",
   "execution_count": 80,
   "metadata": {
    "executionInfo": {
     "elapsed": 29,
     "status": "ok",
     "timestamp": 1656596492013,
     "user": {
      "displayName": "Omkar Hirugade",
      "userId": "16820285763758153216"
     },
     "user_tz": -330
    },
    "id": "NN29cG3V1CYQ"
   },
   "outputs": [],
   "source": [
    "val_loss= mean_squared_error(val_targets, val_targets_pred)"
   ]
  },
  {
   "cell_type": "code",
   "execution_count": 81,
   "metadata": {
    "colab": {
     "base_uri": "https://localhost:8080/"
    },
    "executionInfo": {
     "elapsed": 29,
     "status": "ok",
     "timestamp": 1656596492014,
     "user": {
      "displayName": "Omkar Hirugade",
      "userId": "16820285763758153216"
     },
     "user_tz": -330
    },
    "id": "F2jW5d9V1CYQ",
    "outputId": "6c7bcb2f-c2a6-40b5-88bf-4c7906c9c254"
   },
   "outputs": [
    {
     "data": {
      "text/plain": [
       "181823.6"
      ]
     },
     "execution_count": 81,
     "metadata": {},
     "output_type": "execute_result"
    }
   ],
   "source": [
    "val_loss"
   ]
  },
  {
   "cell_type": "code",
   "execution_count": 82,
   "metadata": {
    "colab": {
     "base_uri": "https://localhost:8080/"
    },
    "executionInfo": {
     "elapsed": 28,
     "status": "ok",
     "timestamp": 1656596492015,
     "user": {
      "displayName": "Omkar Hirugade",
      "userId": "16820285763758153216"
     },
     "user_tz": -330
    },
    "id": "1Ere6Nz_1CYQ",
    "outputId": "ce8ed706-4761-413b-aa1c-6101529c7331"
   },
   "outputs": [
    {
     "data": {
      "text/plain": [
       "0.6424299007364969"
      ]
     },
     "execution_count": 82,
     "metadata": {},
     "output_type": "execute_result"
    }
   ],
   "source": [
    "rf1.score(val_inputs,val_targets)"
   ]
  },
  {
   "cell_type": "markdown",
   "metadata": {
    "id": "6yN9Gvrr1CYR"
   },
   "source": [
    "# Model 3 LinearRegression"
   ]
  },
  {
   "cell_type": "markdown",
   "metadata": {
    "id": "4lG6QsNB1CYR"
   },
   "source": [
    "The third model that I am going to train is a LinearRegression"
   ]
  },
  {
   "cell_type": "code",
   "execution_count": 83,
   "metadata": {
    "executionInfo": {
     "elapsed": 28,
     "status": "ok",
     "timestamp": 1656596492016,
     "user": {
      "displayName": "Omkar Hirugade",
      "userId": "16820285763758153216"
     },
     "user_tz": -330
    },
    "id": "6QqWDT521CYR"
   },
   "outputs": [],
   "source": [
    "model=LinearRegression()"
   ]
  },
  {
   "cell_type": "code",
   "execution_count": 84,
   "metadata": {
    "executionInfo": {
     "elapsed": 28,
     "status": "ok",
     "timestamp": 1656596492017,
     "user": {
      "displayName": "Omkar Hirugade",
      "userId": "16820285763758153216"
     },
     "user_tz": -330
    },
    "id": "hj5MxObG1CYR"
   },
   "outputs": [],
   "source": [
    "model = LinearRegression().fit(train_inputs, train_targets)\n",
    "\n",
    "# Generate predictions\n",
    "predictions = model.predict(train_inputs)"
   ]
  },
  {
   "cell_type": "code",
   "execution_count": 85,
   "metadata": {
    "executionInfo": {
     "elapsed": 28,
     "status": "ok",
     "timestamp": 1656596492018,
     "user": {
      "displayName": "Omkar Hirugade",
      "userId": "16820285763758153216"
     },
     "user_tz": -330
    },
    "id": "6s5YYoXn1CYR"
   },
   "outputs": [],
   "source": [
    "train_loss = mean_squared_error(train_targets, predictions)"
   ]
  },
  {
   "cell_type": "code",
   "execution_count": 86,
   "metadata": {
    "colab": {
     "base_uri": "https://localhost:8080/"
    },
    "executionInfo": {
     "elapsed": 27,
     "status": "ok",
     "timestamp": 1656596492018,
     "user": {
      "displayName": "Omkar Hirugade",
      "userId": "16820285763758153216"
     },
     "user_tz": -330
    },
    "id": "Q4qQrDop1CYR",
    "outputId": "dcfa976e-0c3a-4257-ab2d-5dea431fc2e5"
   },
   "outputs": [
    {
     "data": {
      "text/plain": [
       "248083.7221201105"
      ]
     },
     "execution_count": 86,
     "metadata": {},
     "output_type": "execute_result"
    }
   ],
   "source": [
    "train_loss"
   ]
  },
  {
   "cell_type": "code",
   "execution_count": 87,
   "metadata": {
    "colab": {
     "base_uri": "https://localhost:8080/"
    },
    "executionInfo": {
     "elapsed": 27,
     "status": "ok",
     "timestamp": 1656596492019,
     "user": {
      "displayName": "Omkar Hirugade",
      "userId": "16820285763758153216"
     },
     "user_tz": -330
    },
    "id": "b81iIqwy1CYR",
    "outputId": "b3f36824-cf36-4f4b-e2a8-5ee933dd301c"
   },
   "outputs": [
    {
     "data": {
      "text/plain": [
       "0.4907948388062916"
      ]
     },
     "execution_count": 87,
     "metadata": {},
     "output_type": "execute_result"
    }
   ],
   "source": [
    "model.score(train_inputs,train_targets)"
   ]
  },
  {
   "cell_type": "code",
   "execution_count": 88,
   "metadata": {
    "executionInfo": {
     "elapsed": 26,
     "status": "ok",
     "timestamp": 1656596492020,
     "user": {
      "displayName": "Omkar Hirugade",
      "userId": "16820285763758153216"
     },
     "user_tz": -330
    },
    "id": "ri5jr2A31CYS"
   },
   "outputs": [],
   "source": [
    "val_predictions= model.predict(val_inputs)"
   ]
  },
  {
   "cell_type": "code",
   "execution_count": 89,
   "metadata": {
    "executionInfo": {
     "elapsed": 26,
     "status": "ok",
     "timestamp": 1656596492021,
     "user": {
      "displayName": "Omkar Hirugade",
      "userId": "16820285763758153216"
     },
     "user_tz": -330
    },
    "id": "27yw-qBl1CYS"
   },
   "outputs": [],
   "source": [
    "val_loss = mean_squared_error(train_targets, predictions)"
   ]
  },
  {
   "cell_type": "code",
   "execution_count": 90,
   "metadata": {
    "colab": {
     "base_uri": "https://localhost:8080/"
    },
    "executionInfo": {
     "elapsed": 26,
     "status": "ok",
     "timestamp": 1656596492022,
     "user": {
      "displayName": "Omkar Hirugade",
      "userId": "16820285763758153216"
     },
     "user_tz": -330
    },
    "id": "2COCOSpf1CYS",
    "outputId": "3856114c-db7e-4e62-9954-e4859af29a25"
   },
   "outputs": [
    {
     "data": {
      "text/plain": [
       "248083.7221201105"
      ]
     },
     "execution_count": 90,
     "metadata": {},
     "output_type": "execute_result"
    }
   ],
   "source": [
    "val_loss"
   ]
  },
  {
   "cell_type": "code",
   "execution_count": 91,
   "metadata": {
    "colab": {
     "base_uri": "https://localhost:8080/"
    },
    "executionInfo": {
     "elapsed": 24,
     "status": "ok",
     "timestamp": 1656596492022,
     "user": {
      "displayName": "Omkar Hirugade",
      "userId": "16820285763758153216"
     },
     "user_tz": -330
    },
    "id": "V_hZF4Z-1CYT",
    "outputId": "92501fa9-dbb1-499d-9b48-300f677db282"
   },
   "outputs": [
    {
     "data": {
      "text/plain": [
       "0.3348218669604104"
      ]
     },
     "execution_count": 91,
     "metadata": {},
     "output_type": "execute_result"
    }
   ],
   "source": [
    "model.score(val_inputs,val_targets)"
   ]
  },
  {
   "cell_type": "markdown",
   "metadata": {
    "id": "nPr4ZBvm1CYT"
   },
   "source": [
    "# Model 4 XGBRegressor"
   ]
  },
  {
   "cell_type": "markdown",
   "metadata": {
    "id": "je2vEQCJ1CYU"
   },
   "source": [
    "The fourth model that I am going to train is a XGBRegressor"
   ]
  },
  {
   "cell_type": "code",
   "execution_count": 92,
   "metadata": {
    "executionInfo": {
     "elapsed": 750,
     "status": "ok",
     "timestamp": 1656596492751,
     "user": {
      "displayName": "Omkar Hirugade",
      "userId": "16820285763758153216"
     },
     "user_tz": -330
    },
    "id": "kEcW_ZI41CYU"
   },
   "outputs": [],
   "source": [
    "from xgboost import XGBRegressor"
   ]
  },
  {
   "cell_type": "code",
   "execution_count": 93,
   "metadata": {
    "executionInfo": {
     "elapsed": 42,
     "status": "ok",
     "timestamp": 1656596492752,
     "user": {
      "displayName": "Omkar Hirugade",
      "userId": "16820285763758153216"
     },
     "user_tz": -330
    },
    "id": "KjdI21nl1CYU"
   },
   "outputs": [],
   "source": [
    "model = XGBRegressor(random_state=42, n_jobs=-1, n_estimators=20, max_depth=4)"
   ]
  },
  {
   "cell_type": "code",
   "execution_count": 94,
   "metadata": {
    "colab": {
     "base_uri": "https://localhost:8080/"
    },
    "executionInfo": {
     "elapsed": 40,
     "status": "ok",
     "timestamp": 1656596492753,
     "user": {
      "displayName": "Omkar Hirugade",
      "userId": "16820285763758153216"
     },
     "user_tz": -330
    },
    "id": "dc4G5Zcr1CYU",
    "outputId": "56abf61c-6c6f-4125-8972-cbba1a29c21c"
   },
   "outputs": [
    {
     "name": "stdout",
     "output_type": "stream",
     "text": [
      "[13:41:33] WARNING: /workspace/src/objective/regression_obj.cu:152: reg:linear is now deprecated in favor of reg:squarederror.\n"
     ]
    },
    {
     "data": {
      "text/plain": [
       "XGBRegressor(max_depth=4, n_estimators=20, n_jobs=-1, random_state=42)"
      ]
     },
     "execution_count": 94,
     "metadata": {},
     "output_type": "execute_result"
    }
   ],
   "source": [
    "model.fit(train_inputs, train_targets)"
   ]
  },
  {
   "cell_type": "code",
   "execution_count": 95,
   "metadata": {
    "executionInfo": {
     "elapsed": 34,
     "status": "ok",
     "timestamp": 1656596492753,
     "user": {
      "displayName": "Omkar Hirugade",
      "userId": "16820285763758153216"
     },
     "user_tz": -330
    },
    "id": "Skj9U88h1CYU"
   },
   "outputs": [],
   "source": [
    "preds = model.predict(train_inputs)"
   ]
  },
  {
   "cell_type": "code",
   "execution_count": 96,
   "metadata": {
    "executionInfo": {
     "elapsed": 32,
     "status": "ok",
     "timestamp": 1656596492754,
     "user": {
      "displayName": "Omkar Hirugade",
      "userId": "16820285763758153216"
     },
     "user_tz": -330
    },
    "id": "YF_ZSkG51CYU"
   },
   "outputs": [],
   "source": [
    "train_loss = mean_squared_error(train_targets, preds)"
   ]
  },
  {
   "cell_type": "code",
   "execution_count": 97,
   "metadata": {
    "colab": {
     "base_uri": "https://localhost:8080/"
    },
    "executionInfo": {
     "elapsed": 30,
     "status": "ok",
     "timestamp": 1656596492754,
     "user": {
      "displayName": "Omkar Hirugade",
      "userId": "16820285763758153216"
     },
     "user_tz": -330
    },
    "id": "vQbPJ_GB1CYU",
    "outputId": "a7347717-6991-4c4f-d1a6-8d762aa5bccf"
   },
   "outputs": [
    {
     "data": {
      "text/plain": [
       "70570.93574427768"
      ]
     },
     "execution_count": 97,
     "metadata": {},
     "output_type": "execute_result"
    }
   ],
   "source": [
    "train_loss"
   ]
  },
  {
   "cell_type": "code",
   "execution_count": 98,
   "metadata": {
    "colab": {
     "base_uri": "https://localhost:8080/"
    },
    "executionInfo": {
     "elapsed": 28,
     "status": "ok",
     "timestamp": 1656596492755,
     "user": {
      "displayName": "Omkar Hirugade",
      "userId": "16820285763758153216"
     },
     "user_tz": -330
    },
    "id": "i9VKcc531CYV",
    "outputId": "163f22b1-186f-4708-fc0c-d5f79ee668ac"
   },
   "outputs": [
    {
     "data": {
      "text/plain": [
       "0.8551493648831273"
      ]
     },
     "execution_count": 98,
     "metadata": {},
     "output_type": "execute_result"
    }
   ],
   "source": [
    "model.score(train_inputs,train_targets)"
   ]
  },
  {
   "cell_type": "code",
   "execution_count": 99,
   "metadata": {
    "executionInfo": {
     "elapsed": 25,
     "status": "ok",
     "timestamp": 1656596492755,
     "user": {
      "displayName": "Omkar Hirugade",
      "userId": "16820285763758153216"
     },
     "user_tz": -330
    },
    "id": "M5NtBoO81CYV"
   },
   "outputs": [],
   "source": [
    "val_preds = model.predict(val_inputs)"
   ]
  },
  {
   "cell_type": "code",
   "execution_count": 100,
   "metadata": {
    "executionInfo": {
     "elapsed": 24,
     "status": "ok",
     "timestamp": 1656596492756,
     "user": {
      "displayName": "Omkar Hirugade",
      "userId": "16820285763758153216"
     },
     "user_tz": -330
    },
    "id": "9uFrv4dh1CYV"
   },
   "outputs": [],
   "source": [
    "val_loss = mean_squared_error(val_targets, val_preds)"
   ]
  },
  {
   "cell_type": "code",
   "execution_count": 101,
   "metadata": {
    "colab": {
     "base_uri": "https://localhost:8080/"
    },
    "executionInfo": {
     "elapsed": 23,
     "status": "ok",
     "timestamp": 1656596492756,
     "user": {
      "displayName": "Omkar Hirugade",
      "userId": "16820285763758153216"
     },
     "user_tz": -330
    },
    "id": "LjyE-TAF1CYV",
    "outputId": "f6e13a82-cc1e-4e1e-c1f3-4c86237045bb"
   },
   "outputs": [
    {
     "data": {
      "text/plain": [
       "202980.0431881786"
      ]
     },
     "execution_count": 101,
     "metadata": {},
     "output_type": "execute_result"
    }
   ],
   "source": [
    "val_loss"
   ]
  },
  {
   "cell_type": "code",
   "execution_count": 102,
   "metadata": {
    "colab": {
     "base_uri": "https://localhost:8080/"
    },
    "executionInfo": {
     "elapsed": 22,
     "status": "ok",
     "timestamp": 1656596492757,
     "user": {
      "displayName": "Omkar Hirugade",
      "userId": "16820285763758153216"
     },
     "user_tz": -330
    },
    "id": "zhldRtFC1CYV",
    "outputId": "70ec7fed-2a52-4e1f-973a-1efe65464d87"
   },
   "outputs": [
    {
     "data": {
      "text/plain": [
       "0.4589798486210622"
      ]
     },
     "execution_count": 102,
     "metadata": {},
     "output_type": "execute_result"
    }
   ],
   "source": [
    "model.score(val_inputs,val_targets)"
   ]
  },
  {
   "cell_type": "markdown",
   "metadata": {
    "id": "kjAeRbk01CYV"
   },
   "source": [
    "## Feature importance\n",
    "\n",
    " XGBoost also provides a feature importance score for each column in the input."
   ]
  },
  {
   "cell_type": "code",
   "execution_count": 103,
   "metadata": {
    "executionInfo": {
     "elapsed": 19,
     "status": "ok",
     "timestamp": 1656596492757,
     "user": {
      "displayName": "Omkar Hirugade",
      "userId": "16820285763758153216"
     },
     "user_tz": -330
    },
    "id": "pS_E4x6w1CYV"
   },
   "outputs": [],
   "source": [
    "importance_df = pd.DataFrame({\n",
    "    'feature': val_inputs.columns,\n",
    "    'importance': model.feature_importances_\n",
    "}).sort_values('importance', ascending=False)"
   ]
  },
  {
   "cell_type": "code",
   "execution_count": 104,
   "metadata": {
    "colab": {
     "base_uri": "https://localhost:8080/",
     "height": 0
    },
    "executionInfo": {
     "elapsed": 19,
     "status": "ok",
     "timestamp": 1656596492758,
     "user": {
      "displayName": "Omkar Hirugade",
      "userId": "16820285763758153216"
     },
     "user_tz": -330
    },
    "id": "UBeETOjV1CYW",
    "outputId": "e21f50c2-4c51-4a9c-8ff9-3ef684c3368a"
   },
   "outputs": [
    {
     "data": {
      "text/html": [
       "\n",
       "  <div id=\"df-cd401cc1-5233-488e-a53a-09450b0bb6bd\">\n",
       "    <div class=\"colab-df-container\">\n",
       "      <div>\n",
       "<style scoped>\n",
       "    .dataframe tbody tr th:only-of-type {\n",
       "        vertical-align: middle;\n",
       "    }\n",
       "\n",
       "    .dataframe tbody tr th {\n",
       "        vertical-align: top;\n",
       "    }\n",
       "\n",
       "    .dataframe thead th {\n",
       "        text-align: right;\n",
       "    }\n",
       "</style>\n",
       "<table border=\"1\" class=\"dataframe\">\n",
       "  <thead>\n",
       "    <tr style=\"text-align: right;\">\n",
       "      <th></th>\n",
       "      <th>feature</th>\n",
       "      <th>importance</th>\n",
       "    </tr>\n",
       "  </thead>\n",
       "  <tbody>\n",
       "    <tr>\n",
       "      <th>1</th>\n",
       "      <td>distance_miles</td>\n",
       "      <td>0.598005</td>\n",
       "    </tr>\n",
       "    <tr>\n",
       "      <th>5</th>\n",
       "      <td>pickup_month</td>\n",
       "      <td>0.107259</td>\n",
       "    </tr>\n",
       "    <tr>\n",
       "      <th>2</th>\n",
       "      <td>pickup_hour</td>\n",
       "      <td>0.107026</td>\n",
       "    </tr>\n",
       "    <tr>\n",
       "      <th>6</th>\n",
       "      <td>pickup_location</td>\n",
       "      <td>0.077638</td>\n",
       "    </tr>\n",
       "    <tr>\n",
       "      <th>7</th>\n",
       "      <td>dropoff_location</td>\n",
       "      <td>0.055364</td>\n",
       "    </tr>\n",
       "    <tr>\n",
       "      <th>0</th>\n",
       "      <td>passenger_count</td>\n",
       "      <td>0.044058</td>\n",
       "    </tr>\n",
       "    <tr>\n",
       "      <th>4</th>\n",
       "      <td>pickup_day</td>\n",
       "      <td>0.010650</td>\n",
       "    </tr>\n",
       "    <tr>\n",
       "      <th>3</th>\n",
       "      <td>store_and_fwd_flag</td>\n",
       "      <td>0.000000</td>\n",
       "    </tr>\n",
       "  </tbody>\n",
       "</table>\n",
       "</div>\n",
       "      <button class=\"colab-df-convert\" onclick=\"convertToInteractive('df-cd401cc1-5233-488e-a53a-09450b0bb6bd')\"\n",
       "              title=\"Convert this dataframe to an interactive table.\"\n",
       "              style=\"display:none;\">\n",
       "        \n",
       "  <svg xmlns=\"http://www.w3.org/2000/svg\" height=\"24px\"viewBox=\"0 0 24 24\"\n",
       "       width=\"24px\">\n",
       "    <path d=\"M0 0h24v24H0V0z\" fill=\"none\"/>\n",
       "    <path d=\"M18.56 5.44l.94 2.06.94-2.06 2.06-.94-2.06-.94-.94-2.06-.94 2.06-2.06.94zm-11 1L8.5 8.5l.94-2.06 2.06-.94-2.06-.94L8.5 2.5l-.94 2.06-2.06.94zm10 10l.94 2.06.94-2.06 2.06-.94-2.06-.94-.94-2.06-.94 2.06-2.06.94z\"/><path d=\"M17.41 7.96l-1.37-1.37c-.4-.4-.92-.59-1.43-.59-.52 0-1.04.2-1.43.59L10.3 9.45l-7.72 7.72c-.78.78-.78 2.05 0 2.83L4 21.41c.39.39.9.59 1.41.59.51 0 1.02-.2 1.41-.59l7.78-7.78 2.81-2.81c.8-.78.8-2.07 0-2.86zM5.41 20L4 18.59l7.72-7.72 1.47 1.35L5.41 20z\"/>\n",
       "  </svg>\n",
       "      </button>\n",
       "      \n",
       "  <style>\n",
       "    .colab-df-container {\n",
       "      display:flex;\n",
       "      flex-wrap:wrap;\n",
       "      gap: 12px;\n",
       "    }\n",
       "\n",
       "    .colab-df-convert {\n",
       "      background-color: #E8F0FE;\n",
       "      border: none;\n",
       "      border-radius: 50%;\n",
       "      cursor: pointer;\n",
       "      display: none;\n",
       "      fill: #1967D2;\n",
       "      height: 32px;\n",
       "      padding: 0 0 0 0;\n",
       "      width: 32px;\n",
       "    }\n",
       "\n",
       "    .colab-df-convert:hover {\n",
       "      background-color: #E2EBFA;\n",
       "      box-shadow: 0px 1px 2px rgba(60, 64, 67, 0.3), 0px 1px 3px 1px rgba(60, 64, 67, 0.15);\n",
       "      fill: #174EA6;\n",
       "    }\n",
       "\n",
       "    [theme=dark] .colab-df-convert {\n",
       "      background-color: #3B4455;\n",
       "      fill: #D2E3FC;\n",
       "    }\n",
       "\n",
       "    [theme=dark] .colab-df-convert:hover {\n",
       "      background-color: #434B5C;\n",
       "      box-shadow: 0px 1px 3px 1px rgba(0, 0, 0, 0.15);\n",
       "      filter: drop-shadow(0px 1px 2px rgba(0, 0, 0, 0.3));\n",
       "      fill: #FFFFFF;\n",
       "    }\n",
       "  </style>\n",
       "\n",
       "      <script>\n",
       "        const buttonEl =\n",
       "          document.querySelector('#df-cd401cc1-5233-488e-a53a-09450b0bb6bd button.colab-df-convert');\n",
       "        buttonEl.style.display =\n",
       "          google.colab.kernel.accessAllowed ? 'block' : 'none';\n",
       "\n",
       "        async function convertToInteractive(key) {\n",
       "          const element = document.querySelector('#df-cd401cc1-5233-488e-a53a-09450b0bb6bd');\n",
       "          const dataTable =\n",
       "            await google.colab.kernel.invokeFunction('convertToInteractive',\n",
       "                                                     [key], {});\n",
       "          if (!dataTable) return;\n",
       "\n",
       "          const docLinkHtml = 'Like what you see? Visit the ' +\n",
       "            '<a target=\"_blank\" href=https://colab.research.google.com/notebooks/data_table.ipynb>data table notebook</a>'\n",
       "            + ' to learn more about interactive tables.';\n",
       "          element.innerHTML = '';\n",
       "          dataTable['output_type'] = 'display_data';\n",
       "          await google.colab.output.renderOutput(dataTable, element);\n",
       "          const docLink = document.createElement('div');\n",
       "          docLink.innerHTML = docLinkHtml;\n",
       "          element.appendChild(docLink);\n",
       "        }\n",
       "      </script>\n",
       "    </div>\n",
       "  </div>\n",
       "  "
      ],
      "text/plain": [
       "              feature  importance\n",
       "1  distance_miles      0.598005  \n",
       "5  pickup_month        0.107259  \n",
       "2  pickup_hour         0.107026  \n",
       "6  pickup_location     0.077638  \n",
       "7  dropoff_location    0.055364  \n",
       "0  passenger_count     0.044058  \n",
       "4  pickup_day          0.010650  \n",
       "3  store_and_fwd_flag  0.000000  "
      ]
     },
     "execution_count": 104,
     "metadata": {},
     "output_type": "execute_result"
    }
   ],
   "source": [
    "importance_df.head(10)"
   ]
  },
  {
   "cell_type": "code",
   "execution_count": 105,
   "metadata": {
    "colab": {
     "base_uri": "https://localhost:8080/",
     "height": 0
    },
    "executionInfo": {
     "elapsed": 829,
     "status": "ok",
     "timestamp": 1656596493573,
     "user": {
      "displayName": "Omkar Hirugade",
      "userId": "16820285763758153216"
     },
     "user_tz": -330
    },
    "id": "RF6ieIH-1CYW",
    "outputId": "7ae0cb6a-1f18-4123-b4a3-ff96f1852590"
   },
   "outputs": [
    {
     "data": {
      "image/png": "[encoded data removed]",
      "text/plain": [
       "<Figure size 720x432 with 1 Axes>"
      ]
     },
     "metadata": {},
     "output_type": "display_data"
    }
   ],
   "source": [
    "import seaborn as sns\n",
    "plt.figure(figsize=(10,6))\n",
    "plt.title('Feature Importance')\n",
    "sns.barplot(data=importance_df.head(10), x='importance', y='feature');\n"
   ]
  },
  {
   "cell_type": "markdown",
   "metadata": {
    "id": "m9FtY3gE1CYW"
   },
   "source": [
    "## K Fold Cross Validation\n",
    "We'll use a different validation strategy this time, called K-fold cross validation"
   ]
  },
  {
   "cell_type": "code",
   "execution_count": 106,
   "metadata": {
    "executionInfo": {
     "elapsed": 38,
     "status": "ok",
     "timestamp": 1656596493574,
     "user": {
      "displayName": "Omkar Hirugade",
      "userId": "16820285763758153216"
     },
     "user_tz": -330
    },
    "id": "WXSGaQUL1CYW"
   },
   "outputs": [],
   "source": [
    "from sklearn.model_selection import KFold"
   ]
  },
  {
   "cell_type": "code",
   "execution_count": 107,
   "metadata": {
    "executionInfo": {
     "elapsed": 36,
     "status": "ok",
     "timestamp": 1656596493575,
     "user": {
      "displayName": "Omkar Hirugade",
      "userId": "16820285763758153216"
     },
     "user_tz": -330
    },
    "id": "TYSIEQno1CYW"
   },
   "outputs": [],
   "source": [
    "from sklearn.metrics import mean_squared_error\n"
   ]
  },
  {
   "cell_type": "code",
   "execution_count": 108,
   "metadata": {
    "executionInfo": {
     "elapsed": 34,
     "status": "ok",
     "timestamp": 1656596493575,
     "user": {
      "displayName": "Omkar Hirugade",
      "userId": "16820285763758153216"
     },
     "user_tz": -330
    },
    "id": "f1KywIvJ1CYW"
   },
   "outputs": [],
   "source": [
    "def rmse(a, b):\n",
    "    return mean_squared_error(a, b, squared=False)\n"
   ]
  },
  {
   "cell_type": "code",
   "execution_count": 109,
   "metadata": {
    "executionInfo": {
     "elapsed": 34,
     "status": "ok",
     "timestamp": 1656596493576,
     "user": {
      "displayName": "Omkar Hirugade",
      "userId": "16820285763758153216"
     },
     "user_tz": -330
    },
    "id": "OS36PDTB1CYW"
   },
   "outputs": [],
   "source": [
    "def train_and_evaluate(X_train, train_targets, X_val, val_targets, **params):\n",
    "    model = XGBRegressor(random_state=42, n_jobs=-1, **params)\n",
    "    model.fit(X_train, train_targets)\n",
    "    train_rmse = rmse(model.predict(X_train), train_targets)\n",
    "    val_rmse = rmse(model.predict(X_val), val_targets)\n",
    "    return model, train_rmse, val_rmse\n"
   ]
  },
  {
   "cell_type": "code",
   "execution_count": 110,
   "metadata": {
    "executionInfo": {
     "elapsed": 32,
     "status": "ok",
     "timestamp": 1656596493576,
     "user": {
      "displayName": "Omkar Hirugade",
      "userId": "16820285763758153216"
     },
     "user_tz": -330
    },
    "id": "-iUtj8Wj1CYX"
   },
   "outputs": [],
   "source": [
    "kfold = KFold(n_splits=5)"
   ]
  },
  {
   "cell_type": "code",
   "execution_count": 111,
   "metadata": {
    "colab": {
     "base_uri": "https://localhost:8080/"
    },
    "executionInfo": {
     "elapsed": 31,
     "status": "ok",
     "timestamp": 1656596493577,
     "user": {
      "displayName": "Omkar Hirugade",
      "userId": "16820285763758153216"
     },
     "user_tz": -330
    },
    "id": "sG6mwCso1CYX",
    "outputId": "4213d0c4-0b0b-49cc-d798-c1754720d65b"
   },
   "outputs": [
    {
     "name": "stdout",
     "output_type": "stream",
     "text": [
      "[13:41:33] WARNING: /workspace/src/objective/regression_obj.cu:152: reg:linear is now deprecated in favor of reg:squarederror.\n",
      "Train RMSE: 282.9215051224088, Validation RMSE: 501.4156581336584\n",
      "[13:41:33] WARNING: /workspace/src/objective/regression_obj.cu:152: reg:linear is now deprecated in favor of reg:squarederror.\n",
      "Train RMSE: 278.22975382381924, Validation RMSE: 458.46521675074945\n",
      "[13:41:33] WARNING: /workspace/src/objective/regression_obj.cu:152: reg:linear is now deprecated in favor of reg:squarederror.\n",
      "Train RMSE: 231.19437246750803, Validation RMSE: 790.7074920143757\n",
      "[13:41:33] WARNING: /workspace/src/objective/regression_obj.cu:152: reg:linear is now deprecated in favor of reg:squarederror.\n",
      "Train RMSE: 270.69066862959744, Validation RMSE: 449.3663101969354\n",
      "[13:41:33] WARNING: /workspace/src/objective/regression_obj.cu:152: reg:linear is now deprecated in favor of reg:squarederror.\n",
      "Train RMSE: 283.9057607652019, Validation RMSE: 447.46522033337374\n"
     ]
    }
   ],
   "source": [
    "models = []\n",
    "\n",
    "for train_idxs, val_idxs in kfold.split(inputs_df):\n",
    "    train_inputs, train_targets = inputs_df.iloc[train_idxs], targets.iloc[train_idxs]\n",
    "    val_inputs, val_targets = inputs_df.iloc[val_idxs], targets.iloc[val_idxs]\n",
    "    model, train_rmse, val_rmse = train_and_evaluate(train_inputs, \n",
    "                                                     train_targets, \n",
    "                                                     val_inputs, \n",
    "                                                     val_targets, \n",
    "                                                     max_depth=4, \n",
    "                                                     n_estimators=20)\n",
    "    models.append(model)\n",
    "    print('Train RMSE: {}, Validation RMSE: {}'.format(train_rmse, val_rmse))\n"
   ]
  },
  {
   "cell_type": "code",
   "execution_count": 112,
   "metadata": {
    "executionInfo": {
     "elapsed": 27,
     "status": "ok",
     "timestamp": 1656596493578,
     "user": {
      "displayName": "Omkar Hirugade",
      "userId": "16820285763758153216"
     },
     "user_tz": -330
    },
    "id": "fCMoRrnU1CYX"
   },
   "outputs": [],
   "source": [
    "import numpy as np\n",
    "\n",
    "def predict_avg(models, inputs):\n",
    "    return np.mean([model.predict(inputs) for model in models], axis=0)\n"
   ]
  },
  {
   "cell_type": "code",
   "execution_count": 113,
   "metadata": {
    "executionInfo": {
     "elapsed": 25,
     "status": "ok",
     "timestamp": 1656596493578,
     "user": {
      "displayName": "Omkar Hirugade",
      "userId": "16820285763758153216"
     },
     "user_tz": -330
    },
    "id": "IZlhRX4a1CYX"
   },
   "outputs": [],
   "source": [
    "preds = predict_avg(models, inputs_df)"
   ]
  },
  {
   "cell_type": "code",
   "execution_count": 114,
   "metadata": {
    "colab": {
     "base_uri": "https://localhost:8080/"
    },
    "executionInfo": {
     "elapsed": 24,
     "status": "ok",
     "timestamp": 1656596493578,
     "user": {
      "displayName": "Omkar Hirugade",
      "userId": "16820285763758153216"
     },
     "user_tz": -330
    },
    "id": "Ak_xRH5G1CYX",
    "outputId": "ab616146-b124-48fb-f0dd-6649f31c05a6"
   },
   "outputs": [
    {
     "data": {
      "text/plain": [
       "array([ 487.68994,  496.79517, 1609.2585 ,  426.6065 ,  349.3278 ,\n",
       "        383.84268,  296.38428, 1190.5608 ,  317.67694, 1034.845  ,\n",
       "        985.0438 ,  898.847  ,  733.6171 ,  240.02946, 1193.6575 ,\n",
       "        202.29036, 1598.4222 ,  604.6256 , 1221.9454 ,  313.09448,\n",
       "        490.92188,  601.9355 ,  427.7914 , 1182.4935 , 1714.7451 ,\n",
       "       1207.0936 , 1018.16766,  692.3186 ,  774.5682 , 1934.6641 ,\n",
       "       1276.5127 , 1170.0583 ,  936.3299 , 1869.3105 ,  506.79095,\n",
       "        424.90887,  470.26328,  232.0968 ,  948.18787,  913.62177,\n",
       "       1160.4991 ,  866.4492 ,  841.0752 ,  295.7038 ,  493.36914,\n",
       "       1434.8666 ,  303.71686,  401.85263, 1024.1326 ,  826.0461 ,\n",
       "       1371.4812 , 1197.4877 ,  593.7135 ,  337.99985, 1162.6428 ,\n",
       "       1991.7571 ,  872.77716, 1896.8451 ,  625.7919 ,  982.2028 ,\n",
       "        648.7958 ,  643.31464,  574.6368 ,  775.06946,  241.36174,\n",
       "        364.79105,  689.91113,  939.53125,  197.94351,  883.51184,\n",
       "        848.41223,  452.05707,  106.64122,  489.59674, 1848.4427 ,\n",
       "        640.652  , 1258.8445 , 1442.809  ,  811.29333, 1084.5432 ,\n",
       "       1163.426  ,  559.453  ,  375.49332,  232.69199,  204.14432,\n",
       "       1011.12726, 1370.9229 ,  815.78546,  249.9082 ,  550.17395,\n",
       "        407.34418,  449.48047, 1470.1667 , 1795.2279 ,  389.21222,\n",
       "        649.08887,  421.33057,  874.68567, 1954.7695 ,  546.8163 ],\n",
       "      dtype=float32)"
      ]
     },
     "execution_count": 114,
     "metadata": {},
     "output_type": "execute_result"
    }
   ],
   "source": [
    "preds"
   ]
  },
  {
   "cell_type": "code",
   "execution_count": 115,
   "metadata": {
    "executionInfo": {
     "elapsed": 23,
     "status": "ok",
     "timestamp": 1656596493579,
     "user": {
      "displayName": "Omkar Hirugade",
      "userId": "16820285763758153216"
     },
     "user_tz": -330
    },
    "id": "HIDtcfdB1CYX"
   },
   "outputs": [],
   "source": [
    "def test_params_kfold(n_splits, **params):\n",
    "    train_rmses, val_rmses, models = [], [], []\n",
    "    kfold = KFold(n_splits)\n",
    "    for train_idxs, val_idxs in kfold.split(X):\n",
    "        train_inputs, train_targets = X.iloc[train_idxs], targets.iloc[train_idxs]\n",
    "        val_inputs, val_targets = X.iloc[val_idxs], targets.iloc[val_idxs]\n",
    "        model, train_rmse, val_rmse = train_and_evaluate(train_inputs, train_targets, val_inputs, val_targets, **params)\n",
    "        models.append(model)\n",
    "        train_rmses.append(train_rmse)\n",
    "        val_rmses.append(val_rmse)\n",
    "    print('Train RMSE: {}, Validation RMSE: {}'.format(np.mean(train_rmses), np.mean(val_rmses)))\n",
    "    return models"
   ]
  },
  {
   "cell_type": "markdown",
   "metadata": {
    "id": "EWjjTU0I1CYY"
   },
   "source": [
    "# Hyper-Parameter Tuning\n",
    "In machine learning, hyperparameter optimization or tuning is the problem of choosing a set of optimal hyperparameters for a learning algorithm.\n",
    "\n",
    "A hyperparameter is a parameter whose value is used to control the learning process."
   ]
  },
  {
   "cell_type": "code",
   "execution_count": 116,
   "metadata": {
    "executionInfo": {
     "elapsed": 22,
     "status": "ok",
     "timestamp": 1656596493579,
     "user": {
      "displayName": "Omkar Hirugade",
      "userId": "16820285763758153216"
     },
     "user_tz": -330
    },
    "id": "MfaUB_7X1CYY"
   },
   "outputs": [],
   "source": [
    "def test_params(**params):\n",
    "    model = XGBRegressor(n_jobs=-1, random_state=42, **params)\n",
    "    model.fit(train_inputs, train_targets)\n",
    "    train_rmse = rmse(model.predict(train_inputs), train_targets)\n",
    "    val_rmse = rmse(model.predict(val_inputs), val_targets)\n",
    "    print('Train RMSE: {}, Validation RMSE: {}'.format(train_rmse, val_rmse))\n"
   ]
  },
  {
   "cell_type": "markdown",
   "metadata": {
    "id": "BduOdi4r1CYY"
   },
   "source": [
    "## n_estimators\n",
    "The number of trees to be created. More trees = greater capacity of the model."
   ]
  },
  {
   "cell_type": "code",
   "execution_count": 117,
   "metadata": {
    "colab": {
     "base_uri": "https://localhost:8080/"
    },
    "executionInfo": {
     "elapsed": 22,
     "status": "ok",
     "timestamp": 1656596493580,
     "user": {
      "displayName": "Omkar Hirugade",
      "userId": "16820285763758153216"
     },
     "user_tz": -330
    },
    "id": "NiqFg3N81CYY",
    "outputId": "de0829eb-3622-464b-f4d8-1d183a126384"
   },
   "outputs": [
    {
     "name": "stdout",
     "output_type": "stream",
     "text": [
      "[13:41:34] WARNING: /workspace/src/objective/regression_obj.cu:152: reg:linear is now deprecated in favor of reg:squarederror.\n",
      "Train RMSE: 555.076982957697, Validation RMSE: 667.3867650110902\n"
     ]
    }
   ],
   "source": [
    "test_params(n_estimators=10)"
   ]
  },
  {
   "cell_type": "code",
   "execution_count": 118,
   "metadata": {
    "colab": {
     "base_uri": "https://localhost:8080/"
    },
    "executionInfo": {
     "elapsed": 21,
     "status": "ok",
     "timestamp": 1656596493580,
     "user": {
      "displayName": "Omkar Hirugade",
      "userId": "16820285763758153216"
     },
     "user_tz": -330
    },
    "id": "O3mDutlc1CYY",
    "outputId": "ab1ec84d-04b8-4c09-9ab3-b508b5d7624d"
   },
   "outputs": [
    {
     "name": "stdout",
     "output_type": "stream",
     "text": [
      "[13:41:34] WARNING: /workspace/src/objective/regression_obj.cu:152: reg:linear is now deprecated in favor of reg:squarederror.\n",
      "Train RMSE: 555.076982957697, Validation RMSE: 667.3867650110902\n"
     ]
    }
   ],
   "source": [
    "test_params(n_estimators=10)\n"
   ]
  },
  {
   "cell_type": "code",
   "execution_count": 119,
   "metadata": {
    "colab": {
     "base_uri": "https://localhost:8080/"
    },
    "executionInfo": {
     "elapsed": 20,
     "status": "ok",
     "timestamp": 1656596493581,
     "user": {
      "displayName": "Omkar Hirugade",
      "userId": "16820285763758153216"
     },
     "user_tz": -330
    },
    "id": "BllLY6ys1CYY",
    "outputId": "910c2b25-9fad-4b2d-8742-a6e5b241c92e"
   },
   "outputs": [
    {
     "name": "stdout",
     "output_type": "stream",
     "text": [
      "[13:41:34] WARNING: /workspace/src/objective/regression_obj.cu:152: reg:linear is now deprecated in favor of reg:squarederror.\n",
      "Train RMSE: 82.86420482105146, Validation RMSE: 291.1980033418279\n"
     ]
    }
   ],
   "source": [
    "test_params(n_estimators=100)\n"
   ]
  },
  {
   "cell_type": "code",
   "execution_count": 120,
   "metadata": {
    "colab": {
     "base_uri": "https://localhost:8080/"
    },
    "executionInfo": {
     "elapsed": 19,
     "status": "ok",
     "timestamp": 1656596493581,
     "user": {
      "displayName": "Omkar Hirugade",
      "userId": "16820285763758153216"
     },
     "user_tz": -330
    },
    "id": "4VIsKDts1CYY",
    "outputId": "fcb0905b-84f7-4dfe-ee4c-9a7e761bdc32"
   },
   "outputs": [
    {
     "name": "stdout",
     "output_type": "stream",
     "text": [
      "[13:41:34] WARNING: /workspace/src/objective/regression_obj.cu:152: reg:linear is now deprecated in favor of reg:squarederror.\n",
      "Train RMSE: 4.355110353837723, Validation RMSE: 280.1441550930396\n"
     ]
    }
   ],
   "source": [
    "test_params(n_estimators=400)"
   ]
  },
  {
   "cell_type": "markdown",
   "metadata": {
    "id": "XHlN1arx1CYZ"
   },
   "source": [
    "## max_depth\n",
    " As you increase the max depth of each tree, the capacity of the tree increases and it can capture more information about the training set."
   ]
  },
  {
   "cell_type": "code",
   "execution_count": 121,
   "metadata": {
    "colab": {
     "base_uri": "https://localhost:8080/"
    },
    "executionInfo": {
     "elapsed": 19,
     "status": "ok",
     "timestamp": 1656596493582,
     "user": {
      "displayName": "Omkar Hirugade",
      "userId": "16820285763758153216"
     },
     "user_tz": -330
    },
    "id": "Qm0fbouH1CYZ",
    "outputId": "e76c1989-9c3f-45e4-ed77-905acd9fdd98"
   },
   "outputs": [
    {
     "name": "stdout",
     "output_type": "stream",
     "text": [
      "[13:41:34] WARNING: /workspace/src/objective/regression_obj.cu:152: reg:linear is now deprecated in favor of reg:squarederror.\n",
      "Train RMSE: 222.97147756445986, Validation RMSE: 254.79416917024287\n"
     ]
    }
   ],
   "source": [
    "test_params(max_depth=2)"
   ]
  },
  {
   "cell_type": "code",
   "execution_count": 122,
   "metadata": {
    "colab": {
     "base_uri": "https://localhost:8080/"
    },
    "executionInfo": {
     "elapsed": 18,
     "status": "ok",
     "timestamp": 1656596493583,
     "user": {
      "displayName": "Omkar Hirugade",
      "userId": "16820285763758153216"
     },
     "user_tz": -330
    },
    "id": "entwmiKx1CYZ",
    "outputId": "a3a4438b-3565-42dd-9b5f-2d152460a99c"
   },
   "outputs": [
    {
     "name": "stdout",
     "output_type": "stream",
     "text": [
      "[13:41:34] WARNING: /workspace/src/objective/regression_obj.cu:152: reg:linear is now deprecated in favor of reg:squarederror.\n",
      "Train RMSE: 3.7408298727217693, Validation RMSE: 391.127638453683\n"
     ]
    }
   ],
   "source": [
    "test_params(max_depth=6)"
   ]
  },
  {
   "cell_type": "code",
   "execution_count": 123,
   "metadata": {
    "colab": {
     "base_uri": "https://localhost:8080/"
    },
    "executionInfo": {
     "elapsed": 770,
     "status": "ok",
     "timestamp": 1656596494336,
     "user": {
      "displayName": "Omkar Hirugade",
      "userId": "16820285763758153216"
     },
     "user_tz": -330
    },
    "id": "K6L7pk5h1CYZ",
    "outputId": "b4070082-202a-49f6-9ebe-f3b08701ca0e"
   },
   "outputs": [
    {
     "name": "stdout",
     "output_type": "stream",
     "text": [
      "[13:41:34] WARNING: /workspace/src/objective/regression_obj.cu:152: reg:linear is now deprecated in favor of reg:squarederror.\n",
      "Train RMSE: 24.71443566110006, Validation RMSE: 281.64159352630554\n"
     ]
    }
   ],
   "source": [
    "test_params(max_depth=4)"
   ]
  },
  {
   "cell_type": "markdown",
   "metadata": {
    "id": "n9x9NhJ31CYZ"
   },
   "source": [
    "## learning_rate\n",
    "The scaling factor to be applied to the prediction of each tree. A very high learning rate (close to 1) will lead to overfitting, and a low learning rate (close to 0) will lead to underfitting.\n"
   ]
  },
  {
   "cell_type": "code",
   "execution_count": 124,
   "metadata": {
    "colab": {
     "base_uri": "https://localhost:8080/"
    },
    "executionInfo": {
     "elapsed": 35,
     "status": "ok",
     "timestamp": 1656596494337,
     "user": {
      "displayName": "Omkar Hirugade",
      "userId": "16820285763758153216"
     },
     "user_tz": -330
    },
    "id": "d6G0pLFr1CYZ",
    "outputId": "2309f6dd-5dbc-4ef1-fdc2-668b8fc098f5"
   },
   "outputs": [
    {
     "name": "stdout",
     "output_type": "stream",
     "text": [
      "[13:41:34] WARNING: /workspace/src/objective/regression_obj.cu:152: reg:linear is now deprecated in favor of reg:squarederror.\n",
      "Train RMSE: 212.2565168087213, Validation RMSE: 336.9555346497022\n"
     ]
    }
   ],
   "source": [
    "test_params(n_estimators=400, learning_rate=0.01)"
   ]
  },
  {
   "cell_type": "code",
   "execution_count": 125,
   "metadata": {
    "colab": {
     "base_uri": "https://localhost:8080/"
    },
    "executionInfo": {
     "elapsed": 31,
     "status": "ok",
     "timestamp": 1656596494337,
     "user": {
      "displayName": "Omkar Hirugade",
      "userId": "16820285763758153216"
     },
     "user_tz": -330
    },
    "id": "2g3nbkyJ1CYZ",
    "outputId": "613e031f-98f6-4a08-9b63-835ea50f6a8a"
   },
   "outputs": [
    {
     "name": "stdout",
     "output_type": "stream",
     "text": [
      "[13:41:34] WARNING: /workspace/src/objective/regression_obj.cu:152: reg:linear is now deprecated in favor of reg:squarederror.\n",
      "Train RMSE: 4.355110353837723, Validation RMSE: 280.1441550930396\n"
     ]
    }
   ],
   "source": [
    "test_params(n_estimators=400, learning_rate=0.1)"
   ]
  },
  {
   "cell_type": "code",
   "execution_count": 126,
   "metadata": {
    "colab": {
     "base_uri": "https://localhost:8080/"
    },
    "executionInfo": {
     "elapsed": 29,
     "status": "ok",
     "timestamp": 1656596494338,
     "user": {
      "displayName": "Omkar Hirugade",
      "userId": "16820285763758153216"
     },
     "user_tz": -330
    },
    "id": "LaP3EHpU1CYZ",
    "outputId": "d73fbfaf-56d0-4b33-ad77-b8784e2dd6d7"
   },
   "outputs": [
    {
     "name": "stdout",
     "output_type": "stream",
     "text": [
      "[13:41:34] WARNING: /workspace/src/objective/regression_obj.cu:152: reg:linear is now deprecated in favor of reg:squarederror.\n",
      "Train RMSE: 0.0018741037840345962, Validation RMSE: 252.9114086943572\n"
     ]
    }
   ],
   "source": [
    "test_params(n_estimators=400, learning_rate=0.3)"
   ]
  },
  {
   "cell_type": "code",
   "execution_count": 127,
   "metadata": {
    "colab": {
     "base_uri": "https://localhost:8080/"
    },
    "executionInfo": {
     "elapsed": 25,
     "status": "ok",
     "timestamp": 1656596494338,
     "user": {
      "displayName": "Omkar Hirugade",
      "userId": "16820285763758153216"
     },
     "user_tz": -330
    },
    "id": "EVyf1P_N1CYa",
    "outputId": "8a4001ee-c7e3-4a90-b233-2cf642a51d66"
   },
   "outputs": [
    {
     "name": "stdout",
     "output_type": "stream",
     "text": [
      "[13:41:34] WARNING: /workspace/src/objective/regression_obj.cu:152: reg:linear is now deprecated in favor of reg:squarederror.\n",
      "Train RMSE: 0.47060580365575916, Validation RMSE: 236.4991747520863\n"
     ]
    }
   ],
   "source": [
    "test_params(n_estimators=400, learning_rate=0.15)"
   ]
  },
  {
   "cell_type": "code",
   "execution_count": 128,
   "metadata": {
    "colab": {
     "base_uri": "https://localhost:8080/"
    },
    "executionInfo": {
     "elapsed": 23,
     "status": "ok",
     "timestamp": 1656596494339,
     "user": {
      "displayName": "Omkar Hirugade",
      "userId": "16820285763758153216"
     },
     "user_tz": -330
    },
    "id": "9lbAtZPw1CYa",
    "outputId": "d00af600-888e-4074-cec2-732aacc935dc"
   },
   "outputs": [
    {
     "name": "stdout",
     "output_type": "stream",
     "text": [
      "[13:41:34] WARNING: /workspace/src/objective/regression_obj.cu:152: reg:linear is now deprecated in favor of reg:squarederror.\n",
      "Train RMSE: 70.92869247343457, Validation RMSE: 274.446345198172\n"
     ]
    }
   ],
   "source": [
    "test_params(subsample=0.9)"
   ]
  },
  {
   "cell_type": "code",
   "execution_count": 129,
   "metadata": {
    "colab": {
     "base_uri": "https://localhost:8080/"
    },
    "executionInfo": {
     "elapsed": 21,
     "status": "ok",
     "timestamp": 1656596494339,
     "user": {
      "displayName": "Omkar Hirugade",
      "userId": "16820285763758153216"
     },
     "user_tz": -330
    },
    "id": "bpxOVGGz1CYa",
    "outputId": "0f1d2240-0a08-485f-d656-f653df4a7dfe"
   },
   "outputs": [
    {
     "name": "stdout",
     "output_type": "stream",
     "text": [
      "[13:41:34] WARNING: /workspace/src/objective/regression_obj.cu:152: reg:linear is now deprecated in favor of reg:squarederror.\n",
      "Train RMSE: 75.48992939665729, Validation RMSE: 266.43904313598347\n"
     ]
    }
   ],
   "source": [
    "test_params(subsample=0.7)"
   ]
  },
  {
   "cell_type": "code",
   "execution_count": 130,
   "metadata": {
    "colab": {
     "base_uri": "https://localhost:8080/"
    },
    "executionInfo": {
     "elapsed": 20,
     "status": "ok",
     "timestamp": 1656596494340,
     "user": {
      "displayName": "Omkar Hirugade",
      "userId": "16820285763758153216"
     },
     "user_tz": -330
    },
    "id": "qJTSm3Ot1CYa",
    "outputId": "d13585af-1a9a-4e09-9e1d-478280024cf8"
   },
   "outputs": [
    {
     "name": "stdout",
     "output_type": "stream",
     "text": [
      "[13:41:34] WARNING: /workspace/src/objective/regression_obj.cu:152: reg:linear is now deprecated in favor of reg:squarederror.\n",
      "Train RMSE: 82.86420482105146, Validation RMSE: 291.1980033418279\n"
     ]
    }
   ],
   "source": [
    "test_params(subsample=1)"
   ]
  },
  {
   "cell_type": "code",
   "execution_count": 131,
   "metadata": {
    "colab": {
     "base_uri": "https://localhost:8080/"
    },
    "executionInfo": {
     "elapsed": 19,
     "status": "ok",
     "timestamp": 1656596494340,
     "user": {
      "displayName": "Omkar Hirugade",
      "userId": "16820285763758153216"
     },
     "user_tz": -330
    },
    "id": "CqDEjXFZ1CYa",
    "outputId": "47d66834-721b-498d-fc33-3e31aba8038f"
   },
   "outputs": [
    {
     "name": "stdout",
     "output_type": "stream",
     "text": [
      "[13:41:34] WARNING: /workspace/src/objective/regression_obj.cu:152: reg:linear is now deprecated in favor of reg:squarederror.\n",
      "Train RMSE: 113.41234352756027, Validation RMSE: 317.3723478111917\n"
     ]
    }
   ],
   "source": [
    "test_params(colsample_bytree=0.7)"
   ]
  },
  {
   "cell_type": "code",
   "execution_count": 132,
   "metadata": {
    "colab": {
     "base_uri": "https://localhost:8080/"
    },
    "executionInfo": {
     "elapsed": 19,
     "status": "ok",
     "timestamp": 1656596494341,
     "user": {
      "displayName": "Omkar Hirugade",
      "userId": "16820285763758153216"
     },
     "user_tz": -330
    },
    "id": "CY15KrBZ1CYa",
    "outputId": "771f0e5a-0a01-4150-f44c-7a546897e4d9"
   },
   "outputs": [
    {
     "name": "stdout",
     "output_type": "stream",
     "text": [
      "[13:41:34] WARNING: /workspace/src/objective/regression_obj.cu:152: reg:linear is now deprecated in favor of reg:squarederror.\n",
      "Train RMSE: 107.40429638834046, Validation RMSE: 362.66460585941564\n"
     ]
    }
   ],
   "source": [
    "test_params(colsample_bytree=0.5)"
   ]
  },
  {
   "cell_type": "code",
   "execution_count": 133,
   "metadata": {
    "colab": {
     "base_uri": "https://localhost:8080/"
    },
    "executionInfo": {
     "elapsed": 17,
     "status": "ok",
     "timestamp": 1656596494341,
     "user": {
      "displayName": "Omkar Hirugade",
      "userId": "16820285763758153216"
     },
     "user_tz": -330
    },
    "id": "CkijntWi1CYa",
    "outputId": "32715fad-8331-4678-f08f-f58feddb40e1"
   },
   "outputs": [
    {
     "name": "stdout",
     "output_type": "stream",
     "text": [
      "[13:41:35] WARNING: /workspace/src/objective/regression_obj.cu:152: reg:linear is now deprecated in favor of reg:squarederror.\n",
      "Train RMSE: 90.32690164722128, Validation RMSE: 274.15343085778\n"
     ]
    }
   ],
   "source": [
    "test_params(colsample_bytree=0.9)"
   ]
  },
  {
   "cell_type": "markdown",
   "metadata": {
    "id": "U0l2NX6u1CYb"
   },
   "source": [
    "# Putting it Together and Making Predictions\n",
    "Let's train a final model on the entire training set with custom hyperparameters.\n"
   ]
  },
  {
   "cell_type": "code",
   "execution_count": 134,
   "metadata": {
    "executionInfo": {
     "elapsed": 17,
     "status": "ok",
     "timestamp": 1656596494342,
     "user": {
      "displayName": "Omkar Hirugade",
      "userId": "16820285763758153216"
     },
     "user_tz": -330
    },
    "id": "oflBHMsI1CYb"
   },
   "outputs": [],
   "source": [
    "model = XGBRegressor(n_jobs=-1, random_state=42, n_estimators=100, \n",
    "                     learning_rate=0.3, max_depth=2, subsample=0.7, \n",
    "                     colsample_bytree=0.9)\n"
   ]
  },
  {
   "cell_type": "code",
   "execution_count": 135,
   "metadata": {
    "colab": {
     "base_uri": "https://localhost:8080/"
    },
    "executionInfo": {
     "elapsed": 17,
     "status": "ok",
     "timestamp": 1656596494342,
     "user": {
      "displayName": "Omkar Hirugade",
      "userId": "16820285763758153216"
     },
     "user_tz": -330
    },
    "id": "j2Nr6RfW1CYb",
    "outputId": "cd088f6a-5b5e-42b8-be24-602f50a96df0"
   },
   "outputs": [
    {
     "name": "stdout",
     "output_type": "stream",
     "text": [
      "[13:41:35] WARNING: /workspace/src/objective/regression_obj.cu:152: reg:linear is now deprecated in favor of reg:squarederror.\n"
     ]
    },
    {
     "data": {
      "text/plain": [
       "XGBRegressor(colsample_bytree=0.9, learning_rate=0.3, max_depth=2, n_jobs=-1,\n",
       "             random_state=42, subsample=0.7)"
      ]
     },
     "execution_count": 135,
     "metadata": {},
     "output_type": "execute_result"
    }
   ],
   "source": [
    "model.fit(inputs_df, targets)"
   ]
  },
  {
   "cell_type": "markdown",
   "metadata": {
    "id": "uQmmNTVG1CYb"
   },
   "source": [
    "# Preparing Test_df"
   ]
  },
  {
   "cell_type": "code",
   "execution_count": 136,
   "metadata": {
    "colab": {
     "base_uri": "https://localhost:8080/",
     "height": 0
    },
    "executionInfo": {
     "elapsed": 16,
     "status": "ok",
     "timestamp": 1656596494342,
     "user": {
      "displayName": "Omkar Hirugade",
      "userId": "16820285763758153216"
     },
     "user_tz": -330
    },
    "id": "m7-08SV01CYb",
    "outputId": "64ff3f5b-cc53-4d29-800f-f1a29dde1c0c"
   },
   "outputs": [
    {
     "data": {
      "text/html": [
       "\n",
       "  <div id=\"df-48ee8d18-5f0b-49c7-b0e0-bbcb7eac7ee4\">\n",
       "    <div class=\"colab-df-container\">\n",
       "      <div>\n",
       "<style scoped>\n",
       "    .dataframe tbody tr th:only-of-type {\n",
       "        vertical-align: middle;\n",
       "    }\n",
       "\n",
       "    .dataframe tbody tr th {\n",
       "        vertical-align: top;\n",
       "    }\n",
       "\n",
       "    .dataframe thead th {\n",
       "        text-align: right;\n",
       "    }\n",
       "</style>\n",
       "<table border=\"1\" class=\"dataframe\">\n",
       "  <thead>\n",
       "    <tr style=\"text-align: right;\">\n",
       "      <th></th>\n",
       "      <th>id</th>\n",
       "      <th>vendor_id</th>\n",
       "      <th>pickup_datetime</th>\n",
       "      <th>passenger_count</th>\n",
       "      <th>pickup_longitude</th>\n",
       "      <th>pickup_latitude</th>\n",
       "      <th>dropoff_longitude</th>\n",
       "      <th>dropoff_latitude</th>\n",
       "      <th>store_and_fwd_flag</th>\n",
       "    </tr>\n",
       "  </thead>\n",
       "  <tbody>\n",
       "    <tr>\n",
       "      <th>0</th>\n",
       "      <td>id3004672</td>\n",
       "      <td>1</td>\n",
       "      <td>2016-06-30 23:59:58</td>\n",
       "      <td>1</td>\n",
       "      <td>-73.988129</td>\n",
       "      <td>40.732029</td>\n",
       "      <td>-73.990173</td>\n",
       "      <td>40.756680</td>\n",
       "      <td>N</td>\n",
       "    </tr>\n",
       "    <tr>\n",
       "      <th>1</th>\n",
       "      <td>id3505355</td>\n",
       "      <td>1</td>\n",
       "      <td>2016-06-30 23:59:53</td>\n",
       "      <td>1</td>\n",
       "      <td>-73.964203</td>\n",
       "      <td>40.679993</td>\n",
       "      <td>-73.959808</td>\n",
       "      <td>40.655403</td>\n",
       "      <td>N</td>\n",
       "    </tr>\n",
       "    <tr>\n",
       "      <th>2</th>\n",
       "      <td>id1217141</td>\n",
       "      <td>1</td>\n",
       "      <td>2016-06-30 23:59:47</td>\n",
       "      <td>1</td>\n",
       "      <td>-73.997437</td>\n",
       "      <td>40.737583</td>\n",
       "      <td>-73.986160</td>\n",
       "      <td>40.729523</td>\n",
       "      <td>N</td>\n",
       "    </tr>\n",
       "    <tr>\n",
       "      <th>3</th>\n",
       "      <td>id2150126</td>\n",
       "      <td>2</td>\n",
       "      <td>2016-06-30 23:59:41</td>\n",
       "      <td>1</td>\n",
       "      <td>-73.956070</td>\n",
       "      <td>40.771900</td>\n",
       "      <td>-73.986427</td>\n",
       "      <td>40.730469</td>\n",
       "      <td>N</td>\n",
       "    </tr>\n",
       "    <tr>\n",
       "      <th>4</th>\n",
       "      <td>id1598245</td>\n",
       "      <td>1</td>\n",
       "      <td>2016-06-30 23:59:33</td>\n",
       "      <td>1</td>\n",
       "      <td>-73.970215</td>\n",
       "      <td>40.761475</td>\n",
       "      <td>-73.961510</td>\n",
       "      <td>40.755890</td>\n",
       "      <td>N</td>\n",
       "    </tr>\n",
       "    <tr>\n",
       "      <th>5</th>\n",
       "      <td>id0668992</td>\n",
       "      <td>1</td>\n",
       "      <td>2016-06-30 23:59:30</td>\n",
       "      <td>1</td>\n",
       "      <td>-73.991302</td>\n",
       "      <td>40.749798</td>\n",
       "      <td>-73.980515</td>\n",
       "      <td>40.786549</td>\n",
       "      <td>N</td>\n",
       "    </tr>\n",
       "    <tr>\n",
       "      <th>6</th>\n",
       "      <td>id1765014</td>\n",
       "      <td>1</td>\n",
       "      <td>2016-06-30 23:59:15</td>\n",
       "      <td>1</td>\n",
       "      <td>-73.978310</td>\n",
       "      <td>40.741550</td>\n",
       "      <td>-73.952072</td>\n",
       "      <td>40.717003</td>\n",
       "      <td>N</td>\n",
       "    </tr>\n",
       "    <tr>\n",
       "      <th>7</th>\n",
       "      <td>id0898117</td>\n",
       "      <td>1</td>\n",
       "      <td>2016-06-30 23:59:09</td>\n",
       "      <td>2</td>\n",
       "      <td>-74.012711</td>\n",
       "      <td>40.701527</td>\n",
       "      <td>-73.986481</td>\n",
       "      <td>40.719509</td>\n",
       "      <td>N</td>\n",
       "    </tr>\n",
       "    <tr>\n",
       "      <th>8</th>\n",
       "      <td>id3905224</td>\n",
       "      <td>2</td>\n",
       "      <td>2016-06-30 23:58:55</td>\n",
       "      <td>2</td>\n",
       "      <td>-73.992332</td>\n",
       "      <td>40.730511</td>\n",
       "      <td>-73.875618</td>\n",
       "      <td>40.875214</td>\n",
       "      <td>N</td>\n",
       "    </tr>\n",
       "    <tr>\n",
       "      <th>9</th>\n",
       "      <td>id1543102</td>\n",
       "      <td>2</td>\n",
       "      <td>2016-06-30 23:58:46</td>\n",
       "      <td>1</td>\n",
       "      <td>-73.993179</td>\n",
       "      <td>40.748760</td>\n",
       "      <td>-73.979309</td>\n",
       "      <td>40.761311</td>\n",
       "      <td>N</td>\n",
       "    </tr>\n",
       "    <tr>\n",
       "      <th>10</th>\n",
       "      <td>id3024712</td>\n",
       "      <td>1</td>\n",
       "      <td>2016-06-30 23:58:32</td>\n",
       "      <td>4</td>\n",
       "      <td>-73.968529</td>\n",
       "      <td>40.678432</td>\n",
       "      <td>-73.966591</td>\n",
       "      <td>40.635712</td>\n",
       "      <td>N</td>\n",
       "    </tr>\n",
       "    <tr>\n",
       "      <th>11</th>\n",
       "      <td>id3665810</td>\n",
       "      <td>2</td>\n",
       "      <td>2016-06-30 23:58:05</td>\n",
       "      <td>1</td>\n",
       "      <td>-73.982773</td>\n",
       "      <td>40.756908</td>\n",
       "      <td>-73.974693</td>\n",
       "      <td>40.753330</td>\n",
       "      <td>N</td>\n",
       "    </tr>\n",
       "    <tr>\n",
       "      <th>12</th>\n",
       "      <td>id1836461</td>\n",
       "      <td>1</td>\n",
       "      <td>2016-06-30 23:58:01</td>\n",
       "      <td>1</td>\n",
       "      <td>-73.921104</td>\n",
       "      <td>40.767292</td>\n",
       "      <td>-73.936859</td>\n",
       "      <td>40.774044</td>\n",
       "      <td>N</td>\n",
       "    </tr>\n",
       "    <tr>\n",
       "      <th>13</th>\n",
       "      <td>id3457080</td>\n",
       "      <td>2</td>\n",
       "      <td>2016-06-30 23:57:57</td>\n",
       "      <td>1</td>\n",
       "      <td>-73.986801</td>\n",
       "      <td>40.734917</td>\n",
       "      <td>-73.975899</td>\n",
       "      <td>40.756893</td>\n",
       "      <td>N</td>\n",
       "    </tr>\n",
       "    <tr>\n",
       "      <th>14</th>\n",
       "      <td>id3376065</td>\n",
       "      <td>1</td>\n",
       "      <td>2016-06-30 23:57:25</td>\n",
       "      <td>1</td>\n",
       "      <td>-73.996346</td>\n",
       "      <td>40.748161</td>\n",
       "      <td>-73.950829</td>\n",
       "      <td>40.782825</td>\n",
       "      <td>N</td>\n",
       "    </tr>\n",
       "    <tr>\n",
       "      <th>15</th>\n",
       "      <td>id3008739</td>\n",
       "      <td>1</td>\n",
       "      <td>2016-06-30 23:57:22</td>\n",
       "      <td>1</td>\n",
       "      <td>-73.968025</td>\n",
       "      <td>40.762283</td>\n",
       "      <td>-73.934792</td>\n",
       "      <td>40.797436</td>\n",
       "      <td>N</td>\n",
       "    </tr>\n",
       "    <tr>\n",
       "      <th>16</th>\n",
       "      <td>id0902216</td>\n",
       "      <td>2</td>\n",
       "      <td>2016-06-30 23:56:44</td>\n",
       "      <td>1</td>\n",
       "      <td>-74.007713</td>\n",
       "      <td>40.740681</td>\n",
       "      <td>-73.968811</td>\n",
       "      <td>40.753860</td>\n",
       "      <td>N</td>\n",
       "    </tr>\n",
       "    <tr>\n",
       "      <th>17</th>\n",
       "      <td>id3564824</td>\n",
       "      <td>2</td>\n",
       "      <td>2016-06-30 23:55:36</td>\n",
       "      <td>5</td>\n",
       "      <td>-73.984299</td>\n",
       "      <td>40.724983</td>\n",
       "      <td>-73.981819</td>\n",
       "      <td>40.740597</td>\n",
       "      <td>N</td>\n",
       "    </tr>\n",
       "    <tr>\n",
       "      <th>18</th>\n",
       "      <td>id0820280</td>\n",
       "      <td>2</td>\n",
       "      <td>2016-06-30 23:55:28</td>\n",
       "      <td>1</td>\n",
       "      <td>-73.952599</td>\n",
       "      <td>40.768322</td>\n",
       "      <td>-73.948555</td>\n",
       "      <td>40.773724</td>\n",
       "      <td>N</td>\n",
       "    </tr>\n",
       "    <tr>\n",
       "      <th>19</th>\n",
       "      <td>id0775088</td>\n",
       "      <td>2</td>\n",
       "      <td>2016-06-30 23:55:20</td>\n",
       "      <td>1</td>\n",
       "      <td>-73.966690</td>\n",
       "      <td>40.794090</td>\n",
       "      <td>-73.920776</td>\n",
       "      <td>40.830059</td>\n",
       "      <td>N</td>\n",
       "    </tr>\n",
       "  </tbody>\n",
       "</table>\n",
       "</div>\n",
       "      <button class=\"colab-df-convert\" onclick=\"convertToInteractive('df-48ee8d18-5f0b-49c7-b0e0-bbcb7eac7ee4')\"\n",
       "              title=\"Convert this dataframe to an interactive table.\"\n",
       "              style=\"display:none;\">\n",
       "        \n",
       "  <svg xmlns=\"http://www.w3.org/2000/svg\" height=\"24px\"viewBox=\"0 0 24 24\"\n",
       "       width=\"24px\">\n",
       "    <path d=\"M0 0h24v24H0V0z\" fill=\"none\"/>\n",
       "    <path d=\"M18.56 5.44l.94 2.06.94-2.06 2.06-.94-2.06-.94-.94-2.06-.94 2.06-2.06.94zm-11 1L8.5 8.5l.94-2.06 2.06-.94-2.06-.94L8.5 2.5l-.94 2.06-2.06.94zm10 10l.94 2.06.94-2.06 2.06-.94-2.06-.94-.94-2.06-.94 2.06-2.06.94z\"/><path d=\"M17.41 7.96l-1.37-1.37c-.4-.4-.92-.59-1.43-.59-.52 0-1.04.2-1.43.59L10.3 9.45l-7.72 7.72c-.78.78-.78 2.05 0 2.83L4 21.41c.39.39.9.59 1.41.59.51 0 1.02-.2 1.41-.59l7.78-7.78 2.81-2.81c.8-.78.8-2.07 0-2.86zM5.41 20L4 18.59l7.72-7.72 1.47 1.35L5.41 20z\"/>\n",
       "  </svg>\n",
       "      </button>\n",
       "      \n",
       "  <style>\n",
       "    .colab-df-container {\n",
       "      display:flex;\n",
       "      flex-wrap:wrap;\n",
       "      gap: 12px;\n",
       "    }\n",
       "\n",
       "    .colab-df-convert {\n",
       "      background-color: #E8F0FE;\n",
       "      border: none;\n",
       "      border-radius: 50%;\n",
       "      cursor: pointer;\n",
       "      display: none;\n",
       "      fill: #1967D2;\n",
       "      height: 32px;\n",
       "      padding: 0 0 0 0;\n",
       "      width: 32px;\n",
       "    }\n",
       "\n",
       "    .colab-df-convert:hover {\n",
       "      background-color: #E2EBFA;\n",
       "      box-shadow: 0px 1px 2px rgba(60, 64, 67, 0.3), 0px 1px 3px 1px rgba(60, 64, 67, 0.15);\n",
       "      fill: #174EA6;\n",
       "    }\n",
       "\n",
       "    [theme=dark] .colab-df-convert {\n",
       "      background-color: #3B4455;\n",
       "      fill: #D2E3FC;\n",
       "    }\n",
       "\n",
       "    [theme=dark] .colab-df-convert:hover {\n",
       "      background-color: #434B5C;\n",
       "      box-shadow: 0px 1px 3px 1px rgba(0, 0, 0, 0.15);\n",
       "      filter: drop-shadow(0px 1px 2px rgba(0, 0, 0, 0.3));\n",
       "      fill: #FFFFFF;\n",
       "    }\n",
       "  </style>\n",
       "\n",
       "      <script>\n",
       "        const buttonEl =\n",
       "          document.querySelector('#df-48ee8d18-5f0b-49c7-b0e0-bbcb7eac7ee4 button.colab-df-convert');\n",
       "        buttonEl.style.display =\n",
       "          google.colab.kernel.accessAllowed ? 'block' : 'none';\n",
       "\n",
       "        async function convertToInteractive(key) {\n",
       "          const element = document.querySelector('#df-48ee8d18-5f0b-49c7-b0e0-bbcb7eac7ee4');\n",
       "          const dataTable =\n",
       "            await google.colab.kernel.invokeFunction('convertToInteractive',\n",
       "                                                     [key], {});\n",
       "          if (!dataTable) return;\n",
       "\n",
       "          const docLinkHtml = 'Like what you see? Visit the ' +\n",
       "            '<a target=\"_blank\" href=https://colab.research.google.com/notebooks/data_table.ipynb>data table notebook</a>'\n",
       "            + ' to learn more about interactive tables.';\n",
       "          element.innerHTML = '';\n",
       "          dataTable['output_type'] = 'display_data';\n",
       "          await google.colab.output.renderOutput(dataTable, element);\n",
       "          const docLink = document.createElement('div');\n",
       "          docLink.innerHTML = docLinkHtml;\n",
       "          element.appendChild(docLink);\n",
       "        }\n",
       "      </script>\n",
       "    </div>\n",
       "  </div>\n",
       "  "
      ],
      "text/plain": [
       "           id  vendor_id      pickup_datetime  passenger_count  \\\n",
       "0   id3004672  1          2016-06-30 23:59:58  1                 \n",
       "1   id3505355  1          2016-06-30 23:59:53  1                 \n",
       "2   id1217141  1          2016-06-30 23:59:47  1                 \n",
       "3   id2150126  2          2016-06-30 23:59:41  1                 \n",
       "4   id1598245  1          2016-06-30 23:59:33  1                 \n",
       "5   id0668992  1          2016-06-30 23:59:30  1                 \n",
       "6   id1765014  1          2016-06-30 23:59:15  1                 \n",
       "7   id0898117  1          2016-06-30 23:59:09  2                 \n",
       "8   id3905224  2          2016-06-30 23:58:55  2                 \n",
       "9   id1543102  2          2016-06-30 23:58:46  1                 \n",
       "10  id3024712  1          2016-06-30 23:58:32  4                 \n",
       "11  id3665810  2          2016-06-30 23:58:05  1                 \n",
       "12  id1836461  1          2016-06-30 23:58:01  1                 \n",
       "13  id3457080  2          2016-06-30 23:57:57  1                 \n",
       "14  id3376065  1          2016-06-30 23:57:25  1                 \n",
       "15  id3008739  1          2016-06-30 23:57:22  1                 \n",
       "16  id0902216  2          2016-06-30 23:56:44  1                 \n",
       "17  id3564824  2          2016-06-30 23:55:36  5                 \n",
       "18  id0820280  2          2016-06-30 23:55:28  1                 \n",
       "19  id0775088  2          2016-06-30 23:55:20  1                 \n",
       "\n",
       "    pickup_longitude  pickup_latitude  dropoff_longitude  dropoff_latitude  \\\n",
       "0  -73.988129         40.732029       -73.990173          40.756680          \n",
       "1  -73.964203         40.679993       -73.959808          40.655403          \n",
       "2  -73.997437         40.737583       -73.986160          40.729523          \n",
       "3  -73.956070         40.771900       -73.986427          40.730469          \n",
       "4  -73.970215         40.761475       -73.961510          40.755890          \n",
       "5  -73.991302         40.749798       -73.980515          40.786549          \n",
       "6  -73.978310         40.741550       -73.952072          40.717003          \n",
       "7  -74.012711         40.701527       -73.986481          40.719509          \n",
       "8  -73.992332         40.730511       -73.875618          40.875214          \n",
       "9  -73.993179         40.748760       -73.979309          40.761311          \n",
       "10 -73.968529         40.678432       -73.966591          40.635712          \n",
       "11 -73.982773         40.756908       -73.974693          40.753330          \n",
       "12 -73.921104         40.767292       -73.936859          40.774044          \n",
       "13 -73.986801         40.734917       -73.975899          40.756893          \n",
       "14 -73.996346         40.748161       -73.950829          40.782825          \n",
       "15 -73.968025         40.762283       -73.934792          40.797436          \n",
       "16 -74.007713         40.740681       -73.968811          40.753860          \n",
       "17 -73.984299         40.724983       -73.981819          40.740597          \n",
       "18 -73.952599         40.768322       -73.948555          40.773724          \n",
       "19 -73.966690         40.794090       -73.920776          40.830059          \n",
       "\n",
       "   store_and_fwd_flag  \n",
       "0   N                  \n",
       "1   N                  \n",
       "2   N                  \n",
       "3   N                  \n",
       "4   N                  \n",
       "5   N                  \n",
       "6   N                  \n",
       "7   N                  \n",
       "8   N                  \n",
       "9   N                  \n",
       "10  N                  \n",
       "11  N                  \n",
       "12  N                  \n",
       "13  N                  \n",
       "14  N                  \n",
       "15  N                  \n",
       "16  N                  \n",
       "17  N                  \n",
       "18  N                  \n",
       "19  N                  "
      ]
     },
     "execution_count": 136,
     "metadata": {},
     "output_type": "execute_result"
    }
   ],
   "source": [
    "test_df"
   ]
  },
  {
   "cell_type": "code",
   "execution_count": 137,
   "metadata": {
    "executionInfo": {
     "elapsed": 15,
     "status": "ok",
     "timestamp": 1656596494343,
     "user": {
      "displayName": "Omkar Hirugade",
      "userId": "16820285763758153216"
     },
     "user_tz": -330
    },
    "id": "fggfc49j1CYb"
   },
   "outputs": [],
   "source": [
    "test_df[\"pickup_datetime\"]= pd.to_datetime(test_df[\"pickup_datetime\"])\n",
    "test_df['pickup_day']= test_df[\"pickup_datetime\"].dt.day_name()\n",
    "test_df['pickup_month']= test_df[\"pickup_datetime\"].dt.month_name()\n",
    "test_df['pickup_day_no']=test_df['pickup_datetime'].dt.weekday\n",
    "test_df['pickup_hour']=test_df['pickup_datetime'].dt.hour\n"
   ]
  },
  {
   "cell_type": "code",
   "execution_count": 138,
   "metadata": {
    "executionInfo": {
     "elapsed": 14,
     "status": "ok",
     "timestamp": 1656596494343,
     "user": {
      "displayName": "Omkar Hirugade",
      "userId": "16820285763758153216"
     },
     "user_tz": -330
    },
    "id": "yQt9Myzf1CYb"
   },
   "outputs": [],
   "source": [
    "test_df['pickup_timeofday']=test_df['pickup_hour'].apply(time_of_day)"
   ]
  },
  {
   "cell_type": "code",
   "execution_count": 139,
   "metadata": {
    "executionInfo": {
     "elapsed": 15,
     "status": "ok",
     "timestamp": 1656596494344,
     "user": {
      "displayName": "Omkar Hirugade",
      "userId": "16820285763758153216"
     },
     "user_tz": -330
    },
    "id": "1qwO3qJI1CYc"
   },
   "outputs": [],
   "source": [
    "test_df[\"distance_miles\"] = distance(test_df[\"pickup_latitude\"], test_df[\"pickup_longitude\"], \n",
    "                                      test_df[\"dropoff_latitude\"], test_df[\"dropoff_longitude\"])\n",
    "\n"
   ]
  },
  {
   "cell_type": "code",
   "execution_count": 140,
   "metadata": {
    "executionInfo": {
     "elapsed": 21222,
     "status": "ok",
     "timestamp": 1656596515552,
     "user": {
      "displayName": "Omkar Hirugade",
      "userId": "16820285763758153216"
     },
     "user_tz": -330
    },
    "id": "m-TcXpvs1CYc"
   },
   "outputs": [],
   "source": [
    "test_df[\"pickup_location\"] = np.vectorize(city_state_country)(test_df[\"pickup_latitude\"], test_df[\"pickup_longitude\"])\n",
    "test_df[\"dropoff_location\"] = np.vectorize(city_state_country)(test_df[\"dropoff_latitude\"], test_df[\"dropoff_longitude\"])"
   ]
  },
  {
   "cell_type": "code",
   "execution_count": 141,
   "metadata": {
    "executionInfo": {
     "elapsed": 30,
     "status": "ok",
     "timestamp": 1656596515555,
     "user": {
      "displayName": "Omkar Hirugade",
      "userId": "16820285763758153216"
     },
     "user_tz": -330
    },
    "id": "w3ebQRJH1CYc"
   },
   "outputs": [],
   "source": [
    "catogorical_df=test_df[['id','store_and_fwd_flag','pickup_day','pickup_month','pickup_location','dropoff_location']].copy()\n",
    "numerical_df=test_df[['id','passenger_count','distance_miles','pickup_hour']].copy()\n"
   ]
  },
  {
   "cell_type": "code",
   "execution_count": 142,
   "metadata": {
    "executionInfo": {
     "elapsed": 28,
     "status": "ok",
     "timestamp": 1656596515555,
     "user": {
      "displayName": "Omkar Hirugade",
      "userId": "16820285763758153216"
     },
     "user_tz": -330
    },
    "id": "7bDhNVnQ1CYc"
   },
   "outputs": [],
   "source": [
    "from sklearn.preprocessing import  LabelEncoder\n",
    "encoder = LabelEncoder()\n",
    "catogorical_df['store_and_fwd_flag']=encoder.fit_transform(test_df['store_and_fwd_flag'])\n",
    "catogorical_df['pickup_day']=encoder.fit_transform(test_df['pickup_day'])\n",
    "catogorical_df['pickup_month']=encoder.fit_transform(test_df['pickup_month'])\n",
    "catogorical_df['pickup_location']=encoder.fit_transform(test_df['pickup_location'])\n",
    "catogorical_df['dropoff_location']=encoder.fit_transform(test_df['dropoff_location'])"
   ]
  },
  {
   "cell_type": "code",
   "execution_count": 143,
   "metadata": {
    "executionInfo": {
     "elapsed": 28,
     "status": "ok",
     "timestamp": 1656596515556,
     "user": {
      "displayName": "Omkar Hirugade",
      "userId": "16820285763758153216"
     },
     "user_tz": -330
    },
    "id": "SWpE_f131CYc"
   },
   "outputs": [],
   "source": [
    "test_input_df=numerical_df.merge(catogorical_df,left_on='id', right_on='id')\n",
    "test_input_df=test_input_df.drop(['id'],axis='columns')"
   ]
  },
  {
   "cell_type": "markdown",
   "metadata": {
    "id": "6iHSKgEK1CYc"
   },
   "source": [
    "# Making predictions on the test data"
   ]
  },
  {
   "cell_type": "code",
   "execution_count": 144,
   "metadata": {
    "executionInfo": {
     "elapsed": 27,
     "status": "ok",
     "timestamp": 1656596515556,
     "user": {
      "displayName": "Omkar Hirugade",
      "userId": "16820285763758153216"
     },
     "user_tz": -330
    },
    "id": "l_CE8aES1CYc"
   },
   "outputs": [],
   "source": [
    "test_preds = model.predict(test_input_df)"
   ]
  },
  {
   "cell_type": "code",
   "execution_count": 145,
   "metadata": {
    "executionInfo": {
     "elapsed": 28,
     "status": "ok",
     "timestamp": 1656596515557,
     "user": {
      "displayName": "Omkar Hirugade",
      "userId": "16820285763758153216"
     },
     "user_tz": -330
    },
    "id": "Fk2tFF6h1CYd"
   },
   "outputs": [],
   "source": [
    "submission_df=test_df[['id']].copy()"
   ]
  },
  {
   "cell_type": "code",
   "execution_count": 146,
   "metadata": {
    "executionInfo": {
     "elapsed": 27,
     "status": "ok",
     "timestamp": 1656596515557,
     "user": {
      "displayName": "Omkar Hirugade",
      "userId": "16820285763758153216"
     },
     "user_tz": -330
    },
    "id": "XwXOqeBe1CYd"
   },
   "outputs": [],
   "source": [
    "submission_df['trip_duration']=test_preds"
   ]
  },
  {
   "cell_type": "code",
   "execution_count": 147,
   "metadata": {
    "colab": {
     "base_uri": "https://localhost:8080/",
     "height": 0
    },
    "executionInfo": {
     "elapsed": 27,
     "status": "ok",
     "timestamp": 1656596515558,
     "user": {
      "displayName": "Omkar Hirugade",
      "userId": "16820285763758153216"
     },
     "user_tz": -330
    },
    "id": "3hZzpLD61CYd",
    "outputId": "ddf2e909-1c4f-47cb-cd33-54afb2b01498"
   },
   "outputs": [
    {
     "data": {
      "text/html": [
       "\n",
       "  <div id=\"df-bede8943-6265-4503-ac37-065a6d01ed0e\">\n",
       "    <div class=\"colab-df-container\">\n",
       "      <div>\n",
       "<style scoped>\n",
       "    .dataframe tbody tr th:only-of-type {\n",
       "        vertical-align: middle;\n",
       "    }\n",
       "\n",
       "    .dataframe tbody tr th {\n",
       "        vertical-align: top;\n",
       "    }\n",
       "\n",
       "    .dataframe thead th {\n",
       "        text-align: right;\n",
       "    }\n",
       "</style>\n",
       "<table border=\"1\" class=\"dataframe\">\n",
       "  <thead>\n",
       "    <tr style=\"text-align: right;\">\n",
       "      <th></th>\n",
       "      <th>id</th>\n",
       "      <th>trip_duration</th>\n",
       "    </tr>\n",
       "  </thead>\n",
       "  <tbody>\n",
       "    <tr>\n",
       "      <th>0</th>\n",
       "      <td>id3004672</td>\n",
       "      <td>812.557007</td>\n",
       "    </tr>\n",
       "    <tr>\n",
       "      <th>1</th>\n",
       "      <td>id3505355</td>\n",
       "      <td>1256.600952</td>\n",
       "    </tr>\n",
       "    <tr>\n",
       "      <th>2</th>\n",
       "      <td>id1217141</td>\n",
       "      <td>404.700470</td>\n",
       "    </tr>\n",
       "    <tr>\n",
       "      <th>3</th>\n",
       "      <td>id2150126</td>\n",
       "      <td>1601.774536</td>\n",
       "    </tr>\n",
       "    <tr>\n",
       "      <th>4</th>\n",
       "      <td>id1598245</td>\n",
       "      <td>448.065613</td>\n",
       "    </tr>\n",
       "    <tr>\n",
       "      <th>5</th>\n",
       "      <td>id0668992</td>\n",
       "      <td>1154.280151</td>\n",
       "    </tr>\n",
       "    <tr>\n",
       "      <th>6</th>\n",
       "      <td>id1765014</td>\n",
       "      <td>1172.125122</td>\n",
       "    </tr>\n",
       "    <tr>\n",
       "      <th>7</th>\n",
       "      <td>id0898117</td>\n",
       "      <td>1433.855469</td>\n",
       "    </tr>\n",
       "    <tr>\n",
       "      <th>8</th>\n",
       "      <td>id3905224</td>\n",
       "      <td>2100.426270</td>\n",
       "    </tr>\n",
       "    <tr>\n",
       "      <th>9</th>\n",
       "      <td>id1543102</td>\n",
       "      <td>847.526062</td>\n",
       "    </tr>\n",
       "    <tr>\n",
       "      <th>10</th>\n",
       "      <td>id3024712</td>\n",
       "      <td>1599.662720</td>\n",
       "    </tr>\n",
       "    <tr>\n",
       "      <th>11</th>\n",
       "      <td>id3665810</td>\n",
       "      <td>464.000885</td>\n",
       "    </tr>\n",
       "    <tr>\n",
       "      <th>12</th>\n",
       "      <td>id1836461</td>\n",
       "      <td>651.148743</td>\n",
       "    </tr>\n",
       "    <tr>\n",
       "      <th>13</th>\n",
       "      <td>id3457080</td>\n",
       "      <td>990.777466</td>\n",
       "    </tr>\n",
       "    <tr>\n",
       "      <th>14</th>\n",
       "      <td>id3376065</td>\n",
       "      <td>1541.920898</td>\n",
       "    </tr>\n",
       "    <tr>\n",
       "      <th>15</th>\n",
       "      <td>id3008739</td>\n",
       "      <td>1823.985840</td>\n",
       "    </tr>\n",
       "    <tr>\n",
       "      <th>16</th>\n",
       "      <td>id0902216</td>\n",
       "      <td>1360.143677</td>\n",
       "    </tr>\n",
       "    <tr>\n",
       "      <th>17</th>\n",
       "      <td>id3564824</td>\n",
       "      <td>411.500122</td>\n",
       "    </tr>\n",
       "    <tr>\n",
       "      <th>18</th>\n",
       "      <td>id0820280</td>\n",
       "      <td>357.685608</td>\n",
       "    </tr>\n",
       "    <tr>\n",
       "      <th>19</th>\n",
       "      <td>id0775088</td>\n",
       "      <td>1850.080566</td>\n",
       "    </tr>\n",
       "  </tbody>\n",
       "</table>\n",
       "</div>\n",
       "      <button class=\"colab-df-convert\" onclick=\"convertToInteractive('df-bede8943-6265-4503-ac37-065a6d01ed0e')\"\n",
       "              title=\"Convert this dataframe to an interactive table.\"\n",
       "              style=\"display:none;\">\n",
       "        \n",
       "  <svg xmlns=\"http://www.w3.org/2000/svg\" height=\"24px\"viewBox=\"0 0 24 24\"\n",
       "       width=\"24px\">\n",
       "    <path d=\"M0 0h24v24H0V0z\" fill=\"none\"/>\n",
       "    <path d=\"M18.56 5.44l.94 2.06.94-2.06 2.06-.94-2.06-.94-.94-2.06-.94 2.06-2.06.94zm-11 1L8.5 8.5l.94-2.06 2.06-.94-2.06-.94L8.5 2.5l-.94 2.06-2.06.94zm10 10l.94 2.06.94-2.06 2.06-.94-2.06-.94-.94-2.06-.94 2.06-2.06.94z\"/><path d=\"M17.41 7.96l-1.37-1.37c-.4-.4-.92-.59-1.43-.59-.52 0-1.04.2-1.43.59L10.3 9.45l-7.72 7.72c-.78.78-.78 2.05 0 2.83L4 21.41c.39.39.9.59 1.41.59.51 0 1.02-.2 1.41-.59l7.78-7.78 2.81-2.81c.8-.78.8-2.07 0-2.86zM5.41 20L4 18.59l7.72-7.72 1.47 1.35L5.41 20z\"/>\n",
       "  </svg>\n",
       "      </button>\n",
       "      \n",
       "  <style>\n",
       "    .colab-df-container {\n",
       "      display:flex;\n",
       "      flex-wrap:wrap;\n",
       "      gap: 12px;\n",
       "    }\n",
       "\n",
       "    .colab-df-convert {\n",
       "      background-color: #E8F0FE;\n",
       "      border: none;\n",
       "      border-radius: 50%;\n",
       "      cursor: pointer;\n",
       "      display: none;\n",
       "      fill: #1967D2;\n",
       "      height: 32px;\n",
       "      padding: 0 0 0 0;\n",
       "      width: 32px;\n",
       "    }\n",
       "\n",
       "    .colab-df-convert:hover {\n",
       "      background-color: #E2EBFA;\n",
       "      box-shadow: 0px 1px 2px rgba(60, 64, 67, 0.3), 0px 1px 3px 1px rgba(60, 64, 67, 0.15);\n",
       "      fill: #174EA6;\n",
       "    }\n",
       "\n",
       "    [theme=dark] .colab-df-convert {\n",
       "      background-color: #3B4455;\n",
       "      fill: #D2E3FC;\n",
       "    }\n",
       "\n",
       "    [theme=dark] .colab-df-convert:hover {\n",
       "      background-color: #434B5C;\n",
       "      box-shadow: 0px 1px 3px 1px rgba(0, 0, 0, 0.15);\n",
       "      filter: drop-shadow(0px 1px 2px rgba(0, 0, 0, 0.3));\n",
       "      fill: #FFFFFF;\n",
       "    }\n",
       "  </style>\n",
       "\n",
       "      <script>\n",
       "        const buttonEl =\n",
       "          document.querySelector('#df-bede8943-6265-4503-ac37-065a6d01ed0e button.colab-df-convert');\n",
       "        buttonEl.style.display =\n",
       "          google.colab.kernel.accessAllowed ? 'block' : 'none';\n",
       "\n",
       "        async function convertToInteractive(key) {\n",
       "          const element = document.querySelector('#df-bede8943-6265-4503-ac37-065a6d01ed0e');\n",
       "          const dataTable =\n",
       "            await google.colab.kernel.invokeFunction('convertToInteractive',\n",
       "                                                     [key], {});\n",
       "          if (!dataTable) return;\n",
       "\n",
       "          const docLinkHtml = 'Like what you see? Visit the ' +\n",
       "            '<a target=\"_blank\" href=https://colab.research.google.com/notebooks/data_table.ipynb>data table notebook</a>'\n",
       "            + ' to learn more about interactive tables.';\n",
       "          element.innerHTML = '';\n",
       "          dataTable['output_type'] = 'display_data';\n",
       "          await google.colab.output.renderOutput(dataTable, element);\n",
       "          const docLink = document.createElement('div');\n",
       "          docLink.innerHTML = docLinkHtml;\n",
       "          element.appendChild(docLink);\n",
       "        }\n",
       "      </script>\n",
       "    </div>\n",
       "  </div>\n",
       "  "
      ],
      "text/plain": [
       "           id  trip_duration\n",
       "0   id3004672  812.557007   \n",
       "1   id3505355  1256.600952  \n",
       "2   id1217141  404.700470   \n",
       "3   id2150126  1601.774536  \n",
       "4   id1598245  448.065613   \n",
       "5   id0668992  1154.280151  \n",
       "6   id1765014  1172.125122  \n",
       "7   id0898117  1433.855469  \n",
       "8   id3905224  2100.426270  \n",
       "9   id1543102  847.526062   \n",
       "10  id3024712  1599.662720  \n",
       "11  id3665810  464.000885   \n",
       "12  id1836461  651.148743   \n",
       "13  id3457080  990.777466   \n",
       "14  id3376065  1541.920898  \n",
       "15  id3008739  1823.985840  \n",
       "16  id0902216  1360.143677  \n",
       "17  id3564824  411.500122   \n",
       "18  id0820280  357.685608   \n",
       "19  id0775088  1850.080566  "
      ]
     },
     "execution_count": 147,
     "metadata": {},
     "output_type": "execute_result"
    }
   ],
   "source": [
    "submission_df"
   ]
  },
  {
   "cell_type": "code",
   "execution_count": null,
   "metadata": {
    "colab": {
     "base_uri": "https://localhost:8080/"
    },
    "id": "UIRYUMeA1CYd",
    "outputId": "8a991981-14ea-4e3f-e62b-97f0dd14fb52"
   },
   "outputs": [
    {
     "name": "stdout",
     "output_type": "stream",
     "text": [
      "[jovian] Detected Colab notebook...\u001b[0m\n",
      "[jovian] Please enter your API key ( from https://jovian.ai/ ):\u001b[0m\n",
      "API KEY: "
     ]
    }
   ],
   "source": [
    "# Execute this to save new versions of the notebook\n",
    "jovian.commit(project=\"taxi-trip-duration-prediction\")"
   ]
  },
  {
   "cell_type": "code",
   "execution_count": null,
   "metadata": {
    "id": "pG3fWTeK1CYd"
   },
   "outputs": [],
   "source": []
  }
 ],
 "metadata": {
  "colab": {
   "name": "taxi-trip-duration-prediction-Copy1.ipynb",
   "provenance": []
  },
  "language_info": {
   "codemirror_mode": {
    "name": "ipython",
    "version": 3
   },
   "file_extension": ".py",
   "mimetype": "text/x-python",
   "name": "python",
   "nbconvert_exporter": "python",
   "pygments_lexer": "ipython3",
   "version": "3.9.6"
  }
 },
 "nbformat": 4,
 "nbformat_minor": 0
}